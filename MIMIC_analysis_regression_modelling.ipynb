{
 "cells": [
  {
   "cell_type": "code",
   "execution_count": 1,
   "id": "b6e8b2d2-1452-4977-95c0-b9d5d38ea876",
   "metadata": {},
   "outputs": [],
   "source": [
    "import pandas as pd\n",
    "import numpy as np\n",
    "import matplotlib.pyplot as plt\n",
    "import seaborn as sns"
   ]
  },
  {
   "cell_type": "code",
   "execution_count": 2,
   "id": "93befea9-191d-4804-a31e-89d8083992bf",
   "metadata": {},
   "outputs": [
    {
     "name": "stdout",
     "output_type": "stream",
     "text": [
      "   subject_id   stay_id            charttime  itemid  valuenum_normalized\n",
      "0    10002428  38875437  2156-04-22 07:00:00  220339             0.333333\n",
      "1    10002428  38875437  2156-04-22 07:00:00  223835             0.240506\n",
      "2    10002428  38875437  2156-04-22 07:00:00  224685             0.437000\n",
      "3    10002428  38875437  2156-04-22 07:00:00  224687             0.600000\n",
      "4    10002428  38875437  2156-04-22 07:00:00  224688             0.440000\n"
     ]
    }
   ],
   "source": [
    "file_path = '/Users/mmurali1/Documents/Imperial/MIMICIV_analysis/ventilation_cleaned.csv'\n",
    "\n",
    "# Load the CSV into a DataFrame\n",
    "ventilation = pd.read_csv(file_path)\n",
    "\n",
    "# Display the first few rows to confirm it loaded correctly\n",
    "print(ventilation.head())"
   ]
  },
  {
   "cell_type": "code",
   "execution_count": 3,
   "id": "9a164574-b840-457b-a5b5-ec1ca3134542",
   "metadata": {},
   "outputs": [
    {
     "name": "stdout",
     "output_type": "stream",
     "text": [
      "   original_index  subject_id     hadm_id   stay_id  hadm_no  stay_no  \\\n",
      "0              16    10002428  28662225.0  38875437        1        1   \n",
      "1              17    10002428  28662225.0  38875437        1        1   \n",
      "2              18    10002428  28662225.0  38875437        1        1   \n",
      "3              19    10002428  28662225.0  38875437        1        1   \n",
      "4              20    10002428  28662225.0  38875437        1        1   \n",
      "\n",
      "  intubation_time ventilation_starttime  ventilation_endtime  \\\n",
      "0             NaN   2156-04-19 20:10:00  2156-04-22 17:05:00   \n",
      "1             NaN   2156-04-19 20:10:00  2156-04-22 17:05:00   \n",
      "2             NaN   2156-04-19 20:10:00  2156-04-22 17:05:00   \n",
      "3             NaN   2156-04-19 20:10:00  2156-04-22 17:05:00   \n",
      "4             NaN   2156-04-19 20:10:00  2156-04-22 17:05:00   \n",
      "\n",
      "   ventilation_time  ... age  niv_48 reintubation_48  died_48  ext_success  \\\n",
      "0            4135.0  ...  80     NaN             NaN      NaN            1   \n",
      "1            4135.0  ...  80     NaN             NaN      NaN            1   \n",
      "2            4135.0  ...  80     NaN             NaN      NaN            1   \n",
      "3            4135.0  ...  80     NaN             NaN      NaN            1   \n",
      "4            4135.0  ...  80     NaN             NaN      NaN            1   \n",
      "\n",
      "             charttime      mode  mode_code  ventilation_type  support_index  \n",
      "0  2156-04-22 09:00:00  CPAP/PSV       11.0           Support           16.0  \n",
      "1  2156-04-22 12:00:00  CPAP/PSV       11.0           Support           16.0  \n",
      "2  2156-04-22 13:00:00  CPAP/PSV       11.0           Support           16.0  \n",
      "3  2156-04-22 15:00:00  CPAP/PSV       11.0           Support           16.0  \n",
      "4  2156-04-22 16:00:00   PSV/SBT        NaN             Other           16.0  \n",
      "\n",
      "[5 rows x 28 columns]\n"
     ]
    }
   ],
   "source": [
    "file_path = '/Users/mmurali1/Documents/Imperial/MIMICIV_analysis/postwean.csv'\n",
    "\n",
    "# Load the CSV into a DataFrame\n",
    "outcomes = pd.read_csv(file_path)\n",
    "\n",
    "# Display the first few rows to confirm it loaded correctly\n",
    "print(outcomes.head())"
   ]
  },
  {
   "cell_type": "code",
   "execution_count": 4,
   "id": "27b9d2a0-3f1b-4ad2-84b7-ccbbef74a7d0",
   "metadata": {},
   "outputs": [
    {
     "data": {
      "text/html": [
       "<div>\n",
       "<style scoped>\n",
       "    .dataframe tbody tr th:only-of-type {\n",
       "        vertical-align: middle;\n",
       "    }\n",
       "\n",
       "    .dataframe tbody tr th {\n",
       "        vertical-align: top;\n",
       "    }\n",
       "\n",
       "    .dataframe thead th {\n",
       "        text-align: right;\n",
       "    }\n",
       "</style>\n",
       "<table border=\"1\" class=\"dataframe\">\n",
       "  <thead>\n",
       "    <tr style=\"text-align: right;\">\n",
       "      <th></th>\n",
       "      <th>subject_id</th>\n",
       "      <th>stay_id</th>\n",
       "      <th>ventilation_time</th>\n",
       "      <th>ext_success</th>\n",
       "    </tr>\n",
       "  </thead>\n",
       "  <tbody>\n",
       "    <tr>\n",
       "      <th>0</th>\n",
       "      <td>10002428</td>\n",
       "      <td>38875437</td>\n",
       "      <td>4135.0</td>\n",
       "      <td>1</td>\n",
       "    </tr>\n",
       "    <tr>\n",
       "      <th>1</th>\n",
       "      <td>10002428</td>\n",
       "      <td>38875437</td>\n",
       "      <td>4135.0</td>\n",
       "      <td>1</td>\n",
       "    </tr>\n",
       "    <tr>\n",
       "      <th>2</th>\n",
       "      <td>10002428</td>\n",
       "      <td>38875437</td>\n",
       "      <td>4135.0</td>\n",
       "      <td>1</td>\n",
       "    </tr>\n",
       "    <tr>\n",
       "      <th>3</th>\n",
       "      <td>10002428</td>\n",
       "      <td>38875437</td>\n",
       "      <td>4135.0</td>\n",
       "      <td>1</td>\n",
       "    </tr>\n",
       "    <tr>\n",
       "      <th>4</th>\n",
       "      <td>10002428</td>\n",
       "      <td>38875437</td>\n",
       "      <td>4135.0</td>\n",
       "      <td>1</td>\n",
       "    </tr>\n",
       "  </tbody>\n",
       "</table>\n",
       "</div>"
      ],
      "text/plain": [
       "   subject_id   stay_id  ventilation_time  ext_success\n",
       "0    10002428  38875437            4135.0            1\n",
       "1    10002428  38875437            4135.0            1\n",
       "2    10002428  38875437            4135.0            1\n",
       "3    10002428  38875437            4135.0            1\n",
       "4    10002428  38875437            4135.0            1"
      ]
     },
     "execution_count": 4,
     "metadata": {},
     "output_type": "execute_result"
    }
   ],
   "source": [
    "outcomes = outcomes[['subject_id', 'stay_id', 'ventilation_time', 'ext_success']]\n",
    "\n",
    "outcomes.head()"
   ]
  },
  {
   "cell_type": "code",
   "execution_count": 7,
   "id": "4dd05121-65dd-468c-b944-34abece444c4",
   "metadata": {},
   "outputs": [
    {
     "data": {
      "text/plain": [
       "(205449, 4)"
      ]
     },
     "execution_count": 7,
     "metadata": {},
     "output_type": "execute_result"
    }
   ],
   "source": [
    "outcomes.shape"
   ]
  },
  {
   "cell_type": "code",
   "execution_count": 5,
   "id": "791ffd12-ee37-4479-bd01-35205c4c91c1",
   "metadata": {},
   "outputs": [
    {
     "data": {
      "text/plain": [
       "(6460, 4)"
      ]
     },
     "execution_count": 5,
     "metadata": {},
     "output_type": "execute_result"
    }
   ],
   "source": [
    "# Drop duplicate rows in outcomes dataframe\n",
    "\n",
    "outcomes = outcomes.drop_duplicates()\n",
    "outcomes.shape"
   ]
  },
  {
   "cell_type": "code",
   "execution_count": 9,
   "id": "58a8ace9-fb4b-4105-9fda-210e97af72a8",
   "metadata": {},
   "outputs": [
    {
     "name": "stdout",
     "output_type": "stream",
     "text": [
      "Unique subject_ids in outcomes: 5832\n",
      "Unique subject_ids in ventilation: 5832\n"
     ]
    }
   ],
   "source": [
    "print(\"Unique subject_ids in outcomes:\", outcomes['subject_id'].nunique())\n",
    "print(\"Unique subject_ids in ventilation:\", ventilation['subject_id'].nunique())"
   ]
  },
  {
   "cell_type": "code",
   "execution_count": 10,
   "id": "7796da8f-19a2-4521-b64c-ebc87d9ac4d3",
   "metadata": {},
   "outputs": [],
   "source": [
    "# Combine dataframes\n",
    "\n",
    "combined = pd.merge(\n",
    "    ventilation,\n",
    "    outcomes[['subject_id', 'stay_id', 'ext_success']],\n",
    "    on=['subject_id', 'stay_id'],\n",
    "    how='inner'  # \n",
    ")"
   ]
  },
  {
   "cell_type": "code",
   "execution_count": 11,
   "id": "bdc3393d-2aa4-4e1f-98f8-da72f5eaa3dd",
   "metadata": {},
   "outputs": [
    {
     "data": {
      "text/html": [
       "<div>\n",
       "<style scoped>\n",
       "    .dataframe tbody tr th:only-of-type {\n",
       "        vertical-align: middle;\n",
       "    }\n",
       "\n",
       "    .dataframe tbody tr th {\n",
       "        vertical-align: top;\n",
       "    }\n",
       "\n",
       "    .dataframe thead th {\n",
       "        text-align: right;\n",
       "    }\n",
       "</style>\n",
       "<table border=\"1\" class=\"dataframe\">\n",
       "  <thead>\n",
       "    <tr style=\"text-align: right;\">\n",
       "      <th></th>\n",
       "      <th>subject_id</th>\n",
       "      <th>stay_id</th>\n",
       "      <th>charttime</th>\n",
       "      <th>itemid</th>\n",
       "      <th>valuenum_normalized</th>\n",
       "      <th>ext_success</th>\n",
       "    </tr>\n",
       "  </thead>\n",
       "  <tbody>\n",
       "    <tr>\n",
       "      <th>0</th>\n",
       "      <td>10002428</td>\n",
       "      <td>38875437</td>\n",
       "      <td>2156-04-22 07:00:00</td>\n",
       "      <td>220339</td>\n",
       "      <td>0.333333</td>\n",
       "      <td>1</td>\n",
       "    </tr>\n",
       "    <tr>\n",
       "      <th>1</th>\n",
       "      <td>10002428</td>\n",
       "      <td>38875437</td>\n",
       "      <td>2156-04-22 07:00:00</td>\n",
       "      <td>223835</td>\n",
       "      <td>0.240506</td>\n",
       "      <td>1</td>\n",
       "    </tr>\n",
       "    <tr>\n",
       "      <th>2</th>\n",
       "      <td>10002428</td>\n",
       "      <td>38875437</td>\n",
       "      <td>2156-04-22 07:00:00</td>\n",
       "      <td>224685</td>\n",
       "      <td>0.437000</td>\n",
       "      <td>1</td>\n",
       "    </tr>\n",
       "    <tr>\n",
       "      <th>3</th>\n",
       "      <td>10002428</td>\n",
       "      <td>38875437</td>\n",
       "      <td>2156-04-22 07:00:00</td>\n",
       "      <td>224687</td>\n",
       "      <td>0.600000</td>\n",
       "      <td>1</td>\n",
       "    </tr>\n",
       "    <tr>\n",
       "      <th>4</th>\n",
       "      <td>10002428</td>\n",
       "      <td>38875437</td>\n",
       "      <td>2156-04-22 07:00:00</td>\n",
       "      <td>224688</td>\n",
       "      <td>0.440000</td>\n",
       "      <td>1</td>\n",
       "    </tr>\n",
       "  </tbody>\n",
       "</table>\n",
       "</div>"
      ],
      "text/plain": [
       "   subject_id   stay_id            charttime  itemid  valuenum_normalized  \\\n",
       "0    10002428  38875437  2156-04-22 07:00:00  220339             0.333333   \n",
       "1    10002428  38875437  2156-04-22 07:00:00  223835             0.240506   \n",
       "2    10002428  38875437  2156-04-22 07:00:00  224685             0.437000   \n",
       "3    10002428  38875437  2156-04-22 07:00:00  224687             0.600000   \n",
       "4    10002428  38875437  2156-04-22 07:00:00  224688             0.440000   \n",
       "\n",
       "   ext_success  \n",
       "0            1  \n",
       "1            1  \n",
       "2            1  \n",
       "3            1  \n",
       "4            1  "
      ]
     },
     "execution_count": 11,
     "metadata": {},
     "output_type": "execute_result"
    }
   ],
   "source": [
    "combined.head()"
   ]
  },
  {
   "cell_type": "code",
   "execution_count": 12,
   "id": "c385e9d6-69d8-43c6-82ac-f8f109006f10",
   "metadata": {},
   "outputs": [
    {
     "name": "stdout",
     "output_type": "stream",
     "text": [
      "              precision    recall  f1-score   support\n",
      "\n",
      "           0       0.76      0.29      0.42        75\n",
      "           1       0.72      0.95      0.82       144\n",
      "\n",
      "    accuracy                           0.73       219\n",
      "   macro avg       0.74      0.62      0.62       219\n",
      "weighted avg       0.73      0.73      0.68       219\n",
      "\n",
      "ROC AUC: 0.733\n"
     ]
    }
   ],
   "source": [
    "# Perform logistic regression using mean of last 10 values of each included itemid\n",
    "\n",
    "from sklearn.model_selection import train_test_split\n",
    "from sklearn.linear_model import LogisticRegression\n",
    "from sklearn.metrics import classification_report, roc_auc_score\n",
    "\n",
    "combined_sorted = combined.sort_values(['subject_id', 'stay_id', 'itemid', 'charttime'])\n",
    "\n",
    "# Select last 10 values\n",
    "combined_sorted = combined.sort_values(['subject_id', 'stay_id', 'itemid', 'charttime'])\n",
    "\n",
    "last10 = (\n",
    "    combined_sorted\n",
    "    .groupby(['subject_id', 'stay_id', 'itemid'])\n",
    "    .tail(10)\n",
    ")\n",
    "\n",
    "# Aggregate by mean\n",
    "agg = (\n",
    "    last10\n",
    "    .groupby(['subject_id', 'stay_id', 'itemid'])['valuenum_normalized']\n",
    "    .mean()\n",
    "    .reset_index()\n",
    ")\n",
    "\n",
    "# Pivot to wide format (features as columns)\n",
    "vent_features = agg.pivot(index=['subject_id', 'stay_id'],\n",
    "                          columns='itemid',\n",
    "                          values='valuenum_normalized').reset_index()\n",
    "\n",
    "# Attach outcome\n",
    "outcome_df = (\n",
    "    combined[['subject_id', 'stay_id', 'ext_success']]\n",
    "    .drop_duplicates(subset=['subject_id', 'stay_id'])\n",
    ")\n",
    "\n",
    "data = pd.merge(vent_features, outcome_df, on=['subject_id', 'stay_id'], how='inner').dropna()\n",
    "\n",
    "# Prepare data for logistic regression\n",
    "X = data.drop(columns=['subject_id', 'stay_id', 'ext_success'])\n",
    "y = data['ext_success']\n",
    "\n",
    "X_train, X_test, y_train, y_test = train_test_split(X, y, stratify=y, random_state=42)\n",
    "\n",
    "# Fit logistic regression with L1 penalty (Lasso)\n",
    "clf = LogisticRegression(penalty='l1', solver='liblinear', random_state=42)\n",
    "clf.fit(X_train, y_train)\n",
    "\n",
    "# Evaluate performance\n",
    "y_pred = clf.predict(X_test)\n",
    "y_proba = clf.predict_proba(X_test)[:, 1]\n",
    "\n",
    "print(classification_report(y_test, y_pred))\n",
    "print(f\"ROC AUC: {roc_auc_score(y_test, y_proba):.3f}\")"
   ]
  },
  {
   "cell_type": "code",
   "execution_count": 13,
   "id": "a0ea7e71-52f5-4ac4-9d4d-37d0c24ba070",
   "metadata": {},
   "outputs": [
    {
     "name": "stdout",
     "output_type": "stream",
     "text": [
      "\n",
      "Non-zero features selected by L1:\n",
      "220210: 0.205\n",
      "220339: -1.194\n",
      "223849: 0.520\n",
      "224369: 0.048\n",
      "224370: -0.542\n",
      "224373: 0.144\n",
      "224684: 0.004\n",
      "224685: 0.976\n",
      "224687: -0.977\n",
      "224689: 0.203\n",
      "224695: -3.532\n",
      "224700: 0.034\n",
      "224701: -0.022\n"
     ]
    }
   ],
   "source": [
    "# View non-zero coefficients\n",
    "\n",
    "feature_names = X.columns\n",
    "coefficients = clf.coef_[0]\n",
    "non_zero = [(name, coef) for name, coef in zip(feature_names, coefficients) if coef != 0]\n",
    "\n",
    "print(\"\\nNon-zero features selected by L1:\")\n",
    "for name, coef in non_zero:\n",
    "    print(f\"{name}: {coef:.3f}\")"
   ]
  },
  {
   "cell_type": "code",
   "execution_count": 14,
   "id": "7524923c-f720-4f0a-b209-e265c1663955",
   "metadata": {},
   "outputs": [
    {
     "name": "stdout",
     "output_type": "stream",
     "text": [
      "\n",
      "Non-zero features selected by L1 with labels:\n",
      "Respiratory Rate: 0.205\n",
      "PEEP set: -1.194\n",
      "Ventilator Mode: 0.520\n",
      "Sputum Consistency: 0.048\n",
      "Sputum Color: -0.542\n",
      "Sputum Amount: 0.144\n",
      "Tidal Volume (set): 0.004\n",
      "Tidal Volume (observed): 0.976\n",
      "Minute Volume: -0.977\n",
      "Respiratory Rate (spontaneous): 0.203\n",
      "Peak Insp. Pressure: -3.532\n",
      "Total PEEP Level: 0.034\n",
      "PSV Level: -0.022\n"
     ]
    }
   ],
   "source": [
    "# Load the d_items CSV\n",
    "d_items_path = '/Users/mmurali1/Documents/Imperial/MIMICIV_analysis/mimic-iv-3.1/icu/d_items.csv'\n",
    "d_items = pd.read_csv(d_items_path)\n",
    "\n",
    "feature_ids = feature_names.astype(int)\n",
    "\n",
    "# Create a lookup dictionary from d_items: itemid -> label\n",
    "itemid_to_label = dict(zip(d_items['itemid'], d_items['label'])) \n",
    "\n",
    "# Prepare list of (label, coef) for non-zero coefficients\n",
    "non_zero = []\n",
    "for itemid, coef in zip(feature_ids, coefficients):\n",
    "    if coef != 0:\n",
    "        label = itemid_to_label.get(itemid, f'ItemID {itemid}')  # fallback to itemid if no label found\n",
    "        non_zero.append((label, coef))\n",
    "\n",
    "# Print\n",
    "print(\"\\nNon-zero features selected by L1 with labels:\")\n",
    "for label, coef in non_zero:\n",
    "    print(f\"{label}: {coef:.3f}\")"
   ]
  },
  {
   "cell_type": "code",
   "execution_count": 2,
   "id": "e8ac48e1-08f6-4e86-879d-31217e4c772f",
   "metadata": {},
   "outputs": [
    {
     "name": "stdout",
     "output_type": "stream",
     "text": [
      "   subject_id   stay_id            charttime  itemid  valuenum_normalized\n",
      "0    10002428  38875437  2156-04-19 18:17:00  220045             0.524038\n",
      "1    10002428  38875437  2156-04-19 18:25:00  220277             0.910000\n",
      "2    10002428  38875437  2156-04-19 18:27:00  220179             0.411290\n",
      "3    10002428  38875437  2156-04-19 18:27:00  220180             0.257576\n",
      "4    10002428  38875437  2156-04-19 18:27:00  220181             0.310000\n"
     ]
    }
   ],
   "source": [
    "file_path = '/Users/mmurali1/Documents/Imperial/MIMICIV_analysis/vitals_cleaned.csv'\n",
    "\n",
    "# Load the CSV into a DataFrame\n",
    "vitals = pd.read_csv(file_path)\n",
    "\n",
    "# Display the first few rows to confirm it loaded correctly\n",
    "print(vitals.head())"
   ]
  },
  {
   "cell_type": "code",
   "execution_count": 6,
   "id": "2c8b6f7f-20bd-4131-a2ee-c2f950545332",
   "metadata": {},
   "outputs": [
    {
     "name": "stdout",
     "output_type": "stream",
     "text": [
      "Unique subject_ids in outcomes: 5832\n",
      "Unique subject_ids in vitals: 5832\n"
     ]
    }
   ],
   "source": [
    "print(\"Unique subject_ids in outcomes:\", outcomes['subject_id'].nunique())\n",
    "print(\"Unique subject_ids in vitals:\", vitals['subject_id'].nunique())"
   ]
  },
  {
   "cell_type": "code",
   "execution_count": 7,
   "id": "6aa83a0f-81a5-42a0-9081-e6e661fd4e7b",
   "metadata": {},
   "outputs": [],
   "source": [
    "# Combine dataframes\n",
    "\n",
    "combined1 = pd.merge(\n",
    "    vitals,\n",
    "    outcomes[['subject_id', 'stay_id', 'ext_success']],\n",
    "    on=['subject_id', 'stay_id'],\n",
    "    how='inner'   \n",
    ")"
   ]
  },
  {
   "cell_type": "code",
   "execution_count": 8,
   "id": "1938cd5f-2cbe-4e90-a640-cf82316c764d",
   "metadata": {},
   "outputs": [
    {
     "data": {
      "text/html": [
       "<div>\n",
       "<style scoped>\n",
       "    .dataframe tbody tr th:only-of-type {\n",
       "        vertical-align: middle;\n",
       "    }\n",
       "\n",
       "    .dataframe tbody tr th {\n",
       "        vertical-align: top;\n",
       "    }\n",
       "\n",
       "    .dataframe thead th {\n",
       "        text-align: right;\n",
       "    }\n",
       "</style>\n",
       "<table border=\"1\" class=\"dataframe\">\n",
       "  <thead>\n",
       "    <tr style=\"text-align: right;\">\n",
       "      <th></th>\n",
       "      <th>subject_id</th>\n",
       "      <th>stay_id</th>\n",
       "      <th>charttime</th>\n",
       "      <th>itemid</th>\n",
       "      <th>valuenum_normalized</th>\n",
       "      <th>ext_success</th>\n",
       "    </tr>\n",
       "  </thead>\n",
       "  <tbody>\n",
       "    <tr>\n",
       "      <th>0</th>\n",
       "      <td>10002428</td>\n",
       "      <td>38875437</td>\n",
       "      <td>2156-04-19 18:17:00</td>\n",
       "      <td>220045</td>\n",
       "      <td>0.524038</td>\n",
       "      <td>1</td>\n",
       "    </tr>\n",
       "    <tr>\n",
       "      <th>1</th>\n",
       "      <td>10002428</td>\n",
       "      <td>38875437</td>\n",
       "      <td>2156-04-19 18:25:00</td>\n",
       "      <td>220277</td>\n",
       "      <td>0.910000</td>\n",
       "      <td>1</td>\n",
       "    </tr>\n",
       "    <tr>\n",
       "      <th>2</th>\n",
       "      <td>10002428</td>\n",
       "      <td>38875437</td>\n",
       "      <td>2156-04-19 18:27:00</td>\n",
       "      <td>220179</td>\n",
       "      <td>0.411290</td>\n",
       "      <td>1</td>\n",
       "    </tr>\n",
       "    <tr>\n",
       "      <th>3</th>\n",
       "      <td>10002428</td>\n",
       "      <td>38875437</td>\n",
       "      <td>2156-04-19 18:27:00</td>\n",
       "      <td>220180</td>\n",
       "      <td>0.257576</td>\n",
       "      <td>1</td>\n",
       "    </tr>\n",
       "    <tr>\n",
       "      <th>4</th>\n",
       "      <td>10002428</td>\n",
       "      <td>38875437</td>\n",
       "      <td>2156-04-19 18:27:00</td>\n",
       "      <td>220181</td>\n",
       "      <td>0.310000</td>\n",
       "      <td>1</td>\n",
       "    </tr>\n",
       "  </tbody>\n",
       "</table>\n",
       "</div>"
      ],
      "text/plain": [
       "   subject_id   stay_id            charttime  itemid  valuenum_normalized  \\\n",
       "0    10002428  38875437  2156-04-19 18:17:00  220045             0.524038   \n",
       "1    10002428  38875437  2156-04-19 18:25:00  220277             0.910000   \n",
       "2    10002428  38875437  2156-04-19 18:27:00  220179             0.411290   \n",
       "3    10002428  38875437  2156-04-19 18:27:00  220180             0.257576   \n",
       "4    10002428  38875437  2156-04-19 18:27:00  220181             0.310000   \n",
       "\n",
       "   ext_success  \n",
       "0            1  \n",
       "1            1  \n",
       "2            1  \n",
       "3            1  \n",
       "4            1  "
      ]
     },
     "execution_count": 8,
     "metadata": {},
     "output_type": "execute_result"
    }
   ],
   "source": [
    "combined1.head()"
   ]
  },
  {
   "cell_type": "code",
   "execution_count": 10,
   "id": "40b7bcb9-9eb1-421d-8ab6-12ee455f9890",
   "metadata": {},
   "outputs": [
    {
     "name": "stdout",
     "output_type": "stream",
     "text": [
      "              precision    recall  f1-score   support\n",
      "\n",
      "           0       0.87      0.41      0.56       302\n",
      "           1       0.81      0.98      0.89       783\n",
      "\n",
      "    accuracy                           0.82      1085\n",
      "   macro avg       0.84      0.69      0.72      1085\n",
      "weighted avg       0.83      0.82      0.79      1085\n",
      "\n",
      "ROC AUC: 0.795\n"
     ]
    }
   ],
   "source": [
    "# Perform logistic regression using mean of last 10 values of each included itemid\n",
    "\n",
    "from sklearn.model_selection import train_test_split\n",
    "from sklearn.linear_model import LogisticRegression\n",
    "from sklearn.metrics import classification_report, roc_auc_score\n",
    "\n",
    "combined_sorted = combined1.sort_values(['subject_id', 'stay_id', 'itemid', 'charttime'])\n",
    "\n",
    "# Select last 10 values\n",
    "combined_sorted = combined1.sort_values(['subject_id', 'stay_id', 'itemid', 'charttime'])\n",
    "\n",
    "last10 = (\n",
    "    combined_sorted\n",
    "    .groupby(['subject_id', 'stay_id', 'itemid'])\n",
    "    .tail(10)\n",
    ")\n",
    "\n",
    "# Aggregate by mean\n",
    "agg = (\n",
    "    last10\n",
    "    .groupby(['subject_id', 'stay_id', 'itemid'])['valuenum_normalized']\n",
    "    .mean()\n",
    "    .reset_index()\n",
    ")\n",
    "\n",
    "# Pivot to wide format (features as columns)\n",
    "vitals_features = agg.pivot(index=['subject_id', 'stay_id'],\n",
    "                          columns='itemid',\n",
    "                          values='valuenum_normalized').reset_index()\n",
    "\n",
    "# Attach outcome\n",
    "outcome_df = (\n",
    "    combined1[['subject_id', 'stay_id', 'ext_success']]\n",
    "    .drop_duplicates(subset=['subject_id', 'stay_id'])\n",
    ")\n",
    "\n",
    "data = pd.merge(vitals_features, outcome_df, on=['subject_id', 'stay_id'], how='inner').dropna()\n",
    "\n",
    "# Prepare data for logistic regression\n",
    "X = data.drop(columns=['subject_id', 'stay_id', 'ext_success'])\n",
    "y = data['ext_success']\n",
    "\n",
    "X_train, X_test, y_train, y_test = train_test_split(X, y, stratify=y, random_state=42)\n",
    "\n",
    "# Fit logistic regression with L1 penalty (Lasso)\n",
    "clf = LogisticRegression(penalty='l1', solver='liblinear', random_state=42)\n",
    "clf.fit(X_train, y_train)\n",
    "\n",
    "# Evaluate performance\n",
    "y_pred = clf.predict(X_test)\n",
    "y_proba = clf.predict_proba(X_test)[:, 1]\n",
    "\n",
    "print(classification_report(y_test, y_pred))\n",
    "print(f\"ROC AUC: {roc_auc_score(y_test, y_proba):.3f}\")"
   ]
  },
  {
   "cell_type": "code",
   "execution_count": 11,
   "id": "8726e1b3-19f3-49af-8993-83c67c67c3dd",
   "metadata": {},
   "outputs": [
    {
     "name": "stdout",
     "output_type": "stream",
     "text": [
      "\n",
      "Non-zero features selected by L1:\n",
      "220045: -2.801\n",
      "220050: 1.516\n",
      "220052: 5.314\n",
      "220179: 0.327\n",
      "220180: 4.628\n",
      "220277: 12.615\n",
      "223761: -12.481\n",
      "224689: 1.097\n"
     ]
    }
   ],
   "source": [
    "# View non-zero coefficients\n",
    "\n",
    "feature_names = X.columns\n",
    "coefficients = clf.coef_[0]\n",
    "non_zero = [(name, coef) for name, coef in zip(feature_names, coefficients) if coef != 0]\n",
    "\n",
    "print(\"\\nNon-zero features selected by L1:\")\n",
    "for name, coef in non_zero:\n",
    "    print(f\"{name}: {coef:.3f}\")"
   ]
  },
  {
   "cell_type": "code",
   "execution_count": 12,
   "id": "a6c9d618-a983-4499-be02-e911c8ced871",
   "metadata": {},
   "outputs": [
    {
     "name": "stdout",
     "output_type": "stream",
     "text": [
      "\n",
      "Non-zero features selected by L1 with labels:\n",
      "Heart Rate: -2.801\n",
      "Arterial Blood Pressure systolic: 1.516\n",
      "Arterial Blood Pressure mean: 5.314\n",
      "Non Invasive Blood Pressure systolic: 0.327\n",
      "Non Invasive Blood Pressure diastolic: 4.628\n",
      "O2 saturation pulseoxymetry: 12.615\n",
      "Temperature Fahrenheit: -12.481\n",
      "Respiratory Rate (spontaneous): 1.097\n"
     ]
    }
   ],
   "source": [
    "# Load the d_items CSV\n",
    "d_items_path = '/Users/mmurali1/Documents/Imperial/MIMICIV_analysis/mimic-iv-3.1/icu/d_items.csv'\n",
    "d_items = pd.read_csv(d_items_path)\n",
    "\n",
    "feature_ids = feature_names.astype(int)\n",
    "\n",
    "# Create a lookup dictionary from d_items: itemid -> label\n",
    "itemid_to_label = dict(zip(d_items['itemid'], d_items['label'])) \n",
    "\n",
    "# Prepare list of (label, coef) for non-zero coefficients\n",
    "non_zero = []\n",
    "for itemid, coef in zip(feature_ids, coefficients):\n",
    "    if coef != 0:\n",
    "        label = itemid_to_label.get(itemid, f'ItemID {itemid}')  # fallback to itemid if no label found\n",
    "        non_zero.append((label, coef))\n",
    "\n",
    "# Print\n",
    "print(\"\\nNon-zero features selected by L1 with labels:\")\n",
    "for label, coef in non_zero:\n",
    "    print(f\"{label}: {coef:.3f}\")"
   ]
  },
  {
   "cell_type": "code",
   "execution_count": 14,
   "id": "a717d2d1-feb3-4336-bc90-ed2ef941e4b8",
   "metadata": {},
   "outputs": [
    {
     "name": "stdout",
     "output_type": "stream",
     "text": [
      "   subject_id            charttime  itemid  valuenum_normalized\n",
      "0    10002428  2156-04-12 10:29:00   50813             0.075862\n",
      "1    10002428  2156-04-12 12:24:00   50813             0.068966\n",
      "2    10002428  2156-04-12 19:49:00   50813             0.055172\n",
      "3    10002428  2156-04-13 01:58:00   50813             0.051724\n",
      "4    10002428  2156-04-13 06:23:00   50813             0.062069\n"
     ]
    }
   ],
   "source": [
    "file_path = '/Users/mmurali1/Documents/Imperial/MIMICIV_analysis/bloodgas_cleaned.csv'\n",
    "\n",
    "# Load the CSV into a DataFrame\n",
    "bloodgas = pd.read_csv(file_path)\n",
    "\n",
    "# Display the first few rows to confirm it loaded correctly\n",
    "print(bloodgas.head())"
   ]
  },
  {
   "cell_type": "code",
   "execution_count": 15,
   "id": "8108816b-b661-48d5-ad6a-68ec57852321",
   "metadata": {},
   "outputs": [
    {
     "name": "stdout",
     "output_type": "stream",
     "text": [
      "Unique subject_ids in outcomes: 5832\n",
      "Unique subject_ids in vitals: 5818\n"
     ]
    }
   ],
   "source": [
    "print(\"Unique subject_ids in outcomes:\", outcomes['subject_id'].nunique())\n",
    "print(\"Unique subject_ids in vitals:\", bloodgas['subject_id'].nunique())"
   ]
  },
  {
   "cell_type": "code",
   "execution_count": 18,
   "id": "7da2112d-1f28-41a6-a344-bd8f3e28e97a",
   "metadata": {},
   "outputs": [],
   "source": [
    "# Combine dataframes\n",
    "\n",
    "combined2 = pd.merge(\n",
    "    bloodgas,\n",
    "    outcomes[['subject_id', 'ext_success']],\n",
    "    on=['subject_id'],\n",
    "    how='inner'   \n",
    ")"
   ]
  },
  {
   "cell_type": "code",
   "execution_count": 19,
   "id": "084c509c-4080-48a6-98c3-9beb298e9df0",
   "metadata": {},
   "outputs": [
    {
     "data": {
      "text/html": [
       "<div>\n",
       "<style scoped>\n",
       "    .dataframe tbody tr th:only-of-type {\n",
       "        vertical-align: middle;\n",
       "    }\n",
       "\n",
       "    .dataframe tbody tr th {\n",
       "        vertical-align: top;\n",
       "    }\n",
       "\n",
       "    .dataframe thead th {\n",
       "        text-align: right;\n",
       "    }\n",
       "</style>\n",
       "<table border=\"1\" class=\"dataframe\">\n",
       "  <thead>\n",
       "    <tr style=\"text-align: right;\">\n",
       "      <th></th>\n",
       "      <th>subject_id</th>\n",
       "      <th>charttime</th>\n",
       "      <th>itemid</th>\n",
       "      <th>valuenum_normalized</th>\n",
       "      <th>ext_success</th>\n",
       "    </tr>\n",
       "  </thead>\n",
       "  <tbody>\n",
       "    <tr>\n",
       "      <th>0</th>\n",
       "      <td>10002428</td>\n",
       "      <td>2156-04-12 10:29:00</td>\n",
       "      <td>50813</td>\n",
       "      <td>0.075862</td>\n",
       "      <td>1</td>\n",
       "    </tr>\n",
       "    <tr>\n",
       "      <th>1</th>\n",
       "      <td>10002428</td>\n",
       "      <td>2156-04-12 12:24:00</td>\n",
       "      <td>50813</td>\n",
       "      <td>0.068966</td>\n",
       "      <td>1</td>\n",
       "    </tr>\n",
       "    <tr>\n",
       "      <th>2</th>\n",
       "      <td>10002428</td>\n",
       "      <td>2156-04-12 19:49:00</td>\n",
       "      <td>50813</td>\n",
       "      <td>0.055172</td>\n",
       "      <td>1</td>\n",
       "    </tr>\n",
       "    <tr>\n",
       "      <th>3</th>\n",
       "      <td>10002428</td>\n",
       "      <td>2156-04-13 01:58:00</td>\n",
       "      <td>50813</td>\n",
       "      <td>0.051724</td>\n",
       "      <td>1</td>\n",
       "    </tr>\n",
       "    <tr>\n",
       "      <th>4</th>\n",
       "      <td>10002428</td>\n",
       "      <td>2156-04-13 06:23:00</td>\n",
       "      <td>50813</td>\n",
       "      <td>0.062069</td>\n",
       "      <td>1</td>\n",
       "    </tr>\n",
       "  </tbody>\n",
       "</table>\n",
       "</div>"
      ],
      "text/plain": [
       "   subject_id            charttime  itemid  valuenum_normalized  ext_success\n",
       "0    10002428  2156-04-12 10:29:00   50813             0.075862            1\n",
       "1    10002428  2156-04-12 12:24:00   50813             0.068966            1\n",
       "2    10002428  2156-04-12 19:49:00   50813             0.055172            1\n",
       "3    10002428  2156-04-13 01:58:00   50813             0.051724            1\n",
       "4    10002428  2156-04-13 06:23:00   50813             0.062069            1"
      ]
     },
     "execution_count": 19,
     "metadata": {},
     "output_type": "execute_result"
    }
   ],
   "source": [
    "combined2.head()"
   ]
  },
  {
   "cell_type": "code",
   "execution_count": 23,
   "id": "6dd3887d-d213-4ffe-bbdf-dc530a85b55f",
   "metadata": {},
   "outputs": [
    {
     "name": "stdout",
     "output_type": "stream",
     "text": [
      "              precision    recall  f1-score   support\n",
      "\n",
      "           0       0.67      0.11      0.19        91\n",
      "           1       0.76      0.98      0.86       266\n",
      "\n",
      "    accuracy                           0.76       357\n",
      "   macro avg       0.71      0.55      0.52       357\n",
      "weighted avg       0.74      0.76      0.69       357\n",
      "\n",
      "ROC AUC: 0.637\n"
     ]
    }
   ],
   "source": [
    "# Perform logistic regression using mean of last 10 values of each included itemid\n",
    "\n",
    "from sklearn.model_selection import train_test_split\n",
    "from sklearn.linear_model import LogisticRegression\n",
    "from sklearn.metrics import classification_report, roc_auc_score\n",
    "\n",
    "combined_sorted = combined2.sort_values(['subject_id', 'itemid', 'charttime'])\n",
    "\n",
    "# Select last 10 values\n",
    "combined_sorted = combined2.sort_values(['subject_id', 'itemid', 'charttime'])\n",
    "\n",
    "last10 = (\n",
    "    combined_sorted\n",
    "    .groupby(['subject_id', 'itemid'])\n",
    "    .tail(10)\n",
    ")\n",
    "\n",
    "# Aggregate by mean\n",
    "agg = (\n",
    "    last10\n",
    "    .groupby(['subject_id', 'itemid'])['valuenum_normalized']\n",
    "    .mean()\n",
    "    .reset_index()\n",
    ")\n",
    "\n",
    "# Pivot to wide format (features as columns)\n",
    "bloodgas_features = agg.pivot(index=['subject_id'],\n",
    "                          columns='itemid',\n",
    "                          values='valuenum_normalized').reset_index()\n",
    "\n",
    "# Attach outcome\n",
    "outcome_df = (\n",
    "    combined2[['subject_id', 'ext_success']]\n",
    "    .drop_duplicates(subset=['subject_id']\n",
    "))\n",
    "\n",
    "data = pd.merge(bloodgas_features, outcome_df, on=['subject_id'], how='inner').dropna()\n",
    "\n",
    "# Prepare data for logistic regression\n",
    "X = data.drop(columns=['subject_id', 'ext_success'])\n",
    "y = data['ext_success']\n",
    "\n",
    "X_train, X_test, y_train, y_test = train_test_split(X, y, stratify=y, random_state=42)\n",
    "\n",
    "# Fit logistic regression with L1 penalty (Lasso)\n",
    "clf = LogisticRegression(penalty='l1', solver='liblinear', random_state=42)\n",
    "clf.fit(X_train, y_train)\n",
    "\n",
    "# Evaluate performance\n",
    "y_pred = clf.predict(X_test)\n",
    "y_proba = clf.predict_proba(X_test)[:, 1]\n",
    "\n",
    "print(classification_report(y_test, y_pred))\n",
    "print(f\"ROC AUC: {roc_auc_score(y_test, y_proba):.3f}\")"
   ]
  },
  {
   "cell_type": "code",
   "execution_count": 24,
   "id": "fa13d48c-8295-42c8-9faa-71d9d20a1271",
   "metadata": {},
   "outputs": [
    {
     "name": "stdout",
     "output_type": "stream",
     "text": [
      "\n",
      "Non-zero features selected by L1:\n",
      "50802: 2.506\n",
      "50803: -1.228\n",
      "50806: 0.801\n",
      "50811: 0.320\n",
      "50813: -2.637\n",
      "50818: -5.186\n",
      "50820: 2.816\n",
      "50821: 0.139\n",
      "50822: -1.086\n"
     ]
    }
   ],
   "source": [
    "# View non-zero coefficients\n",
    "\n",
    "feature_names = X.columns\n",
    "coefficients = clf.coef_[0]\n",
    "non_zero = [(name, coef) for name, coef in zip(feature_names, coefficients) if coef != 0]\n",
    "\n",
    "print(\"\\nNon-zero features selected by L1:\")\n",
    "for name, coef in non_zero:\n",
    "    print(f\"{name}: {coef:.3f}\")"
   ]
  },
  {
   "cell_type": "code",
   "execution_count": 26,
   "id": "e289971d-cac1-4ff5-91bb-08f6735ff64a",
   "metadata": {},
   "outputs": [
    {
     "name": "stdout",
     "output_type": "stream",
     "text": [
      "\n",
      "Non-zero features selected by L1 with labels:\n",
      "Base Excess: 2.506\n",
      "Calculated Bicarbonate, Whole Blood: -1.228\n",
      "Chloride, Whole Blood: 0.801\n",
      "Hemoglobin: 0.320\n",
      "Lactate: -2.637\n",
      "pCO2: -5.186\n",
      "pH: 2.816\n",
      "pO2: 0.139\n",
      "Potassium, Whole Blood: -1.086\n"
     ]
    }
   ],
   "source": [
    "# Load the d_items CSV\n",
    "d_labitems_path = '/Users/mmurali1/Documents/Imperial/MIMICIV_analysis/mimic-iv-3.1/hosp/d_labitems_2.csv'\n",
    "d_labitems = pd.read_csv(d_labitems_path)\n",
    "\n",
    "feature_ids = feature_names.astype(int)\n",
    "\n",
    "# Create a lookup dictionary from d_items: itemid -> label\n",
    "itemid_to_label = dict(zip(d_labitems['itemid'], d_labitems['label'])) \n",
    "\n",
    "# Prepare list of (label, coef) for non-zero coefficients\n",
    "non_zero = []\n",
    "for itemid, coef in zip(feature_ids, coefficients):\n",
    "    if coef != 0:\n",
    "        label = itemid_to_label.get(itemid, f'ItemID {itemid}')  # fallback to itemid if no label found\n",
    "        non_zero.append((label, coef))\n",
    "\n",
    "# Print\n",
    "print(\"\\nNon-zero features selected by L1 with labels:\")\n",
    "for label, coef in non_zero:\n",
    "    print(f\"{label}: {coef:.3f}\")"
   ]
  },
  {
   "cell_type": "code",
   "execution_count": null,
   "id": "95b29120-4dc2-4f5a-9cb1-7f90a2e3e4e6",
   "metadata": {},
   "outputs": [],
   "source": []
  }
 ],
 "metadata": {
  "kernelspec": {
   "display_name": "Python 3 (ipykernel)",
   "language": "python",
   "name": "python3"
  },
  "language_info": {
   "codemirror_mode": {
    "name": "ipython",
    "version": 3
   },
   "file_extension": ".py",
   "mimetype": "text/x-python",
   "name": "python",
   "nbconvert_exporter": "python",
   "pygments_lexer": "ipython3",
   "version": "3.12.7"
  }
 },
 "nbformat": 4,
 "nbformat_minor": 5
}
