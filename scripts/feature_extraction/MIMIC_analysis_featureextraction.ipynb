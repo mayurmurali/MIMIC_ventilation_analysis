{
 "cells": [
  {
   "cell_type": "code",
   "execution_count": 1,
   "id": "aa806ce8-f28d-4edc-992d-358baec26290",
   "metadata": {},
   "outputs": [],
   "source": [
    "import pandas as pd\n",
    "import numpy as np\n",
    "import sqlite3\n",
    "import os"
   ]
  },
  {
   "cell_type": "code",
   "execution_count": 2,
   "id": "4ce25408-0e38-44f1-b2aa-d08b0d7e69c2",
   "metadata": {},
   "outputs": [
    {
     "name": "stdout",
     "output_type": "stream",
     "text": [
      "   original_index  subject_id     hadm_id   stay_id  hadm_no  stay_no  \\\n",
      "0              16    10002428  28662225.0  38875437        1        1   \n",
      "1              17    10002428  28662225.0  38875437        1        1   \n",
      "2              18    10002428  28662225.0  38875437        1        1   \n",
      "3              19    10002428  28662225.0  38875437        1        1   \n",
      "4              20    10002428  28662225.0  38875437        1        1   \n",
      "\n",
      "  intubation_time ventilation_starttime  ventilation_endtime  \\\n",
      "0             NaN   2156-04-19 20:10:00  2156-04-22 17:05:00   \n",
      "1             NaN   2156-04-19 20:10:00  2156-04-22 17:05:00   \n",
      "2             NaN   2156-04-19 20:10:00  2156-04-22 17:05:00   \n",
      "3             NaN   2156-04-19 20:10:00  2156-04-22 17:05:00   \n",
      "4             NaN   2156-04-19 20:10:00  2156-04-22 17:05:00   \n",
      "\n",
      "   ventilation_time  ... age  niv_48 reintubation_48  died_48  ext_success  \\\n",
      "0            4135.0  ...  80     NaN             NaN      NaN            1   \n",
      "1            4135.0  ...  80     NaN             NaN      NaN            1   \n",
      "2            4135.0  ...  80     NaN             NaN      NaN            1   \n",
      "3            4135.0  ...  80     NaN             NaN      NaN            1   \n",
      "4            4135.0  ...  80     NaN             NaN      NaN            1   \n",
      "\n",
      "             charttime      mode  mode_code  ventilation_type  support_index  \n",
      "0  2156-04-22 09:00:00  CPAP/PSV       11.0           Support           16.0  \n",
      "1  2156-04-22 12:00:00  CPAP/PSV       11.0           Support           16.0  \n",
      "2  2156-04-22 13:00:00  CPAP/PSV       11.0           Support           16.0  \n",
      "3  2156-04-22 15:00:00  CPAP/PSV       11.0           Support           16.0  \n",
      "4  2156-04-22 16:00:00   PSV/SBT        NaN             Other           16.0  \n",
      "\n",
      "[5 rows x 28 columns]\n"
     ]
    }
   ],
   "source": [
    "file_path = '/Users/mmurali1/Documents/Imperial/MIMICIV_analysis/postwean.csv'\n",
    "\n",
    "# Load the CSV into a DataFrame\n",
    "patients = pd.read_csv(file_path)\n",
    "\n",
    "# Display the first few rows to confirm it loaded correctly\n",
    "print(patients.head())"
   ]
  },
  {
   "cell_type": "code",
   "execution_count": 10,
   "id": "c85c96ad-56e5-4942-b7b4-84da880ef78f",
   "metadata": {},
   "outputs": [
    {
     "name": "stdout",
     "output_type": "stream",
     "text": [
      "✅ SQLite database created and data imported.\n"
     ]
    }
   ],
   "source": [
    "import sqlite3\n",
    "import os\n",
    "\n",
    "# File path to CSV\n",
    "csv_path = \"/Users/mmurali1/Documents/Imperial/MIMICIV_analysis/mimic-iv-3.1/icu/chartevents.csv\"\n",
    "\n",
    "# Create SQLite database\n",
    "db_path = \"/Users/mmurali1/Documents/Imperial/MIMICIV_analysis/chartevents.db\"\n",
    "conn = sqlite3.connect(db_path)\n",
    "\n",
    "# Read and write in chunks\n",
    "chunksize = 100_000\n",
    "for chunk in pd.read_csv(csv_path, chunksize=chunksize):\n",
    "    chunk.to_sql(\"chartevents\", conn, if_exists=\"append\", index=False)\n",
    "\n",
    "print(\"✅ SQLite database created and data imported.\")"
   ]
  },
  {
   "cell_type": "code",
   "execution_count": 3,
   "id": "8a2e73dd-6c3d-4012-a03a-f7e5c1079a5e",
   "metadata": {},
   "outputs": [],
   "source": [
    "db_path = \"/Users/mmurali1/Documents/Imperial/MIMICIV_analysis/chartevents.db\""
   ]
  },
  {
   "cell_type": "code",
   "execution_count": 4,
   "id": "561b62cf-8279-4eac-8d8d-528b4a39e417",
   "metadata": {},
   "outputs": [],
   "source": [
    "def query_chartevents_features(patients, features, db_path):\n",
    "    conn = sqlite3.connect(db_path)\n",
    "    \n",
    "    subject_ids = ','.join(map(str, patients['subject_id'].unique()))\n",
    "    stay_ids = ','.join(map(str, patients['stay_id'].unique()))\n",
    "    itemids = ','.join(map(str, features))\n",
    "\n",
    "    query = f\"\"\"\n",
    "    SELECT subject_id, stay_id, charttime, itemid, value, valuenum\n",
    "    FROM chartevents\n",
    "    WHERE subject_id IN ({subject_ids})\n",
    "      AND stay_id IN ({stay_ids})\n",
    "      AND itemid IN ({itemids})\n",
    "    \"\"\"\n",
    "\n",
    "    df = pd.read_sql_query(query, conn)\n",
    "    conn.close()\n",
    "    return df"
   ]
  },
  {
   "cell_type": "code",
   "execution_count": 5,
   "id": "08b3362d-eb10-4b63-8fd7-353064961ef0",
   "metadata": {},
   "outputs": [],
   "source": [
    "features = [223836, 223849, 224369, 224370, 224372, 224373, 224712, 224715, 224716, 224735, 220210, 220339, 224684, 224685, 224686, 224687, 224688, 224689, 224691, 224695, 224696, 224697, 224700, 224701, 224702, 224711, 224738, 223835]"
   ]
  },
  {
   "cell_type": "code",
   "execution_count": 9,
   "id": "055e1c9e-3a3e-4ac2-a488-c21038f6bec7",
   "metadata": {},
   "outputs": [],
   "source": [
    "chartevents_ventilation = query_chartevents_features(patients, features, db_path)"
   ]
  },
  {
   "cell_type": "code",
   "execution_count": 10,
   "id": "9f4c495d-952f-45d7-9a69-a9963b0085ca",
   "metadata": {},
   "outputs": [
    {
     "data": {
      "text/plain": [
       "(4657752, 6)"
      ]
     },
     "execution_count": 10,
     "metadata": {},
     "output_type": "execute_result"
    }
   ],
   "source": [
    "chartevents_ventilation.shape"
   ]
  },
  {
   "cell_type": "code",
   "execution_count": 11,
   "id": "c0201670-70ba-40be-b05e-ce98515e4cc0",
   "metadata": {},
   "outputs": [
    {
     "data": {
      "text/html": [
       "<div>\n",
       "<style scoped>\n",
       "    .dataframe tbody tr th:only-of-type {\n",
       "        vertical-align: middle;\n",
       "    }\n",
       "\n",
       "    .dataframe tbody tr th {\n",
       "        vertical-align: top;\n",
       "    }\n",
       "\n",
       "    .dataframe thead th {\n",
       "        text-align: right;\n",
       "    }\n",
       "</style>\n",
       "<table border=\"1\" class=\"dataframe\">\n",
       "  <thead>\n",
       "    <tr style=\"text-align: right;\">\n",
       "      <th></th>\n",
       "      <th>subject_id</th>\n",
       "      <th>stay_id</th>\n",
       "      <th>charttime</th>\n",
       "      <th>itemid</th>\n",
       "      <th>value</th>\n",
       "      <th>valuenum</th>\n",
       "    </tr>\n",
       "  </thead>\n",
       "  <tbody>\n",
       "    <tr>\n",
       "      <th>0</th>\n",
       "      <td>10002428</td>\n",
       "      <td>38875437</td>\n",
       "      <td>2156-04-22 07:00:00</td>\n",
       "      <td>220339</td>\n",
       "      <td>10</td>\n",
       "      <td>10.0</td>\n",
       "    </tr>\n",
       "    <tr>\n",
       "      <th>1</th>\n",
       "      <td>10002428</td>\n",
       "      <td>38875437</td>\n",
       "      <td>2156-04-22 07:00:00</td>\n",
       "      <td>223835</td>\n",
       "      <td>40</td>\n",
       "      <td>40.0</td>\n",
       "    </tr>\n",
       "    <tr>\n",
       "      <th>2</th>\n",
       "      <td>10002428</td>\n",
       "      <td>38875437</td>\n",
       "      <td>2156-04-22 07:00:00</td>\n",
       "      <td>223849</td>\n",
       "      <td>CMV/ASSIST/AutoFlow</td>\n",
       "      <td>49.0</td>\n",
       "    </tr>\n",
       "    <tr>\n",
       "      <th>3</th>\n",
       "      <td>10002428</td>\n",
       "      <td>38875437</td>\n",
       "      <td>2156-04-22 07:00:00</td>\n",
       "      <td>224684</td>\n",
       "      <td>350</td>\n",
       "      <td>350.0</td>\n",
       "    </tr>\n",
       "    <tr>\n",
       "      <th>4</th>\n",
       "      <td>10002428</td>\n",
       "      <td>38875437</td>\n",
       "      <td>2156-04-22 07:00:00</td>\n",
       "      <td>224685</td>\n",
       "      <td>437</td>\n",
       "      <td>437.0</td>\n",
       "    </tr>\n",
       "  </tbody>\n",
       "</table>\n",
       "</div>"
      ],
      "text/plain": [
       "   subject_id   stay_id            charttime  itemid                value  \\\n",
       "0    10002428  38875437  2156-04-22 07:00:00  220339                   10   \n",
       "1    10002428  38875437  2156-04-22 07:00:00  223835                   40   \n",
       "2    10002428  38875437  2156-04-22 07:00:00  223849  CMV/ASSIST/AutoFlow   \n",
       "3    10002428  38875437  2156-04-22 07:00:00  224684                  350   \n",
       "4    10002428  38875437  2156-04-22 07:00:00  224685                  437   \n",
       "\n",
       "   valuenum  \n",
       "0      10.0  \n",
       "1      40.0  \n",
       "2      49.0  \n",
       "3     350.0  \n",
       "4     437.0  "
      ]
     },
     "execution_count": 11,
     "metadata": {},
     "output_type": "execute_result"
    }
   ],
   "source": [
    "chartevents_ventilation.head()"
   ]
  },
  {
   "cell_type": "code",
   "execution_count": 12,
   "id": "d850ba58-f39b-482e-9021-f9c7b3925453",
   "metadata": {},
   "outputs": [],
   "source": [
    "chartevents_ventilation.to_csv(\"/Users/mmurali1/Documents/Imperial/MIMICIV_analysis/chartevents_ventilation.csv\", index=False)"
   ]
  },
  {
   "cell_type": "code",
   "execution_count": 5,
   "id": "c4e5c17f-3150-475f-9fba-d58f6ac11e05",
   "metadata": {},
   "outputs": [],
   "source": [
    "features = [226228, 226512, 226730]"
   ]
  },
  {
   "cell_type": "code",
   "execution_count": 6,
   "id": "2499699f-2ebe-45bf-8e45-a193f5b9fc0f",
   "metadata": {},
   "outputs": [],
   "source": [
    "chartevents_demographics = query_chartevents_features(patients, features, db_path)"
   ]
  },
  {
   "cell_type": "code",
   "execution_count": 7,
   "id": "487a2bb1-50b3-4d1f-beb6-b6390f3bac2d",
   "metadata": {},
   "outputs": [
    {
     "data": {
      "text/html": [
       "<div>\n",
       "<style scoped>\n",
       "    .dataframe tbody tr th:only-of-type {\n",
       "        vertical-align: middle;\n",
       "    }\n",
       "\n",
       "    .dataframe tbody tr th {\n",
       "        vertical-align: top;\n",
       "    }\n",
       "\n",
       "    .dataframe thead th {\n",
       "        text-align: right;\n",
       "    }\n",
       "</style>\n",
       "<table border=\"1\" class=\"dataframe\">\n",
       "  <thead>\n",
       "    <tr style=\"text-align: right;\">\n",
       "      <th></th>\n",
       "      <th>subject_id</th>\n",
       "      <th>stay_id</th>\n",
       "      <th>charttime</th>\n",
       "      <th>itemid</th>\n",
       "      <th>value</th>\n",
       "      <th>valuenum</th>\n",
       "    </tr>\n",
       "  </thead>\n",
       "  <tbody>\n",
       "    <tr>\n",
       "      <th>0</th>\n",
       "      <td>10002428</td>\n",
       "      <td>38875437</td>\n",
       "      <td>2156-04-12 16:24:00</td>\n",
       "      <td>226512</td>\n",
       "      <td>43</td>\n",
       "      <td>43.0</td>\n",
       "    </tr>\n",
       "    <tr>\n",
       "      <th>1</th>\n",
       "      <td>10004235</td>\n",
       "      <td>34100191</td>\n",
       "      <td>2196-02-24 14:39:00</td>\n",
       "      <td>226512</td>\n",
       "      <td>127</td>\n",
       "      <td>127.0</td>\n",
       "    </tr>\n",
       "    <tr>\n",
       "      <th>2</th>\n",
       "      <td>10004235</td>\n",
       "      <td>34100191</td>\n",
       "      <td>2196-02-24 14:39:00</td>\n",
       "      <td>226730</td>\n",
       "      <td>183</td>\n",
       "      <td>183.0</td>\n",
       "    </tr>\n",
       "    <tr>\n",
       "      <th>3</th>\n",
       "      <td>10004401</td>\n",
       "      <td>39699336</td>\n",
       "      <td>2144-06-05 19:46:00</td>\n",
       "      <td>226512</td>\n",
       "      <td>86.1</td>\n",
       "      <td>86.1</td>\n",
       "    </tr>\n",
       "    <tr>\n",
       "      <th>4</th>\n",
       "      <td>10004401</td>\n",
       "      <td>39699336</td>\n",
       "      <td>2144-06-05 19:46:00</td>\n",
       "      <td>226730</td>\n",
       "      <td>170</td>\n",
       "      <td>170.0</td>\n",
       "    </tr>\n",
       "  </tbody>\n",
       "</table>\n",
       "</div>"
      ],
      "text/plain": [
       "   subject_id   stay_id            charttime  itemid value  valuenum\n",
       "0    10002428  38875437  2156-04-12 16:24:00  226512    43      43.0\n",
       "1    10004235  34100191  2196-02-24 14:39:00  226512   127     127.0\n",
       "2    10004235  34100191  2196-02-24 14:39:00  226730   183     183.0\n",
       "3    10004401  39699336  2144-06-05 19:46:00  226512  86.1      86.1\n",
       "4    10004401  39699336  2144-06-05 19:46:00  226730   170     170.0"
      ]
     },
     "execution_count": 7,
     "metadata": {},
     "output_type": "execute_result"
    }
   ],
   "source": [
    "chartevents_demographics.head()"
   ]
  },
  {
   "cell_type": "code",
   "execution_count": 8,
   "id": "f2d88ac8-13f9-4793-a11e-2c57d8d04af5",
   "metadata": {},
   "outputs": [],
   "source": [
    "chartevents_demographics.to_csv(\"/Users/mmurali1/Documents/Imperial/MIMICIV_analysis/chartevents_demographics.csv\", index=False)"
   ]
  },
  {
   "cell_type": "code",
   "execution_count": 4,
   "id": "d12ab614-7ae5-45af-93ec-4a67278b8332",
   "metadata": {},
   "outputs": [],
   "source": [
    "features = [220045, 220050, 220051, 220052, 220179, 220180, 220181, 223761, 223762, 224689, 228232, 220277, 228640]"
   ]
  },
  {
   "cell_type": "code",
   "execution_count": 7,
   "id": "e9daa4a6-d068-499c-ade0-fcf96080a8e3",
   "metadata": {},
   "outputs": [],
   "source": [
    "chartevents_vitals = query_chartevents_features(patients, features, db_path)"
   ]
  },
  {
   "cell_type": "code",
   "execution_count": 8,
   "id": "7616c478-d9d6-494c-815f-6ac3a3a2b8ff",
   "metadata": {},
   "outputs": [
    {
     "data": {
      "text/html": [
       "<div>\n",
       "<style scoped>\n",
       "    .dataframe tbody tr th:only-of-type {\n",
       "        vertical-align: middle;\n",
       "    }\n",
       "\n",
       "    .dataframe tbody tr th {\n",
       "        vertical-align: top;\n",
       "    }\n",
       "\n",
       "    .dataframe thead th {\n",
       "        text-align: right;\n",
       "    }\n",
       "</style>\n",
       "<table border=\"1\" class=\"dataframe\">\n",
       "  <thead>\n",
       "    <tr style=\"text-align: right;\">\n",
       "      <th></th>\n",
       "      <th>subject_id</th>\n",
       "      <th>stay_id</th>\n",
       "      <th>charttime</th>\n",
       "      <th>itemid</th>\n",
       "      <th>value</th>\n",
       "      <th>valuenum</th>\n",
       "    </tr>\n",
       "  </thead>\n",
       "  <tbody>\n",
       "    <tr>\n",
       "      <th>0</th>\n",
       "      <td>10002428</td>\n",
       "      <td>38875437</td>\n",
       "      <td>2156-04-22 07:00:00</td>\n",
       "      <td>224689</td>\n",
       "      <td>0</td>\n",
       "      <td>0.0</td>\n",
       "    </tr>\n",
       "    <tr>\n",
       "      <th>1</th>\n",
       "      <td>10002428</td>\n",
       "      <td>38875437</td>\n",
       "      <td>2156-04-22 09:00:00</td>\n",
       "      <td>224689</td>\n",
       "      <td>26</td>\n",
       "      <td>26.0</td>\n",
       "    </tr>\n",
       "    <tr>\n",
       "      <th>2</th>\n",
       "      <td>10002428</td>\n",
       "      <td>38875437</td>\n",
       "      <td>2156-04-22 12:00:00</td>\n",
       "      <td>224689</td>\n",
       "      <td>24</td>\n",
       "      <td>24.0</td>\n",
       "    </tr>\n",
       "    <tr>\n",
       "      <th>3</th>\n",
       "      <td>10002428</td>\n",
       "      <td>38875437</td>\n",
       "      <td>2156-04-22 13:00:00</td>\n",
       "      <td>224689</td>\n",
       "      <td>23</td>\n",
       "      <td>23.0</td>\n",
       "    </tr>\n",
       "    <tr>\n",
       "      <th>4</th>\n",
       "      <td>10002428</td>\n",
       "      <td>38875437</td>\n",
       "      <td>2156-04-22 15:00:00</td>\n",
       "      <td>224689</td>\n",
       "      <td>22</td>\n",
       "      <td>22.0</td>\n",
       "    </tr>\n",
       "  </tbody>\n",
       "</table>\n",
       "</div>"
      ],
      "text/plain": [
       "   subject_id   stay_id            charttime  itemid value  valuenum\n",
       "0    10002428  38875437  2156-04-22 07:00:00  224689     0       0.0\n",
       "1    10002428  38875437  2156-04-22 09:00:00  224689    26      26.0\n",
       "2    10002428  38875437  2156-04-22 12:00:00  224689    24      24.0\n",
       "3    10002428  38875437  2156-04-22 13:00:00  224689    23      23.0\n",
       "4    10002428  38875437  2156-04-22 15:00:00  224689    22      22.0"
      ]
     },
     "execution_count": 8,
     "metadata": {},
     "output_type": "execute_result"
    }
   ],
   "source": [
    "chartevents_vitals.head()"
   ]
  },
  {
   "cell_type": "code",
   "execution_count": 10,
   "id": "4ba9155a-f18a-4046-bf11-758ba175dbf3",
   "metadata": {},
   "outputs": [],
   "source": [
    "chartevents_vitals.to_csv(\"/Users/mmurali1/Documents/Imperial/MIMICIV_analysis/chartevents_vitals.csv\", index=False)"
   ]
  },
  {
   "cell_type": "code",
   "execution_count": 124,
   "id": "a68d274d-1bea-41c8-a9a3-408123560d03",
   "metadata": {},
   "outputs": [],
   "source": [
    "features = [228109, 228110, 226987]"
   ]
  },
  {
   "cell_type": "code",
   "execution_count": 125,
   "id": "3180e985-36bd-4b5d-bbe3-c051ec9dc808",
   "metadata": {},
   "outputs": [],
   "source": [
    "chartevents_diagnosis = query_chartevents_features(patients, features, db_path)"
   ]
  },
  {
   "cell_type": "code",
   "execution_count": null,
   "id": "5fd16424-ba32-453a-ad45-cca27f39c952",
   "metadata": {},
   "outputs": [],
   "source": [
    "chartevents_diagnosis.head()"
   ]
  },
  {
   "cell_type": "code",
   "execution_count": 29,
   "id": "a19cbdde-8687-4858-a325-75d40b54acae",
   "metadata": {},
   "outputs": [
    {
     "name": "stderr",
     "output_type": "stream",
     "text": [
      "/var/folders/ks/xzsx5z1n0zv653847sbsxy7r0000gp/T/ipykernel_49850/1730099709.py:10: DtypeWarning: Columns (5) have mixed types. Specify dtype option on import or set low_memory=False.\n",
      "  for chunk in pd.read_csv(csv_path, chunksize=chunksize):\n",
      "/var/folders/ks/xzsx5z1n0zv653847sbsxy7r0000gp/T/ipykernel_49850/1730099709.py:10: DtypeWarning: Columns (5) have mixed types. Specify dtype option on import or set low_memory=False.\n",
      "  for chunk in pd.read_csv(csv_path, chunksize=chunksize):\n",
      "/var/folders/ks/xzsx5z1n0zv653847sbsxy7r0000gp/T/ipykernel_49850/1730099709.py:10: DtypeWarning: Columns (5) have mixed types. Specify dtype option on import or set low_memory=False.\n",
      "  for chunk in pd.read_csv(csv_path, chunksize=chunksize):\n",
      "/var/folders/ks/xzsx5z1n0zv653847sbsxy7r0000gp/T/ipykernel_49850/1730099709.py:10: DtypeWarning: Columns (5) have mixed types. Specify dtype option on import or set low_memory=False.\n",
      "  for chunk in pd.read_csv(csv_path, chunksize=chunksize):\n",
      "/var/folders/ks/xzsx5z1n0zv653847sbsxy7r0000gp/T/ipykernel_49850/1730099709.py:10: DtypeWarning: Columns (5) have mixed types. Specify dtype option on import or set low_memory=False.\n",
      "  for chunk in pd.read_csv(csv_path, chunksize=chunksize):\n",
      "/var/folders/ks/xzsx5z1n0zv653847sbsxy7r0000gp/T/ipykernel_49850/1730099709.py:10: DtypeWarning: Columns (5) have mixed types. Specify dtype option on import or set low_memory=False.\n",
      "  for chunk in pd.read_csv(csv_path, chunksize=chunksize):\n",
      "/var/folders/ks/xzsx5z1n0zv653847sbsxy7r0000gp/T/ipykernel_49850/1730099709.py:10: DtypeWarning: Columns (5) have mixed types. Specify dtype option on import or set low_memory=False.\n",
      "  for chunk in pd.read_csv(csv_path, chunksize=chunksize):\n",
      "/var/folders/ks/xzsx5z1n0zv653847sbsxy7r0000gp/T/ipykernel_49850/1730099709.py:10: DtypeWarning: Columns (5) have mixed types. Specify dtype option on import or set low_memory=False.\n",
      "  for chunk in pd.read_csv(csv_path, chunksize=chunksize):\n",
      "/var/folders/ks/xzsx5z1n0zv653847sbsxy7r0000gp/T/ipykernel_49850/1730099709.py:10: DtypeWarning: Columns (5) have mixed types. Specify dtype option on import or set low_memory=False.\n",
      "  for chunk in pd.read_csv(csv_path, chunksize=chunksize):\n",
      "/var/folders/ks/xzsx5z1n0zv653847sbsxy7r0000gp/T/ipykernel_49850/1730099709.py:10: DtypeWarning: Columns (5) have mixed types. Specify dtype option on import or set low_memory=False.\n",
      "  for chunk in pd.read_csv(csv_path, chunksize=chunksize):\n",
      "/var/folders/ks/xzsx5z1n0zv653847sbsxy7r0000gp/T/ipykernel_49850/1730099709.py:10: DtypeWarning: Columns (5) have mixed types. Specify dtype option on import or set low_memory=False.\n",
      "  for chunk in pd.read_csv(csv_path, chunksize=chunksize):\n",
      "/var/folders/ks/xzsx5z1n0zv653847sbsxy7r0000gp/T/ipykernel_49850/1730099709.py:10: DtypeWarning: Columns (5) have mixed types. Specify dtype option on import or set low_memory=False.\n",
      "  for chunk in pd.read_csv(csv_path, chunksize=chunksize):\n",
      "/var/folders/ks/xzsx5z1n0zv653847sbsxy7r0000gp/T/ipykernel_49850/1730099709.py:10: DtypeWarning: Columns (5) have mixed types. Specify dtype option on import or set low_memory=False.\n",
      "  for chunk in pd.read_csv(csv_path, chunksize=chunksize):\n",
      "/var/folders/ks/xzsx5z1n0zv653847sbsxy7r0000gp/T/ipykernel_49850/1730099709.py:10: DtypeWarning: Columns (5) have mixed types. Specify dtype option on import or set low_memory=False.\n",
      "  for chunk in pd.read_csv(csv_path, chunksize=chunksize):\n",
      "/var/folders/ks/xzsx5z1n0zv653847sbsxy7r0000gp/T/ipykernel_49850/1730099709.py:10: DtypeWarning: Columns (5) have mixed types. Specify dtype option on import or set low_memory=False.\n",
      "  for chunk in pd.read_csv(csv_path, chunksize=chunksize):\n",
      "/var/folders/ks/xzsx5z1n0zv653847sbsxy7r0000gp/T/ipykernel_49850/1730099709.py:10: DtypeWarning: Columns (5) have mixed types. Specify dtype option on import or set low_memory=False.\n",
      "  for chunk in pd.read_csv(csv_path, chunksize=chunksize):\n",
      "/var/folders/ks/xzsx5z1n0zv653847sbsxy7r0000gp/T/ipykernel_49850/1730099709.py:10: DtypeWarning: Columns (5) have mixed types. Specify dtype option on import or set low_memory=False.\n",
      "  for chunk in pd.read_csv(csv_path, chunksize=chunksize):\n",
      "/var/folders/ks/xzsx5z1n0zv653847sbsxy7r0000gp/T/ipykernel_49850/1730099709.py:10: DtypeWarning: Columns (5) have mixed types. Specify dtype option on import or set low_memory=False.\n",
      "  for chunk in pd.read_csv(csv_path, chunksize=chunksize):\n",
      "/var/folders/ks/xzsx5z1n0zv653847sbsxy7r0000gp/T/ipykernel_49850/1730099709.py:10: DtypeWarning: Columns (5) have mixed types. Specify dtype option on import or set low_memory=False.\n",
      "  for chunk in pd.read_csv(csv_path, chunksize=chunksize):\n",
      "/var/folders/ks/xzsx5z1n0zv653847sbsxy7r0000gp/T/ipykernel_49850/1730099709.py:10: DtypeWarning: Columns (5) have mixed types. Specify dtype option on import or set low_memory=False.\n",
      "  for chunk in pd.read_csv(csv_path, chunksize=chunksize):\n",
      "/var/folders/ks/xzsx5z1n0zv653847sbsxy7r0000gp/T/ipykernel_49850/1730099709.py:10: DtypeWarning: Columns (5) have mixed types. Specify dtype option on import or set low_memory=False.\n",
      "  for chunk in pd.read_csv(csv_path, chunksize=chunksize):\n",
      "/var/folders/ks/xzsx5z1n0zv653847sbsxy7r0000gp/T/ipykernel_49850/1730099709.py:10: DtypeWarning: Columns (5) have mixed types. Specify dtype option on import or set low_memory=False.\n",
      "  for chunk in pd.read_csv(csv_path, chunksize=chunksize):\n",
      "/var/folders/ks/xzsx5z1n0zv653847sbsxy7r0000gp/T/ipykernel_49850/1730099709.py:10: DtypeWarning: Columns (5) have mixed types. Specify dtype option on import or set low_memory=False.\n",
      "  for chunk in pd.read_csv(csv_path, chunksize=chunksize):\n",
      "/var/folders/ks/xzsx5z1n0zv653847sbsxy7r0000gp/T/ipykernel_49850/1730099709.py:10: DtypeWarning: Columns (5) have mixed types. Specify dtype option on import or set low_memory=False.\n",
      "  for chunk in pd.read_csv(csv_path, chunksize=chunksize):\n",
      "/var/folders/ks/xzsx5z1n0zv653847sbsxy7r0000gp/T/ipykernel_49850/1730099709.py:10: DtypeWarning: Columns (5) have mixed types. Specify dtype option on import or set low_memory=False.\n",
      "  for chunk in pd.read_csv(csv_path, chunksize=chunksize):\n",
      "/var/folders/ks/xzsx5z1n0zv653847sbsxy7r0000gp/T/ipykernel_49850/1730099709.py:10: DtypeWarning: Columns (5) have mixed types. Specify dtype option on import or set low_memory=False.\n",
      "  for chunk in pd.read_csv(csv_path, chunksize=chunksize):\n",
      "/var/folders/ks/xzsx5z1n0zv653847sbsxy7r0000gp/T/ipykernel_49850/1730099709.py:10: DtypeWarning: Columns (5) have mixed types. Specify dtype option on import or set low_memory=False.\n",
      "  for chunk in pd.read_csv(csv_path, chunksize=chunksize):\n",
      "/var/folders/ks/xzsx5z1n0zv653847sbsxy7r0000gp/T/ipykernel_49850/1730099709.py:10: DtypeWarning: Columns (5) have mixed types. Specify dtype option on import or set low_memory=False.\n",
      "  for chunk in pd.read_csv(csv_path, chunksize=chunksize):\n",
      "/var/folders/ks/xzsx5z1n0zv653847sbsxy7r0000gp/T/ipykernel_49850/1730099709.py:10: DtypeWarning: Columns (5) have mixed types. Specify dtype option on import or set low_memory=False.\n",
      "  for chunk in pd.read_csv(csv_path, chunksize=chunksize):\n",
      "/var/folders/ks/xzsx5z1n0zv653847sbsxy7r0000gp/T/ipykernel_49850/1730099709.py:10: DtypeWarning: Columns (5) have mixed types. Specify dtype option on import or set low_memory=False.\n",
      "  for chunk in pd.read_csv(csv_path, chunksize=chunksize):\n",
      "/var/folders/ks/xzsx5z1n0zv653847sbsxy7r0000gp/T/ipykernel_49850/1730099709.py:10: DtypeWarning: Columns (5) have mixed types. Specify dtype option on import or set low_memory=False.\n",
      "  for chunk in pd.read_csv(csv_path, chunksize=chunksize):\n",
      "/var/folders/ks/xzsx5z1n0zv653847sbsxy7r0000gp/T/ipykernel_49850/1730099709.py:10: DtypeWarning: Columns (5) have mixed types. Specify dtype option on import or set low_memory=False.\n",
      "  for chunk in pd.read_csv(csv_path, chunksize=chunksize):\n",
      "/var/folders/ks/xzsx5z1n0zv653847sbsxy7r0000gp/T/ipykernel_49850/1730099709.py:10: DtypeWarning: Columns (5) have mixed types. Specify dtype option on import or set low_memory=False.\n",
      "  for chunk in pd.read_csv(csv_path, chunksize=chunksize):\n",
      "/var/folders/ks/xzsx5z1n0zv653847sbsxy7r0000gp/T/ipykernel_49850/1730099709.py:10: DtypeWarning: Columns (5) have mixed types. Specify dtype option on import or set low_memory=False.\n",
      "  for chunk in pd.read_csv(csv_path, chunksize=chunksize):\n",
      "/var/folders/ks/xzsx5z1n0zv653847sbsxy7r0000gp/T/ipykernel_49850/1730099709.py:10: DtypeWarning: Columns (5) have mixed types. Specify dtype option on import or set low_memory=False.\n",
      "  for chunk in pd.read_csv(csv_path, chunksize=chunksize):\n",
      "/var/folders/ks/xzsx5z1n0zv653847sbsxy7r0000gp/T/ipykernel_49850/1730099709.py:10: DtypeWarning: Columns (5) have mixed types. Specify dtype option on import or set low_memory=False.\n",
      "  for chunk in pd.read_csv(csv_path, chunksize=chunksize):\n",
      "/var/folders/ks/xzsx5z1n0zv653847sbsxy7r0000gp/T/ipykernel_49850/1730099709.py:10: DtypeWarning: Columns (5) have mixed types. Specify dtype option on import or set low_memory=False.\n",
      "  for chunk in pd.read_csv(csv_path, chunksize=chunksize):\n",
      "/var/folders/ks/xzsx5z1n0zv653847sbsxy7r0000gp/T/ipykernel_49850/1730099709.py:10: DtypeWarning: Columns (5) have mixed types. Specify dtype option on import or set low_memory=False.\n",
      "  for chunk in pd.read_csv(csv_path, chunksize=chunksize):\n",
      "/var/folders/ks/xzsx5z1n0zv653847sbsxy7r0000gp/T/ipykernel_49850/1730099709.py:10: DtypeWarning: Columns (5) have mixed types. Specify dtype option on import or set low_memory=False.\n",
      "  for chunk in pd.read_csv(csv_path, chunksize=chunksize):\n",
      "/var/folders/ks/xzsx5z1n0zv653847sbsxy7r0000gp/T/ipykernel_49850/1730099709.py:10: DtypeWarning: Columns (5) have mixed types. Specify dtype option on import or set low_memory=False.\n",
      "  for chunk in pd.read_csv(csv_path, chunksize=chunksize):\n",
      "/var/folders/ks/xzsx5z1n0zv653847sbsxy7r0000gp/T/ipykernel_49850/1730099709.py:10: DtypeWarning: Columns (5) have mixed types. Specify dtype option on import or set low_memory=False.\n",
      "  for chunk in pd.read_csv(csv_path, chunksize=chunksize):\n",
      "/var/folders/ks/xzsx5z1n0zv653847sbsxy7r0000gp/T/ipykernel_49850/1730099709.py:10: DtypeWarning: Columns (5) have mixed types. Specify dtype option on import or set low_memory=False.\n",
      "  for chunk in pd.read_csv(csv_path, chunksize=chunksize):\n",
      "/var/folders/ks/xzsx5z1n0zv653847sbsxy7r0000gp/T/ipykernel_49850/1730099709.py:10: DtypeWarning: Columns (5) have mixed types. Specify dtype option on import or set low_memory=False.\n",
      "  for chunk in pd.read_csv(csv_path, chunksize=chunksize):\n",
      "/var/folders/ks/xzsx5z1n0zv653847sbsxy7r0000gp/T/ipykernel_49850/1730099709.py:10: DtypeWarning: Columns (5) have mixed types. Specify dtype option on import or set low_memory=False.\n",
      "  for chunk in pd.read_csv(csv_path, chunksize=chunksize):\n",
      "/var/folders/ks/xzsx5z1n0zv653847sbsxy7r0000gp/T/ipykernel_49850/1730099709.py:10: DtypeWarning: Columns (5) have mixed types. Specify dtype option on import or set low_memory=False.\n",
      "  for chunk in pd.read_csv(csv_path, chunksize=chunksize):\n",
      "/var/folders/ks/xzsx5z1n0zv653847sbsxy7r0000gp/T/ipykernel_49850/1730099709.py:10: DtypeWarning: Columns (5) have mixed types. Specify dtype option on import or set low_memory=False.\n",
      "  for chunk in pd.read_csv(csv_path, chunksize=chunksize):\n",
      "/var/folders/ks/xzsx5z1n0zv653847sbsxy7r0000gp/T/ipykernel_49850/1730099709.py:10: DtypeWarning: Columns (5) have mixed types. Specify dtype option on import or set low_memory=False.\n",
      "  for chunk in pd.read_csv(csv_path, chunksize=chunksize):\n",
      "/var/folders/ks/xzsx5z1n0zv653847sbsxy7r0000gp/T/ipykernel_49850/1730099709.py:10: DtypeWarning: Columns (5) have mixed types. Specify dtype option on import or set low_memory=False.\n",
      "  for chunk in pd.read_csv(csv_path, chunksize=chunksize):\n",
      "/var/folders/ks/xzsx5z1n0zv653847sbsxy7r0000gp/T/ipykernel_49850/1730099709.py:10: DtypeWarning: Columns (5) have mixed types. Specify dtype option on import or set low_memory=False.\n",
      "  for chunk in pd.read_csv(csv_path, chunksize=chunksize):\n",
      "/var/folders/ks/xzsx5z1n0zv653847sbsxy7r0000gp/T/ipykernel_49850/1730099709.py:10: DtypeWarning: Columns (5) have mixed types. Specify dtype option on import or set low_memory=False.\n",
      "  for chunk in pd.read_csv(csv_path, chunksize=chunksize):\n",
      "/var/folders/ks/xzsx5z1n0zv653847sbsxy7r0000gp/T/ipykernel_49850/1730099709.py:10: DtypeWarning: Columns (5) have mixed types. Specify dtype option on import or set low_memory=False.\n",
      "  for chunk in pd.read_csv(csv_path, chunksize=chunksize):\n",
      "/var/folders/ks/xzsx5z1n0zv653847sbsxy7r0000gp/T/ipykernel_49850/1730099709.py:10: DtypeWarning: Columns (5) have mixed types. Specify dtype option on import or set low_memory=False.\n",
      "  for chunk in pd.read_csv(csv_path, chunksize=chunksize):\n",
      "/var/folders/ks/xzsx5z1n0zv653847sbsxy7r0000gp/T/ipykernel_49850/1730099709.py:10: DtypeWarning: Columns (5) have mixed types. Specify dtype option on import or set low_memory=False.\n",
      "  for chunk in pd.read_csv(csv_path, chunksize=chunksize):\n",
      "/var/folders/ks/xzsx5z1n0zv653847sbsxy7r0000gp/T/ipykernel_49850/1730099709.py:10: DtypeWarning: Columns (5) have mixed types. Specify dtype option on import or set low_memory=False.\n",
      "  for chunk in pd.read_csv(csv_path, chunksize=chunksize):\n",
      "/var/folders/ks/xzsx5z1n0zv653847sbsxy7r0000gp/T/ipykernel_49850/1730099709.py:10: DtypeWarning: Columns (5) have mixed types. Specify dtype option on import or set low_memory=False.\n",
      "  for chunk in pd.read_csv(csv_path, chunksize=chunksize):\n",
      "/var/folders/ks/xzsx5z1n0zv653847sbsxy7r0000gp/T/ipykernel_49850/1730099709.py:10: DtypeWarning: Columns (5) have mixed types. Specify dtype option on import or set low_memory=False.\n",
      "  for chunk in pd.read_csv(csv_path, chunksize=chunksize):\n",
      "/var/folders/ks/xzsx5z1n0zv653847sbsxy7r0000gp/T/ipykernel_49850/1730099709.py:10: DtypeWarning: Columns (5) have mixed types. Specify dtype option on import or set low_memory=False.\n",
      "  for chunk in pd.read_csv(csv_path, chunksize=chunksize):\n",
      "/var/folders/ks/xzsx5z1n0zv653847sbsxy7r0000gp/T/ipykernel_49850/1730099709.py:10: DtypeWarning: Columns (5) have mixed types. Specify dtype option on import or set low_memory=False.\n",
      "  for chunk in pd.read_csv(csv_path, chunksize=chunksize):\n",
      "/var/folders/ks/xzsx5z1n0zv653847sbsxy7r0000gp/T/ipykernel_49850/1730099709.py:10: DtypeWarning: Columns (5) have mixed types. Specify dtype option on import or set low_memory=False.\n",
      "  for chunk in pd.read_csv(csv_path, chunksize=chunksize):\n",
      "/var/folders/ks/xzsx5z1n0zv653847sbsxy7r0000gp/T/ipykernel_49850/1730099709.py:10: DtypeWarning: Columns (5) have mixed types. Specify dtype option on import or set low_memory=False.\n",
      "  for chunk in pd.read_csv(csv_path, chunksize=chunksize):\n",
      "/var/folders/ks/xzsx5z1n0zv653847sbsxy7r0000gp/T/ipykernel_49850/1730099709.py:10: DtypeWarning: Columns (5) have mixed types. Specify dtype option on import or set low_memory=False.\n",
      "  for chunk in pd.read_csv(csv_path, chunksize=chunksize):\n",
      "/var/folders/ks/xzsx5z1n0zv653847sbsxy7r0000gp/T/ipykernel_49850/1730099709.py:10: DtypeWarning: Columns (5) have mixed types. Specify dtype option on import or set low_memory=False.\n",
      "  for chunk in pd.read_csv(csv_path, chunksize=chunksize):\n",
      "/var/folders/ks/xzsx5z1n0zv653847sbsxy7r0000gp/T/ipykernel_49850/1730099709.py:10: DtypeWarning: Columns (5) have mixed types. Specify dtype option on import or set low_memory=False.\n",
      "  for chunk in pd.read_csv(csv_path, chunksize=chunksize):\n",
      "/var/folders/ks/xzsx5z1n0zv653847sbsxy7r0000gp/T/ipykernel_49850/1730099709.py:10: DtypeWarning: Columns (5) have mixed types. Specify dtype option on import or set low_memory=False.\n",
      "  for chunk in pd.read_csv(csv_path, chunksize=chunksize):\n",
      "/var/folders/ks/xzsx5z1n0zv653847sbsxy7r0000gp/T/ipykernel_49850/1730099709.py:10: DtypeWarning: Columns (5) have mixed types. Specify dtype option on import or set low_memory=False.\n",
      "  for chunk in pd.read_csv(csv_path, chunksize=chunksize):\n",
      "/var/folders/ks/xzsx5z1n0zv653847sbsxy7r0000gp/T/ipykernel_49850/1730099709.py:10: DtypeWarning: Columns (5) have mixed types. Specify dtype option on import or set low_memory=False.\n",
      "  for chunk in pd.read_csv(csv_path, chunksize=chunksize):\n",
      "/var/folders/ks/xzsx5z1n0zv653847sbsxy7r0000gp/T/ipykernel_49850/1730099709.py:10: DtypeWarning: Columns (5) have mixed types. Specify dtype option on import or set low_memory=False.\n",
      "  for chunk in pd.read_csv(csv_path, chunksize=chunksize):\n",
      "/var/folders/ks/xzsx5z1n0zv653847sbsxy7r0000gp/T/ipykernel_49850/1730099709.py:10: DtypeWarning: Columns (5) have mixed types. Specify dtype option on import or set low_memory=False.\n",
      "  for chunk in pd.read_csv(csv_path, chunksize=chunksize):\n",
      "/var/folders/ks/xzsx5z1n0zv653847sbsxy7r0000gp/T/ipykernel_49850/1730099709.py:10: DtypeWarning: Columns (5) have mixed types. Specify dtype option on import or set low_memory=False.\n",
      "  for chunk in pd.read_csv(csv_path, chunksize=chunksize):\n",
      "/var/folders/ks/xzsx5z1n0zv653847sbsxy7r0000gp/T/ipykernel_49850/1730099709.py:10: DtypeWarning: Columns (5) have mixed types. Specify dtype option on import or set low_memory=False.\n",
      "  for chunk in pd.read_csv(csv_path, chunksize=chunksize):\n",
      "/var/folders/ks/xzsx5z1n0zv653847sbsxy7r0000gp/T/ipykernel_49850/1730099709.py:10: DtypeWarning: Columns (5) have mixed types. Specify dtype option on import or set low_memory=False.\n",
      "  for chunk in pd.read_csv(csv_path, chunksize=chunksize):\n",
      "/var/folders/ks/xzsx5z1n0zv653847sbsxy7r0000gp/T/ipykernel_49850/1730099709.py:10: DtypeWarning: Columns (5) have mixed types. Specify dtype option on import or set low_memory=False.\n",
      "  for chunk in pd.read_csv(csv_path, chunksize=chunksize):\n",
      "/var/folders/ks/xzsx5z1n0zv653847sbsxy7r0000gp/T/ipykernel_49850/1730099709.py:10: DtypeWarning: Columns (5) have mixed types. Specify dtype option on import or set low_memory=False.\n",
      "  for chunk in pd.read_csv(csv_path, chunksize=chunksize):\n",
      "/var/folders/ks/xzsx5z1n0zv653847sbsxy7r0000gp/T/ipykernel_49850/1730099709.py:10: DtypeWarning: Columns (5) have mixed types. Specify dtype option on import or set low_memory=False.\n",
      "  for chunk in pd.read_csv(csv_path, chunksize=chunksize):\n",
      "/var/folders/ks/xzsx5z1n0zv653847sbsxy7r0000gp/T/ipykernel_49850/1730099709.py:10: DtypeWarning: Columns (5) have mixed types. Specify dtype option on import or set low_memory=False.\n",
      "  for chunk in pd.read_csv(csv_path, chunksize=chunksize):\n",
      "/var/folders/ks/xzsx5z1n0zv653847sbsxy7r0000gp/T/ipykernel_49850/1730099709.py:10: DtypeWarning: Columns (5) have mixed types. Specify dtype option on import or set low_memory=False.\n",
      "  for chunk in pd.read_csv(csv_path, chunksize=chunksize):\n",
      "/var/folders/ks/xzsx5z1n0zv653847sbsxy7r0000gp/T/ipykernel_49850/1730099709.py:10: DtypeWarning: Columns (5) have mixed types. Specify dtype option on import or set low_memory=False.\n",
      "  for chunk in pd.read_csv(csv_path, chunksize=chunksize):\n",
      "/var/folders/ks/xzsx5z1n0zv653847sbsxy7r0000gp/T/ipykernel_49850/1730099709.py:10: DtypeWarning: Columns (5) have mixed types. Specify dtype option on import or set low_memory=False.\n",
      "  for chunk in pd.read_csv(csv_path, chunksize=chunksize):\n",
      "/var/folders/ks/xzsx5z1n0zv653847sbsxy7r0000gp/T/ipykernel_49850/1730099709.py:10: DtypeWarning: Columns (5) have mixed types. Specify dtype option on import or set low_memory=False.\n",
      "  for chunk in pd.read_csv(csv_path, chunksize=chunksize):\n",
      "/var/folders/ks/xzsx5z1n0zv653847sbsxy7r0000gp/T/ipykernel_49850/1730099709.py:10: DtypeWarning: Columns (5) have mixed types. Specify dtype option on import or set low_memory=False.\n",
      "  for chunk in pd.read_csv(csv_path, chunksize=chunksize):\n",
      "/var/folders/ks/xzsx5z1n0zv653847sbsxy7r0000gp/T/ipykernel_49850/1730099709.py:10: DtypeWarning: Columns (5) have mixed types. Specify dtype option on import or set low_memory=False.\n",
      "  for chunk in pd.read_csv(csv_path, chunksize=chunksize):\n",
      "/var/folders/ks/xzsx5z1n0zv653847sbsxy7r0000gp/T/ipykernel_49850/1730099709.py:10: DtypeWarning: Columns (5) have mixed types. Specify dtype option on import or set low_memory=False.\n",
      "  for chunk in pd.read_csv(csv_path, chunksize=chunksize):\n",
      "/var/folders/ks/xzsx5z1n0zv653847sbsxy7r0000gp/T/ipykernel_49850/1730099709.py:10: DtypeWarning: Columns (5) have mixed types. Specify dtype option on import or set low_memory=False.\n",
      "  for chunk in pd.read_csv(csv_path, chunksize=chunksize):\n",
      "/var/folders/ks/xzsx5z1n0zv653847sbsxy7r0000gp/T/ipykernel_49850/1730099709.py:10: DtypeWarning: Columns (5) have mixed types. Specify dtype option on import or set low_memory=False.\n",
      "  for chunk in pd.read_csv(csv_path, chunksize=chunksize):\n",
      "/var/folders/ks/xzsx5z1n0zv653847sbsxy7r0000gp/T/ipykernel_49850/1730099709.py:10: DtypeWarning: Columns (5) have mixed types. Specify dtype option on import or set low_memory=False.\n",
      "  for chunk in pd.read_csv(csv_path, chunksize=chunksize):\n",
      "/var/folders/ks/xzsx5z1n0zv653847sbsxy7r0000gp/T/ipykernel_49850/1730099709.py:10: DtypeWarning: Columns (5) have mixed types. Specify dtype option on import or set low_memory=False.\n",
      "  for chunk in pd.read_csv(csv_path, chunksize=chunksize):\n",
      "/var/folders/ks/xzsx5z1n0zv653847sbsxy7r0000gp/T/ipykernel_49850/1730099709.py:10: DtypeWarning: Columns (5) have mixed types. Specify dtype option on import or set low_memory=False.\n",
      "  for chunk in pd.read_csv(csv_path, chunksize=chunksize):\n",
      "/var/folders/ks/xzsx5z1n0zv653847sbsxy7r0000gp/T/ipykernel_49850/1730099709.py:10: DtypeWarning: Columns (5) have mixed types. Specify dtype option on import or set low_memory=False.\n",
      "  for chunk in pd.read_csv(csv_path, chunksize=chunksize):\n",
      "/var/folders/ks/xzsx5z1n0zv653847sbsxy7r0000gp/T/ipykernel_49850/1730099709.py:10: DtypeWarning: Columns (5) have mixed types. Specify dtype option on import or set low_memory=False.\n",
      "  for chunk in pd.read_csv(csv_path, chunksize=chunksize):\n",
      "/var/folders/ks/xzsx5z1n0zv653847sbsxy7r0000gp/T/ipykernel_49850/1730099709.py:10: DtypeWarning: Columns (5) have mixed types. Specify dtype option on import or set low_memory=False.\n",
      "  for chunk in pd.read_csv(csv_path, chunksize=chunksize):\n",
      "/var/folders/ks/xzsx5z1n0zv653847sbsxy7r0000gp/T/ipykernel_49850/1730099709.py:10: DtypeWarning: Columns (5) have mixed types. Specify dtype option on import or set low_memory=False.\n",
      "  for chunk in pd.read_csv(csv_path, chunksize=chunksize):\n",
      "/var/folders/ks/xzsx5z1n0zv653847sbsxy7r0000gp/T/ipykernel_49850/1730099709.py:10: DtypeWarning: Columns (5) have mixed types. Specify dtype option on import or set low_memory=False.\n",
      "  for chunk in pd.read_csv(csv_path, chunksize=chunksize):\n",
      "/var/folders/ks/xzsx5z1n0zv653847sbsxy7r0000gp/T/ipykernel_49850/1730099709.py:10: DtypeWarning: Columns (5) have mixed types. Specify dtype option on import or set low_memory=False.\n",
      "  for chunk in pd.read_csv(csv_path, chunksize=chunksize):\n",
      "/var/folders/ks/xzsx5z1n0zv653847sbsxy7r0000gp/T/ipykernel_49850/1730099709.py:10: DtypeWarning: Columns (5) have mixed types. Specify dtype option on import or set low_memory=False.\n",
      "  for chunk in pd.read_csv(csv_path, chunksize=chunksize):\n",
      "/var/folders/ks/xzsx5z1n0zv653847sbsxy7r0000gp/T/ipykernel_49850/1730099709.py:10: DtypeWarning: Columns (5) have mixed types. Specify dtype option on import or set low_memory=False.\n",
      "  for chunk in pd.read_csv(csv_path, chunksize=chunksize):\n",
      "/var/folders/ks/xzsx5z1n0zv653847sbsxy7r0000gp/T/ipykernel_49850/1730099709.py:10: DtypeWarning: Columns (5) have mixed types. Specify dtype option on import or set low_memory=False.\n",
      "  for chunk in pd.read_csv(csv_path, chunksize=chunksize):\n",
      "/var/folders/ks/xzsx5z1n0zv653847sbsxy7r0000gp/T/ipykernel_49850/1730099709.py:10: DtypeWarning: Columns (5) have mixed types. Specify dtype option on import or set low_memory=False.\n",
      "  for chunk in pd.read_csv(csv_path, chunksize=chunksize):\n",
      "/var/folders/ks/xzsx5z1n0zv653847sbsxy7r0000gp/T/ipykernel_49850/1730099709.py:10: DtypeWarning: Columns (5) have mixed types. Specify dtype option on import or set low_memory=False.\n",
      "  for chunk in pd.read_csv(csv_path, chunksize=chunksize):\n",
      "/var/folders/ks/xzsx5z1n0zv653847sbsxy7r0000gp/T/ipykernel_49850/1730099709.py:10: DtypeWarning: Columns (5) have mixed types. Specify dtype option on import or set low_memory=False.\n",
      "  for chunk in pd.read_csv(csv_path, chunksize=chunksize):\n",
      "/var/folders/ks/xzsx5z1n0zv653847sbsxy7r0000gp/T/ipykernel_49850/1730099709.py:10: DtypeWarning: Columns (5) have mixed types. Specify dtype option on import or set low_memory=False.\n",
      "  for chunk in pd.read_csv(csv_path, chunksize=chunksize):\n",
      "/var/folders/ks/xzsx5z1n0zv653847sbsxy7r0000gp/T/ipykernel_49850/1730099709.py:10: DtypeWarning: Columns (5) have mixed types. Specify dtype option on import or set low_memory=False.\n",
      "  for chunk in pd.read_csv(csv_path, chunksize=chunksize):\n",
      "/var/folders/ks/xzsx5z1n0zv653847sbsxy7r0000gp/T/ipykernel_49850/1730099709.py:10: DtypeWarning: Columns (5) have mixed types. Specify dtype option on import or set low_memory=False.\n",
      "  for chunk in pd.read_csv(csv_path, chunksize=chunksize):\n",
      "/var/folders/ks/xzsx5z1n0zv653847sbsxy7r0000gp/T/ipykernel_49850/1730099709.py:10: DtypeWarning: Columns (5) have mixed types. Specify dtype option on import or set low_memory=False.\n",
      "  for chunk in pd.read_csv(csv_path, chunksize=chunksize):\n",
      "/var/folders/ks/xzsx5z1n0zv653847sbsxy7r0000gp/T/ipykernel_49850/1730099709.py:10: DtypeWarning: Columns (5) have mixed types. Specify dtype option on import or set low_memory=False.\n",
      "  for chunk in pd.read_csv(csv_path, chunksize=chunksize):\n",
      "/var/folders/ks/xzsx5z1n0zv653847sbsxy7r0000gp/T/ipykernel_49850/1730099709.py:10: DtypeWarning: Columns (5) have mixed types. Specify dtype option on import or set low_memory=False.\n",
      "  for chunk in pd.read_csv(csv_path, chunksize=chunksize):\n",
      "/var/folders/ks/xzsx5z1n0zv653847sbsxy7r0000gp/T/ipykernel_49850/1730099709.py:10: DtypeWarning: Columns (5) have mixed types. Specify dtype option on import or set low_memory=False.\n",
      "  for chunk in pd.read_csv(csv_path, chunksize=chunksize):\n",
      "/var/folders/ks/xzsx5z1n0zv653847sbsxy7r0000gp/T/ipykernel_49850/1730099709.py:10: DtypeWarning: Columns (5) have mixed types. Specify dtype option on import or set low_memory=False.\n",
      "  for chunk in pd.read_csv(csv_path, chunksize=chunksize):\n",
      "/var/folders/ks/xzsx5z1n0zv653847sbsxy7r0000gp/T/ipykernel_49850/1730099709.py:10: DtypeWarning: Columns (5) have mixed types. Specify dtype option on import or set low_memory=False.\n",
      "  for chunk in pd.read_csv(csv_path, chunksize=chunksize):\n",
      "/var/folders/ks/xzsx5z1n0zv653847sbsxy7r0000gp/T/ipykernel_49850/1730099709.py:10: DtypeWarning: Columns (5) have mixed types. Specify dtype option on import or set low_memory=False.\n",
      "  for chunk in pd.read_csv(csv_path, chunksize=chunksize):\n",
      "/var/folders/ks/xzsx5z1n0zv653847sbsxy7r0000gp/T/ipykernel_49850/1730099709.py:10: DtypeWarning: Columns (5) have mixed types. Specify dtype option on import or set low_memory=False.\n",
      "  for chunk in pd.read_csv(csv_path, chunksize=chunksize):\n",
      "/var/folders/ks/xzsx5z1n0zv653847sbsxy7r0000gp/T/ipykernel_49850/1730099709.py:10: DtypeWarning: Columns (5) have mixed types. Specify dtype option on import or set low_memory=False.\n",
      "  for chunk in pd.read_csv(csv_path, chunksize=chunksize):\n",
      "/var/folders/ks/xzsx5z1n0zv653847sbsxy7r0000gp/T/ipykernel_49850/1730099709.py:10: DtypeWarning: Columns (5) have mixed types. Specify dtype option on import or set low_memory=False.\n",
      "  for chunk in pd.read_csv(csv_path, chunksize=chunksize):\n",
      "/var/folders/ks/xzsx5z1n0zv653847sbsxy7r0000gp/T/ipykernel_49850/1730099709.py:10: DtypeWarning: Columns (5) have mixed types. Specify dtype option on import or set low_memory=False.\n",
      "  for chunk in pd.read_csv(csv_path, chunksize=chunksize):\n"
     ]
    },
    {
     "name": "stdout",
     "output_type": "stream",
     "text": [
      "✅ SQLite database created and data imported.\n"
     ]
    }
   ],
   "source": [
    "# File path to CSV\n",
    "csv_path = \"/Users/mmurali1/Documents/Imperial/MIMICIV_analysis/mimic-iv-3.1/hosp/labevents.csv\"\n",
    "\n",
    "# Create SQLite database\n",
    "db_path = \"/Users/mmurali1/Documents/Imperial/MIMICIV_analysis/labevents.db\"\n",
    "conn = sqlite3.connect(db_path)\n",
    "\n",
    "# Read and write in chunks\n",
    "chunksize = 100_000\n",
    "for chunk in pd.read_csv(csv_path, chunksize=chunksize):\n",
    "    chunk.to_sql(\"labevents\", conn, if_exists=\"append\", index=False)\n",
    "\n",
    "print(\"✅ SQLite database created and data imported.\")"
   ]
  },
  {
   "cell_type": "code",
   "execution_count": 13,
   "id": "6c648e24-a97b-4a5e-be4b-8b829e128b1d",
   "metadata": {},
   "outputs": [],
   "source": [
    "db_path = \"/Users/mmurali1/Documents/Imperial/MIMICIV_analysis/labevents.db\""
   ]
  },
  {
   "cell_type": "code",
   "execution_count": 14,
   "id": "605615c4-70da-4721-99f0-7273d8d1fe6d",
   "metadata": {},
   "outputs": [],
   "source": [
    "def query_labevents_features(patients, features, db_path):\n",
    "    conn = sqlite3.connect(db_path)\n",
    "    \n",
    "    subject_ids = ','.join(map(str, patients['subject_id'].unique()))\n",
    "    itemids = ','.join(map(str, features))\n",
    "\n",
    "    query = f\"\"\"\n",
    "    SELECT subject_id, charttime, itemid, valuenum\n",
    "    FROM labevents\n",
    "    WHERE subject_id IN ({subject_ids})\n",
    "      AND itemid IN ({itemids})\n",
    "    \"\"\"\n",
    "\n",
    "    df = pd.read_sql_query(query, conn)\n",
    "    conn.close()\n",
    "    return df"
   ]
  },
  {
   "cell_type": "code",
   "execution_count": 131,
   "id": "44a69a34-4512-4024-8b53-0747605a7ac5",
   "metadata": {},
   "outputs": [],
   "source": [
    "features = [52038, 52039, 52040, 52041, 52042, 50802, 50803, 50805, 50806, 50809, 50810, 50811, 50813, 50814, 50818, 50820, 50821, 50822, 50824]"
   ]
  },
  {
   "cell_type": "code",
   "execution_count": 132,
   "id": "79030660-4b77-4758-a5a5-33ffb3dee761",
   "metadata": {},
   "outputs": [],
   "source": [
    "labevents_bloodgas = query_labevents_features(patients, features, db_path)"
   ]
  },
  {
   "cell_type": "code",
   "execution_count": 133,
   "id": "ac2c1a13-2be3-4ba7-9e4b-7a44b1f53bea",
   "metadata": {},
   "outputs": [
    {
     "data": {
      "text/html": [
       "<div>\n",
       "<style scoped>\n",
       "    .dataframe tbody tr th:only-of-type {\n",
       "        vertical-align: middle;\n",
       "    }\n",
       "\n",
       "    .dataframe tbody tr th {\n",
       "        vertical-align: top;\n",
       "    }\n",
       "\n",
       "    .dataframe thead th {\n",
       "        text-align: right;\n",
       "    }\n",
       "</style>\n",
       "<table border=\"1\" class=\"dataframe\">\n",
       "  <thead>\n",
       "    <tr style=\"text-align: right;\">\n",
       "      <th></th>\n",
       "      <th>subject_id</th>\n",
       "      <th>charttime</th>\n",
       "      <th>itemid</th>\n",
       "      <th>valuenum</th>\n",
       "    </tr>\n",
       "  </thead>\n",
       "  <tbody>\n",
       "    <tr>\n",
       "      <th>0</th>\n",
       "      <td>10002428</td>\n",
       "      <td>2156-04-12 10:29:00</td>\n",
       "      <td>50813</td>\n",
       "      <td>2.2</td>\n",
       "    </tr>\n",
       "    <tr>\n",
       "      <th>1</th>\n",
       "      <td>10002428</td>\n",
       "      <td>2156-04-12 12:24:00</td>\n",
       "      <td>50813</td>\n",
       "      <td>2.0</td>\n",
       "    </tr>\n",
       "    <tr>\n",
       "      <th>2</th>\n",
       "      <td>10002428</td>\n",
       "      <td>2156-04-12 19:49:00</td>\n",
       "      <td>50813</td>\n",
       "      <td>1.6</td>\n",
       "    </tr>\n",
       "    <tr>\n",
       "      <th>3</th>\n",
       "      <td>10002428</td>\n",
       "      <td>2156-04-13 01:58:00</td>\n",
       "      <td>50813</td>\n",
       "      <td>1.5</td>\n",
       "    </tr>\n",
       "    <tr>\n",
       "      <th>4</th>\n",
       "      <td>10002428</td>\n",
       "      <td>2156-04-13 06:23:00</td>\n",
       "      <td>50813</td>\n",
       "      <td>1.8</td>\n",
       "    </tr>\n",
       "  </tbody>\n",
       "</table>\n",
       "</div>"
      ],
      "text/plain": [
       "   subject_id            charttime  itemid  valuenum\n",
       "0    10002428  2156-04-12 10:29:00   50813       2.2\n",
       "1    10002428  2156-04-12 12:24:00   50813       2.0\n",
       "2    10002428  2156-04-12 19:49:00   50813       1.6\n",
       "3    10002428  2156-04-13 01:58:00   50813       1.5\n",
       "4    10002428  2156-04-13 06:23:00   50813       1.8"
      ]
     },
     "execution_count": 133,
     "metadata": {},
     "output_type": "execute_result"
    }
   ],
   "source": [
    "labevents_bloodgas.head()"
   ]
  },
  {
   "cell_type": "code",
   "execution_count": 134,
   "id": "3b6a0c99-ad38-489e-9ed0-47c849674b40",
   "metadata": {},
   "outputs": [],
   "source": [
    "labevents_bloodgas.to_csv(\"/Users/mmurali1/Documents/Imperial/MIMICIV_analysis/labevents_bloodgas.csv\", index=False)"
   ]
  },
  {
   "cell_type": "code",
   "execution_count": 19,
   "id": "dffe82f8-6259-4087-9477-67c3f248ddfc",
   "metadata": {},
   "outputs": [],
   "source": [
    "features = [50861, 50862, 50863, 50885, 50889, 50893, 50909, 50910, 50912, 50915, 50924, 50960, 50970, 50971, 50983, 50994, 51002, 51003, 51006, 51196, 51200, 51221, 51222, 51237, 51256, 51265, 51274, 51275, 51300, 51301]"
   ]
  },
  {
   "cell_type": "code",
   "execution_count": 20,
   "id": "ebcf393f-6262-4c98-89aa-fdd047fb1125",
   "metadata": {},
   "outputs": [],
   "source": [
    "labevents_laboratory = query_labevents_features(patients, features, db_path)"
   ]
  },
  {
   "cell_type": "code",
   "execution_count": 21,
   "id": "6493986f-83ca-4299-b706-3e6a1fe6ae12",
   "metadata": {
    "scrolled": true
   },
   "outputs": [
    {
     "data": {
      "text/html": [
       "<div>\n",
       "<style scoped>\n",
       "    .dataframe tbody tr th:only-of-type {\n",
       "        vertical-align: middle;\n",
       "    }\n",
       "\n",
       "    .dataframe tbody tr th {\n",
       "        vertical-align: top;\n",
       "    }\n",
       "\n",
       "    .dataframe thead th {\n",
       "        text-align: right;\n",
       "    }\n",
       "</style>\n",
       "<table border=\"1\" class=\"dataframe\">\n",
       "  <thead>\n",
       "    <tr style=\"text-align: right;\">\n",
       "      <th></th>\n",
       "      <th>subject_id</th>\n",
       "      <th>charttime</th>\n",
       "      <th>itemid</th>\n",
       "      <th>valuenum</th>\n",
       "    </tr>\n",
       "  </thead>\n",
       "  <tbody>\n",
       "    <tr>\n",
       "      <th>0</th>\n",
       "      <td>10002428</td>\n",
       "      <td>2154-08-12 12:10:00</td>\n",
       "      <td>51200</td>\n",
       "      <td>1.1</td>\n",
       "    </tr>\n",
       "    <tr>\n",
       "      <th>1</th>\n",
       "      <td>10002428</td>\n",
       "      <td>2154-08-12 12:10:00</td>\n",
       "      <td>51221</td>\n",
       "      <td>35.2</td>\n",
       "    </tr>\n",
       "    <tr>\n",
       "      <th>2</th>\n",
       "      <td>10002428</td>\n",
       "      <td>2154-08-12 12:10:00</td>\n",
       "      <td>51222</td>\n",
       "      <td>11.8</td>\n",
       "    </tr>\n",
       "    <tr>\n",
       "      <th>3</th>\n",
       "      <td>10002428</td>\n",
       "      <td>2154-08-12 12:10:00</td>\n",
       "      <td>51256</td>\n",
       "      <td>68.5</td>\n",
       "    </tr>\n",
       "    <tr>\n",
       "      <th>4</th>\n",
       "      <td>10002428</td>\n",
       "      <td>2154-08-12 12:10:00</td>\n",
       "      <td>51265</td>\n",
       "      <td>344.0</td>\n",
       "    </tr>\n",
       "  </tbody>\n",
       "</table>\n",
       "</div>"
      ],
      "text/plain": [
       "   subject_id            charttime  itemid  valuenum\n",
       "0    10002428  2154-08-12 12:10:00   51200       1.1\n",
       "1    10002428  2154-08-12 12:10:00   51221      35.2\n",
       "2    10002428  2154-08-12 12:10:00   51222      11.8\n",
       "3    10002428  2154-08-12 12:10:00   51256      68.5\n",
       "4    10002428  2154-08-12 12:10:00   51265     344.0"
      ]
     },
     "execution_count": 21,
     "metadata": {},
     "output_type": "execute_result"
    }
   ],
   "source": [
    "labevents_laboratory.head()"
   ]
  },
  {
   "cell_type": "code",
   "execution_count": 22,
   "id": "dfae1a8a-057d-441f-b775-f7fcb6ebddf2",
   "metadata": {},
   "outputs": [],
   "source": [
    "labevents_laboratory.to_csv(\"/Users/mmurali1/Documents/Imperial/MIMICIV_analysis/labevents_laboratory.csv\", index=False)"
   ]
  },
  {
   "cell_type": "code",
   "execution_count": 139,
   "id": "d4f38a9d-0999-4bdb-afcf-b30e1d552fec",
   "metadata": {},
   "outputs": [
    {
     "data": {
      "text/plain": [
       "(4657752, 5)"
      ]
     },
     "execution_count": 139,
     "metadata": {},
     "output_type": "execute_result"
    }
   ],
   "source": [
    "chartevents_ventilation.shape"
   ]
  },
  {
   "cell_type": "code",
   "execution_count": 140,
   "id": "b88d3db7-e74f-4bff-b7d6-fc32ec262823",
   "metadata": {},
   "outputs": [
    {
     "data": {
      "text/plain": [
       "(9756, 5)"
      ]
     },
     "execution_count": 140,
     "metadata": {},
     "output_type": "execute_result"
    }
   ],
   "source": [
    "chartevents_demographics.shape"
   ]
  },
  {
   "cell_type": "code",
   "execution_count": 141,
   "id": "fc3e0aba-265e-4e01-ade5-065e64e1cd8c",
   "metadata": {},
   "outputs": [
    {
     "data": {
      "text/plain": [
       "(5959734, 5)"
      ]
     },
     "execution_count": 141,
     "metadata": {},
     "output_type": "execute_result"
    }
   ],
   "source": [
    "chartevents_vitals.shape"
   ]
  },
  {
   "cell_type": "code",
   "execution_count": 142,
   "id": "a1ac0513-d81b-4377-bc02-f571a89c2c7a",
   "metadata": {},
   "outputs": [
    {
     "data": {
      "text/plain": [
       "(911431, 4)"
      ]
     },
     "execution_count": 142,
     "metadata": {},
     "output_type": "execute_result"
    }
   ],
   "source": [
    "labevents_bloodgas.shape"
   ]
  },
  {
   "cell_type": "code",
   "execution_count": 143,
   "id": "3521c027-2a94-455b-afc4-891d3f2e67ec",
   "metadata": {},
   "outputs": [
    {
     "data": {
      "text/plain": [
       "(5075418, 4)"
      ]
     },
     "execution_count": 143,
     "metadata": {},
     "output_type": "execute_result"
    }
   ],
   "source": [
    "labevents_laboratory.shape"
   ]
  },
  {
   "cell_type": "code",
   "execution_count": 144,
   "id": "67eff7e2-ba6e-4fb6-b568-9389625cae1d",
   "metadata": {},
   "outputs": [
    {
     "data": {
      "text/plain": [
       "subject_id         0\n",
       "stay_id            0\n",
       "charttime          0\n",
       "itemid             0\n",
       "valuenum      817410\n",
       "dtype: int64"
      ]
     },
     "execution_count": 144,
     "metadata": {},
     "output_type": "execute_result"
    }
   ],
   "source": [
    "chartevents_ventilation.isna().sum()"
   ]
  },
  {
   "cell_type": "code",
   "execution_count": 145,
   "id": "f48483ee-fadc-46ee-8b11-07e84dfca4e9",
   "metadata": {},
   "outputs": [
    {
     "data": {
      "text/plain": [
       "subject_id    0\n",
       "stay_id       0\n",
       "charttime     0\n",
       "itemid        0\n",
       "valuenum      0\n",
       "dtype: int64"
      ]
     },
     "execution_count": 145,
     "metadata": {},
     "output_type": "execute_result"
    }
   ],
   "source": [
    "chartevents_demographics.isna().sum()"
   ]
  },
  {
   "cell_type": "code",
   "execution_count": 146,
   "id": "aea95fa6-bd88-44ad-a9ca-1654774bd429",
   "metadata": {},
   "outputs": [
    {
     "data": {
      "text/plain": [
       "subject_id    0\n",
       "stay_id       0\n",
       "charttime     0\n",
       "itemid        0\n",
       "valuenum      0\n",
       "dtype: int64"
      ]
     },
     "execution_count": 146,
     "metadata": {},
     "output_type": "execute_result"
    }
   ],
   "source": [
    "chartevents_vitals.isna().sum()"
   ]
  },
  {
   "cell_type": "code",
   "execution_count": 147,
   "id": "cdcdf851-2be5-443e-a265-6e3ca77ce8fe",
   "metadata": {},
   "outputs": [
    {
     "data": {
      "text/plain": [
       "subject_id      0\n",
       "charttime       0\n",
       "itemid          0\n",
       "valuenum      599\n",
       "dtype: int64"
      ]
     },
     "execution_count": 147,
     "metadata": {},
     "output_type": "execute_result"
    }
   ],
   "source": [
    "labevents_bloodgas.isna().sum()"
   ]
  },
  {
   "cell_type": "code",
   "execution_count": 148,
   "id": "4d20ca5d-6917-41db-8a3e-5e3b1aedd9ba",
   "metadata": {},
   "outputs": [
    {
     "data": {
      "text/plain": [
       "subject_id        0\n",
       "charttime         0\n",
       "itemid            0\n",
       "valuenum      91575\n",
       "dtype: int64"
      ]
     },
     "execution_count": 148,
     "metadata": {},
     "output_type": "execute_result"
    }
   ],
   "source": [
    "labevents_laboratory.isna().sum()"
   ]
  },
  {
   "cell_type": "code",
   "execution_count": 55,
   "id": "961efec6-8b4d-41fc-81b1-2e618e20a6de",
   "metadata": {},
   "outputs": [
    {
     "name": "stdout",
     "output_type": "stream",
     "text": [
      "✅ SQLite database created and data imported.\n"
     ]
    }
   ],
   "source": [
    "# File path to CSV\n",
    "csv_path = \"/Users/mmurali1/Documents/Imperial/MIMICIV_analysis/mimic-iv-3.1/icu/inputevents.csv\"\n",
    "\n",
    "# Create SQLite database\n",
    "db_path = \"/Users/mmurali1/Documents/Imperial/MIMICIV_analysis/inputevents.db\"\n",
    "conn = sqlite3.connect(db_path)\n",
    "\n",
    "# Read and write in chunks\n",
    "chunksize = 100_000\n",
    "for chunk in pd.read_csv(csv_path, chunksize=chunksize):\n",
    "    chunk.to_sql(\"inputevents\", conn, if_exists=\"append\", index=False)\n",
    "\n",
    "print(\"✅ SQLite database created and data imported.\")"
   ]
  },
  {
   "cell_type": "code",
   "execution_count": 149,
   "id": "a7a3c821-9fad-48a3-974b-7ca307eba6e9",
   "metadata": {},
   "outputs": [],
   "source": [
    "db_path = \"/Users/mmurali1/Documents/Imperial/MIMICIV_analysis/inputevents.db\""
   ]
  },
  {
   "cell_type": "code",
   "execution_count": 150,
   "id": "dc823d45-abfb-4012-b2ec-6e0e89a6012e",
   "metadata": {},
   "outputs": [],
   "source": [
    "def query_inputevents(patients, db_path):\n",
    "    conn = sqlite3.connect(db_path)\n",
    "    \n",
    "    subject_ids = ','.join(map(str, patients['subject_id'].unique()))\n",
    "\n",
    "    query = f\"\"\"\n",
    "    SELECT subject_id, stay_id, starttime, endtime, itemid, amount, amountuom, totalamount, totalamountuom, rate, rateuom\n",
    "    FROM inputevents\n",
    "    WHERE subject_id IN ({subject_ids})\n",
    "    \"\"\"\n",
    "\n",
    "    df = pd.read_sql_query(query, conn)\n",
    "    conn.close()\n",
    "    return df"
   ]
  },
  {
   "cell_type": "code",
   "execution_count": 151,
   "id": "d50e238c-7994-4200-be3a-502049b5e336",
   "metadata": {},
   "outputs": [],
   "source": [
    "inputevents = query_inputevents(patients, db_path)"
   ]
  },
  {
   "cell_type": "code",
   "execution_count": 152,
   "id": "fa739e2e-7d09-4bf5-8bb5-1edc6910c4fd",
   "metadata": {},
   "outputs": [
    {
     "data": {
      "text/html": [
       "<div>\n",
       "<style scoped>\n",
       "    .dataframe tbody tr th:only-of-type {\n",
       "        vertical-align: middle;\n",
       "    }\n",
       "\n",
       "    .dataframe tbody tr th {\n",
       "        vertical-align: top;\n",
       "    }\n",
       "\n",
       "    .dataframe thead th {\n",
       "        text-align: right;\n",
       "    }\n",
       "</style>\n",
       "<table border=\"1\" class=\"dataframe\">\n",
       "  <thead>\n",
       "    <tr style=\"text-align: right;\">\n",
       "      <th></th>\n",
       "      <th>subject_id</th>\n",
       "      <th>stay_id</th>\n",
       "      <th>starttime</th>\n",
       "      <th>endtime</th>\n",
       "      <th>itemid</th>\n",
       "      <th>amount</th>\n",
       "      <th>amountuom</th>\n",
       "      <th>totalamount</th>\n",
       "      <th>totalamountuom</th>\n",
       "      <th>rate</th>\n",
       "      <th>rateuom</th>\n",
       "    </tr>\n",
       "  </thead>\n",
       "  <tbody>\n",
       "    <tr>\n",
       "      <th>0</th>\n",
       "      <td>10002428</td>\n",
       "      <td>34807493</td>\n",
       "      <td>2156-05-01 08:00:00</td>\n",
       "      <td>2156-05-01 08:01:00</td>\n",
       "      <td>225799</td>\n",
       "      <td>30.0</td>\n",
       "      <td>mL</td>\n",
       "      <td>30.0</td>\n",
       "      <td>mL</td>\n",
       "      <td>NaN</td>\n",
       "      <td>None</td>\n",
       "    </tr>\n",
       "    <tr>\n",
       "      <th>1</th>\n",
       "      <td>10002428</td>\n",
       "      <td>34807493</td>\n",
       "      <td>2156-05-01 08:00:00</td>\n",
       "      <td>2156-05-01 08:01:00</td>\n",
       "      <td>225975</td>\n",
       "      <td>1.0</td>\n",
       "      <td>dose</td>\n",
       "      <td>NaN</td>\n",
       "      <td>None</td>\n",
       "      <td>NaN</td>\n",
       "      <td>None</td>\n",
       "    </tr>\n",
       "    <tr>\n",
       "      <th>2</th>\n",
       "      <td>10002428</td>\n",
       "      <td>34807493</td>\n",
       "      <td>2156-05-01 08:00:00</td>\n",
       "      <td>2156-05-01 08:01:00</td>\n",
       "      <td>226453</td>\n",
       "      <td>50.0</td>\n",
       "      <td>mL</td>\n",
       "      <td>50.0</td>\n",
       "      <td>mL</td>\n",
       "      <td>NaN</td>\n",
       "      <td>None</td>\n",
       "    </tr>\n",
       "    <tr>\n",
       "      <th>3</th>\n",
       "      <td>10002428</td>\n",
       "      <td>34807493</td>\n",
       "      <td>2156-05-01 10:00:00</td>\n",
       "      <td>2156-05-01 10:01:00</td>\n",
       "      <td>220949</td>\n",
       "      <td>100.0</td>\n",
       "      <td>mL</td>\n",
       "      <td>100.0</td>\n",
       "      <td>mL</td>\n",
       "      <td>NaN</td>\n",
       "      <td>None</td>\n",
       "    </tr>\n",
       "    <tr>\n",
       "      <th>4</th>\n",
       "      <td>10002428</td>\n",
       "      <td>34807493</td>\n",
       "      <td>2156-05-01 10:00:00</td>\n",
       "      <td>2156-05-01 10:01:00</td>\n",
       "      <td>225884</td>\n",
       "      <td>1.0</td>\n",
       "      <td>dose</td>\n",
       "      <td>100.0</td>\n",
       "      <td>mL</td>\n",
       "      <td>NaN</td>\n",
       "      <td>None</td>\n",
       "    </tr>\n",
       "  </tbody>\n",
       "</table>\n",
       "</div>"
      ],
      "text/plain": [
       "   subject_id   stay_id            starttime              endtime  itemid  \\\n",
       "0    10002428  34807493  2156-05-01 08:00:00  2156-05-01 08:01:00  225799   \n",
       "1    10002428  34807493  2156-05-01 08:00:00  2156-05-01 08:01:00  225975   \n",
       "2    10002428  34807493  2156-05-01 08:00:00  2156-05-01 08:01:00  226453   \n",
       "3    10002428  34807493  2156-05-01 10:00:00  2156-05-01 10:01:00  220949   \n",
       "4    10002428  34807493  2156-05-01 10:00:00  2156-05-01 10:01:00  225884   \n",
       "\n",
       "   amount amountuom  totalamount totalamountuom  rate rateuom  \n",
       "0    30.0        mL         30.0             mL   NaN    None  \n",
       "1     1.0      dose          NaN           None   NaN    None  \n",
       "2    50.0        mL         50.0             mL   NaN    None  \n",
       "3   100.0        mL        100.0             mL   NaN    None  \n",
       "4     1.0      dose        100.0             mL   NaN    None  "
      ]
     },
     "execution_count": 152,
     "metadata": {},
     "output_type": "execute_result"
    }
   ],
   "source": [
    "inputevents.head()"
   ]
  },
  {
   "cell_type": "code",
   "execution_count": 153,
   "id": "8ca25077-aca7-4725-b0f1-a40a9f802cf0",
   "metadata": {},
   "outputs": [
    {
     "data": {
      "text/plain": [
       "(3174060, 11)"
      ]
     },
     "execution_count": 153,
     "metadata": {},
     "output_type": "execute_result"
    }
   ],
   "source": [
    "inputevents.shape"
   ]
  },
  {
   "cell_type": "code",
   "execution_count": 154,
   "id": "605da714-e19c-4ca8-813c-7eb4935ce7c8",
   "metadata": {},
   "outputs": [],
   "source": [
    "inputevents.to_csv(\"/Users/mmurali1/Documents/Imperial/MIMICIV_analysis/inputevents.csv\", index=False)"
   ]
  },
  {
   "cell_type": "code",
   "execution_count": 67,
   "id": "534dfd99-d709-4de7-bd42-a534bb1536ce",
   "metadata": {},
   "outputs": [
    {
     "name": "stdout",
     "output_type": "stream",
     "text": [
      "✅ SQLite database created and data imported.\n"
     ]
    }
   ],
   "source": [
    "# File path to CSV\n",
    "csv_path = \"/Users/mmurali1/Documents/Imperial/MIMICIV_analysis/mimic-iv-3.1/icu/outputevents.csv\"\n",
    "\n",
    "# Create SQLite database\n",
    "db_path = \"/Users/mmurali1/Documents/Imperial/MIMICIV_analysis/outputevents.db\"\n",
    "conn = sqlite3.connect(db_path)\n",
    "\n",
    "# Read and write in chunks\n",
    "chunksize = 100_000\n",
    "for chunk in pd.read_csv(csv_path, chunksize=chunksize):\n",
    "    chunk.to_sql(\"outputevents\", conn, if_exists=\"append\", index=False)\n",
    "\n",
    "print(\"✅ SQLite database created and data imported.\")"
   ]
  },
  {
   "cell_type": "code",
   "execution_count": 155,
   "id": "8ae7630a-43ac-438d-a14a-1982dadba506",
   "metadata": {},
   "outputs": [],
   "source": [
    "db_path = \"/Users/mmurali1/Documents/Imperial/MIMICIV_analysis/outputevents.db\""
   ]
  },
  {
   "cell_type": "code",
   "execution_count": 156,
   "id": "57744c43-0ea5-463e-be34-4f9745bea9a4",
   "metadata": {},
   "outputs": [],
   "source": [
    "def query_outputevents(patients, db_path):\n",
    "    conn = sqlite3.connect(db_path)\n",
    "    \n",
    "    subject_ids = ','.join(map(str, patients['subject_id'].unique()))\n",
    "\n",
    "    query = f\"\"\"\n",
    "    SELECT subject_id, stay_id, itemid, charttime, value, valueuom\n",
    "    FROM outputevents\n",
    "    WHERE subject_id IN ({subject_ids})\n",
    "    \"\"\"\n",
    "\n",
    "    df = pd.read_sql_query(query, conn)\n",
    "    conn.close()\n",
    "    return df"
   ]
  },
  {
   "cell_type": "code",
   "execution_count": 157,
   "id": "c473b470-570b-40fa-8bed-40f11e3beb48",
   "metadata": {},
   "outputs": [
    {
     "data": {
      "text/html": [
       "<div>\n",
       "<style scoped>\n",
       "    .dataframe tbody tr th:only-of-type {\n",
       "        vertical-align: middle;\n",
       "    }\n",
       "\n",
       "    .dataframe tbody tr th {\n",
       "        vertical-align: top;\n",
       "    }\n",
       "\n",
       "    .dataframe thead th {\n",
       "        text-align: right;\n",
       "    }\n",
       "</style>\n",
       "<table border=\"1\" class=\"dataframe\">\n",
       "  <thead>\n",
       "    <tr style=\"text-align: right;\">\n",
       "      <th></th>\n",
       "      <th>subject_id</th>\n",
       "      <th>stay_id</th>\n",
       "      <th>itemid</th>\n",
       "      <th>charttime</th>\n",
       "      <th>value</th>\n",
       "      <th>valueuom</th>\n",
       "    </tr>\n",
       "  </thead>\n",
       "  <tbody>\n",
       "    <tr>\n",
       "      <th>0</th>\n",
       "      <td>10002428</td>\n",
       "      <td>34807493</td>\n",
       "      <td>226559</td>\n",
       "      <td>2156-05-01 07:00:00</td>\n",
       "      <td>35.0</td>\n",
       "      <td>mL</td>\n",
       "    </tr>\n",
       "    <tr>\n",
       "      <th>1</th>\n",
       "      <td>10002428</td>\n",
       "      <td>34807493</td>\n",
       "      <td>226559</td>\n",
       "      <td>2156-05-01 08:00:00</td>\n",
       "      <td>35.0</td>\n",
       "      <td>mL</td>\n",
       "    </tr>\n",
       "    <tr>\n",
       "      <th>2</th>\n",
       "      <td>10002428</td>\n",
       "      <td>34807493</td>\n",
       "      <td>226559</td>\n",
       "      <td>2156-05-01 09:00:00</td>\n",
       "      <td>35.0</td>\n",
       "      <td>mL</td>\n",
       "    </tr>\n",
       "    <tr>\n",
       "      <th>3</th>\n",
       "      <td>10002428</td>\n",
       "      <td>34807493</td>\n",
       "      <td>226559</td>\n",
       "      <td>2156-05-01 10:00:00</td>\n",
       "      <td>35.0</td>\n",
       "      <td>mL</td>\n",
       "    </tr>\n",
       "    <tr>\n",
       "      <th>4</th>\n",
       "      <td>10002428</td>\n",
       "      <td>34807493</td>\n",
       "      <td>226559</td>\n",
       "      <td>2156-05-01 11:00:00</td>\n",
       "      <td>35.0</td>\n",
       "      <td>mL</td>\n",
       "    </tr>\n",
       "  </tbody>\n",
       "</table>\n",
       "</div>"
      ],
      "text/plain": [
       "   subject_id   stay_id  itemid            charttime  value valueuom\n",
       "0    10002428  34807493  226559  2156-05-01 07:00:00   35.0       mL\n",
       "1    10002428  34807493  226559  2156-05-01 08:00:00   35.0       mL\n",
       "2    10002428  34807493  226559  2156-05-01 09:00:00   35.0       mL\n",
       "3    10002428  34807493  226559  2156-05-01 10:00:00   35.0       mL\n",
       "4    10002428  34807493  226559  2156-05-01 11:00:00   35.0       mL"
      ]
     },
     "execution_count": 157,
     "metadata": {},
     "output_type": "execute_result"
    }
   ],
   "source": [
    "outputevents = query_outputevents(patients, db_path)\n",
    "\n",
    "outputevents.head()"
   ]
  },
  {
   "cell_type": "code",
   "execution_count": 158,
   "id": "4b255606-2e93-474d-a096-1ba5194970a7",
   "metadata": {},
   "outputs": [
    {
     "data": {
      "text/plain": [
       "(1379313, 6)"
      ]
     },
     "execution_count": 158,
     "metadata": {},
     "output_type": "execute_result"
    }
   ],
   "source": [
    "outputevents.shape"
   ]
  },
  {
   "cell_type": "code",
   "execution_count": 159,
   "id": "56b04c2b-8f25-4166-9069-c6b5149a0657",
   "metadata": {},
   "outputs": [],
   "source": [
    "outputevents.to_csv(\"/Users/mmurali1/Documents/Imperial/MIMICIV_analysis/outputevents.csv\", index=False)"
   ]
  },
  {
   "cell_type": "code",
   "execution_count": 5,
   "id": "33c16b7b-f72e-436d-92a3-59741d7291c4",
   "metadata": {},
   "outputs": [],
   "source": [
    "features = [220739, 223900, 223901, 228096]"
   ]
  },
  {
   "cell_type": "code",
   "execution_count": 6,
   "id": "e8e2eb78-bc61-4eb7-8cce-a9b1ba1e3897",
   "metadata": {},
   "outputs": [],
   "source": [
    "chartevents_neurology = query_chartevents_features(patients, features, db_path)"
   ]
  },
  {
   "cell_type": "code",
   "execution_count": 8,
   "id": "56b683f0-e838-402c-8de7-6050f9769dea",
   "metadata": {},
   "outputs": [
    {
     "data": {
      "text/plain": [
       "(1207324, 6)"
      ]
     },
     "execution_count": 8,
     "metadata": {},
     "output_type": "execute_result"
    }
   ],
   "source": [
    "chartevents_neurology.shape"
   ]
  },
  {
   "cell_type": "code",
   "execution_count": 9,
   "id": "9905c729-c54f-46e7-bdd4-45aa773946f8",
   "metadata": {},
   "outputs": [
    {
     "data": {
      "text/html": [
       "<div>\n",
       "<style scoped>\n",
       "    .dataframe tbody tr th:only-of-type {\n",
       "        vertical-align: middle;\n",
       "    }\n",
       "\n",
       "    .dataframe tbody tr th {\n",
       "        vertical-align: top;\n",
       "    }\n",
       "\n",
       "    .dataframe thead th {\n",
       "        text-align: right;\n",
       "    }\n",
       "</style>\n",
       "<table border=\"1\" class=\"dataframe\">\n",
       "  <thead>\n",
       "    <tr style=\"text-align: right;\">\n",
       "      <th></th>\n",
       "      <th>subject_id</th>\n",
       "      <th>stay_id</th>\n",
       "      <th>charttime</th>\n",
       "      <th>itemid</th>\n",
       "      <th>value</th>\n",
       "      <th>valuenum</th>\n",
       "    </tr>\n",
       "  </thead>\n",
       "  <tbody>\n",
       "    <tr>\n",
       "      <th>0</th>\n",
       "      <td>10002428</td>\n",
       "      <td>38875437</td>\n",
       "      <td>2156-04-26 08:10:00</td>\n",
       "      <td>228096</td>\n",
       "      <td>0  Alert and calm</td>\n",
       "      <td>0.0</td>\n",
       "    </tr>\n",
       "    <tr>\n",
       "      <th>1</th>\n",
       "      <td>10002428</td>\n",
       "      <td>38875437</td>\n",
       "      <td>2156-04-26 08:11:00</td>\n",
       "      <td>220739</td>\n",
       "      <td>Spontaneously</td>\n",
       "      <td>4.0</td>\n",
       "    </tr>\n",
       "    <tr>\n",
       "      <th>2</th>\n",
       "      <td>10002428</td>\n",
       "      <td>38875437</td>\n",
       "      <td>2156-04-26 08:11:00</td>\n",
       "      <td>223900</td>\n",
       "      <td>Oriented</td>\n",
       "      <td>5.0</td>\n",
       "    </tr>\n",
       "    <tr>\n",
       "      <th>3</th>\n",
       "      <td>10002428</td>\n",
       "      <td>38875437</td>\n",
       "      <td>2156-04-26 08:11:00</td>\n",
       "      <td>223901</td>\n",
       "      <td>Obeys Commands</td>\n",
       "      <td>6.0</td>\n",
       "    </tr>\n",
       "    <tr>\n",
       "      <th>4</th>\n",
       "      <td>10002428</td>\n",
       "      <td>38875437</td>\n",
       "      <td>2156-04-26 12:00:00</td>\n",
       "      <td>220739</td>\n",
       "      <td>Spontaneously</td>\n",
       "      <td>4.0</td>\n",
       "    </tr>\n",
       "  </tbody>\n",
       "</table>\n",
       "</div>"
      ],
      "text/plain": [
       "   subject_id   stay_id            charttime  itemid               value  \\\n",
       "0    10002428  38875437  2156-04-26 08:10:00  228096   0  Alert and calm   \n",
       "1    10002428  38875437  2156-04-26 08:11:00  220739       Spontaneously   \n",
       "2    10002428  38875437  2156-04-26 08:11:00  223900            Oriented   \n",
       "3    10002428  38875437  2156-04-26 08:11:00  223901      Obeys Commands   \n",
       "4    10002428  38875437  2156-04-26 12:00:00  220739       Spontaneously   \n",
       "\n",
       "   valuenum  \n",
       "0       0.0  \n",
       "1       4.0  \n",
       "2       5.0  \n",
       "3       6.0  \n",
       "4       4.0  "
      ]
     },
     "execution_count": 9,
     "metadata": {},
     "output_type": "execute_result"
    }
   ],
   "source": [
    "chartevents_neurology.head()"
   ]
  },
  {
   "cell_type": "code",
   "execution_count": 10,
   "id": "ce85a234-b3a2-437c-b01e-03f6f96d5d27",
   "metadata": {},
   "outputs": [],
   "source": [
    "chartevents_neurology.to_csv(\"/Users/mmurali1/Documents/Imperial/MIMICIV_analysis/chartevents_neurology.csv\", index=False)"
   ]
  },
  {
   "cell_type": "code",
   "execution_count": null,
   "id": "b1279f24-12ba-403e-872d-1fcb6b50ce7e",
   "metadata": {},
   "outputs": [],
   "source": []
  }
 ],
 "metadata": {
  "kernelspec": {
   "display_name": "Python 3 (ipykernel)",
   "language": "python",
   "name": "python3"
  },
  "language_info": {
   "codemirror_mode": {
    "name": "ipython",
    "version": 3
   },
   "file_extension": ".py",
   "mimetype": "text/x-python",
   "name": "python",
   "nbconvert_exporter": "python",
   "pygments_lexer": "ipython3",
   "version": "3.12.7"
  }
 },
 "nbformat": 4,
 "nbformat_minor": 5
}
