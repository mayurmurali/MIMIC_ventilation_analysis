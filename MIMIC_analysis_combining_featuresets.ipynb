{
 "cells": [
  {
   "cell_type": "code",
   "execution_count": 80,
   "id": "b652291c-6bd3-4699-ae4b-8fc4f5f4d4e4",
   "metadata": {},
   "outputs": [],
   "source": [
    "import pandas as pd\n",
    "import numpy as np"
   ]
  },
  {
   "cell_type": "code",
   "execution_count": 81,
   "id": "194633b3-4a20-4cc7-b375-803902560967",
   "metadata": {},
   "outputs": [
    {
     "name": "stdout",
     "output_type": "stream",
     "text": [
      "   subject_id   stay_id            charttime  itemid value  valuenum  \\\n",
      "0    10002428  38875437  2156-04-22 07:00:00  220339    10      10.0   \n",
      "1    10002428  38875437  2156-04-22 07:00:00  223835    40      40.0   \n",
      "2    10002428  38875437  2156-04-22 07:00:00  224685   437     437.0   \n",
      "3    10002428  38875437  2156-04-22 07:00:00  224687     9       9.0   \n",
      "4    10002428  38875437  2156-04-22 07:00:00  224688    22      22.0   \n",
      "\n",
      "                     label  ext_success  \n",
      "0                 PEEP set            1  \n",
      "1     Inspired O2 Fraction            1  \n",
      "2  Tidal Volume (observed)            1  \n",
      "3            Minute Volume            1  \n",
      "4   Respiratory Rate (Set)            1  \n"
     ]
    }
   ],
   "source": [
    "file_path = '/Users/mmurali1/Documents/Imperial/MIMICIV_analysis/ventilation_cleaned_combi.csv'\n",
    "\n",
    "# Load the CSV into a DataFrame\n",
    "ventilation = pd.read_csv(file_path)\n",
    "\n",
    "# Display the first few rows to confirm it loaded correctly\n",
    "print(ventilation.head())"
   ]
  },
  {
   "cell_type": "code",
   "execution_count": 82,
   "id": "ad5a993a-c00f-4bb5-8a87-afebb541956a",
   "metadata": {},
   "outputs": [
    {
     "name": "stdout",
     "output_type": "stream",
     "text": [
      "   subject_id   stay_id            charttime  itemid  value  valuenum  \\\n",
      "0    10002428  38875437  2156-04-22 07:00:00  224689    0.0       0.0   \n",
      "1    10002428  38875437  2156-04-22 09:00:00  224689   26.0      26.0   \n",
      "2    10002428  38875437  2156-04-22 12:00:00  224689   24.0      24.0   \n",
      "3    10002428  38875437  2156-04-22 13:00:00  224689   23.0      23.0   \n",
      "4    10002428  38875437  2156-04-22 15:00:00  224689   22.0      22.0   \n",
      "\n",
      "                            label  ext_success  \n",
      "0  Respiratory Rate (spontaneous)            1  \n",
      "1  Respiratory Rate (spontaneous)            1  \n",
      "2  Respiratory Rate (spontaneous)            1  \n",
      "3  Respiratory Rate (spontaneous)            1  \n",
      "4  Respiratory Rate (spontaneous)            1  \n"
     ]
    }
   ],
   "source": [
    "file_path = '/Users/mmurali1/Documents/Imperial/MIMICIV_analysis/vitals_cleaned_combi.csv'\n",
    "\n",
    "# Load the CSV into a DataFrame\n",
    "vitals = pd.read_csv(file_path)\n",
    "\n",
    "# Display the first few rows to confirm it loaded correctly\n",
    "print(vitals.head())"
   ]
  },
  {
   "cell_type": "code",
   "execution_count": 83,
   "id": "1f615a6e-b565-495a-86e5-69bd9b81d331",
   "metadata": {},
   "outputs": [
    {
     "name": "stdout",
     "output_type": "stream",
     "text": [
      "   subject_id            charttime  itemid  valuenum    label  ext_success\n",
      "0    10002428  2156-04-12 10:29:00   50813       2.2  Lactate            1\n",
      "1    10002428  2156-04-12 12:24:00   50813       2.0  Lactate            1\n",
      "2    10002428  2156-04-12 19:49:00   50813       1.6  Lactate            1\n",
      "3    10002428  2156-04-13 01:58:00   50813       1.5  Lactate            1\n",
      "4    10002428  2156-04-13 06:23:00   50813       1.8  Lactate            1\n"
     ]
    }
   ],
   "source": [
    "file_path = '/Users/mmurali1/Documents/Imperial/MIMICIV_analysis/bloodgas_cleaned_combi.csv'\n",
    "\n",
    "# Load the CSV into a DataFrame\n",
    "bloodgas = pd.read_csv(file_path)\n",
    "\n",
    "# Display the first few rows to confirm it loaded correctly\n",
    "print(bloodgas.head())"
   ]
  },
  {
   "cell_type": "code",
   "execution_count": 84,
   "id": "72efbd29-9395-4ccc-8637-795c9620a799",
   "metadata": {},
   "outputs": [
    {
     "name": "stdout",
     "output_type": "stream",
     "text": [
      "   subject_id   stay_id   charttime  valuenum  itemid          label  \\\n",
      "0    10002428  33987268  2156-04-12    2545.0  123456  Fluid balance   \n",
      "1    10002428  33987268  2156-04-13    5880.0  123456  Fluid balance   \n",
      "2    10002428  33987268  2156-04-14    5713.0  123456  Fluid balance   \n",
      "3    10002428  33987268  2156-04-15    1533.0  123456  Fluid balance   \n",
      "4    10002428  33987268  2156-04-16      70.0  123456  Fluid balance   \n",
      "\n",
      "   ext_success  \n",
      "0            1  \n",
      "1            1  \n",
      "2            1  \n",
      "3            1  \n",
      "4            1  \n"
     ]
    }
   ],
   "source": [
    "file_path = '/Users/mmurali1/Documents/Imperial/MIMICIV_analysis/fb_cleaned_combi.csv'\n",
    "\n",
    "# Load the CSV into a DataFrame\n",
    "fb = pd.read_csv(file_path)\n",
    "\n",
    "# Display the first few rows to confirm it loaded correctly\n",
    "print(fb.head())"
   ]
  },
  {
   "cell_type": "code",
   "execution_count": 85,
   "id": "c99ec0fc-69a8-4ae9-b977-3b466419f419",
   "metadata": {},
   "outputs": [
    {
     "name": "stdout",
     "output_type": "stream",
     "text": [
      "   subject_id   stay_id            charttime  valuenum  itemid  \\\n",
      "0    10002428  38875437  2156-04-21 20:00:00      -1.0  228096   \n",
      "1    10002428  38875437  2156-04-21 20:00:00       3.0  220739   \n",
      "2    10002428  38875437  2156-04-21 20:00:00       1.0  223900   \n",
      "3    10002428  38875437  2156-04-21 20:00:00       6.0  223901   \n",
      "4    10002428  38875437  2156-04-22 00:00:00       3.0  220739   \n",
      "\n",
      "                   label  ext_success  \n",
      "0     Richmond-RAS Scale            1  \n",
      "1      GCS - Eye Opening            1  \n",
      "2  GCS - Verbal Response            1  \n",
      "3   GCS - Motor Response            1  \n",
      "4      GCS - Eye Opening            1  \n"
     ]
    }
   ],
   "source": [
    "file_path = '/Users/mmurali1/Documents/Imperial/MIMICIV_analysis/neurology_cleaned_combi.csv'\n",
    "\n",
    "# Load the CSV into a DataFrame\n",
    "neurology = pd.read_csv(file_path)\n",
    "\n",
    "# Display the first few rows to confirm it loaded correctly\n",
    "print(neurology.head())"
   ]
  },
  {
   "cell_type": "code",
   "execution_count": 86,
   "id": "b943e3d3-1c3c-4160-8ece-1c96ce363ec9",
   "metadata": {},
   "outputs": [
    {
     "name": "stdout",
     "output_type": "stream",
     "text": [
      "   subject_id            charttime  itemid  valuenum              label  \\\n",
      "0    10002428  2154-08-12 12:10:00   51200       1.1        Eosinophils   \n",
      "1    10002428  2154-08-12 12:10:00   51221      35.2         Hematocrit   \n",
      "2    10002428  2154-08-12 12:10:00   51222      11.8         Hemoglobin   \n",
      "3    10002428  2154-08-12 12:10:00   51265     344.0     Platelet Count   \n",
      "4    10002428  2154-08-12 12:10:00   51301       7.8  White Blood Cells   \n",
      "\n",
      "   ext_success  \n",
      "0            1  \n",
      "1            1  \n",
      "2            1  \n",
      "3            1  \n",
      "4            1  \n"
     ]
    }
   ],
   "source": [
    "file_path = '/Users/mmurali1/Documents/Imperial/MIMICIV_analysis/lab_cleaned_combi.csv'\n",
    "\n",
    "# Load the CSV into a DataFrame\n",
    "lab = pd.read_csv(file_path)\n",
    "\n",
    "# Display the first few rows to confirm it loaded correctly\n",
    "print(lab.head())"
   ]
  },
  {
   "cell_type": "code",
   "execution_count": 87,
   "id": "902654b3-a811-42f4-9a7b-d12286f44751",
   "metadata": {},
   "outputs": [],
   "source": [
    "# Remove itemid 224684\n",
    "ventilation = ventilation[ventilation['itemid'] != 224684]\n",
    "\n",
    "# Map itemids to merged values\n",
    "itemid_mapping = {\n",
    "    224370: 224369,\n",
    "    224373: 224369,\n",
    "    220339: 224700\n",
    "}\n",
    "\n",
    "# Apply mapping\n",
    "ventilation['itemid'] = ventilation['itemid'].replace(itemid_mapping)\n",
    "\n",
    "labels_to_remove = [\"Sputum Consistency\", \"Sputum Color\", \"Total PEEP Level\"]\n",
    "ventilation = ventilation[~ventilation['label'].isin(labels_to_remove)]"
   ]
  },
  {
   "cell_type": "code",
   "execution_count": 88,
   "id": "a2fff6ff-dc93-401a-86c4-55ffc8edebfe",
   "metadata": {},
   "outputs": [],
   "source": [
    "ventilation['charttime'] = pd.to_datetime(ventilation['charttime'], errors='coerce')\n",
    "bloodgas['charttime'] = pd.to_datetime(bloodgas['charttime'], errors='coerce')\n",
    "vitals['charttime'] = pd.to_datetime(vitals['charttime'], errors='coerce')\n",
    "fb['charttime'] = pd.to_datetime(fb['charttime'], errors='coerce')\n",
    "neurology['charttime'] = pd.to_datetime(neurology['charttime'], errors='coerce')\n",
    "lab['charttime'] = pd.to_datetime(lab['charttime'], errors='coerce')"
   ]
  },
  {
   "cell_type": "code",
   "execution_count": 89,
   "id": "6fdc97aa-d8e9-4e02-aa49-4cffd0236fbe",
   "metadata": {},
   "outputs": [],
   "source": [
    "# Compute ventilation windows by subject_id and stay_id\n",
    "ventilation_windows = (\n",
    "    ventilation\n",
    "    .groupby(['subject_id', 'stay_id'])['charttime']\n",
    "    .agg(['min', 'max'])\n",
    "    .reset_index()\n",
    "    .rename(columns={'min': 'vent_start', 'max': 'vent_end'})\n",
    ")\n",
    "\n",
    "# Filter vitals (has stay_id)\n",
    "vitals_filtered = vitals.merge(ventilation_windows, on=['subject_id', 'stay_id'], how='inner')\n",
    "vitals_filtered = vitals_filtered[\n",
    "    (vitals_filtered['charttime'] >= vitals_filtered['vent_start']) &\n",
    "    (vitals_filtered['charttime'] <= vitals_filtered['vent_end'])\n",
    "]\n",
    "vitals_filtered = vitals_filtered.drop(columns=['vent_start', 'vent_end'])\n",
    "\n",
    "# Filter fb \n",
    "fb_filtered = fb.merge(ventilation_windows, on=['subject_id', 'stay_id'], how='inner')\n",
    "fb_filtered = fb_filtered[\n",
    "    (fb_filtered['charttime'] >= fb_filtered['vent_start']) &\n",
    "    (fb_filtered['charttime'] <= fb_filtered['vent_end'])\n",
    "]\n",
    "fb_filtered = fb_filtered.drop(columns=['vent_start', 'vent_end'])\n",
    "\n",
    "# Filter neurology \n",
    "neurology_filtered = neurology.merge(ventilation_windows, on=['subject_id', 'stay_id'], how='inner')\n",
    "neurology_filtered = neurology_filtered[\n",
    "    (neurology_filtered['charttime'] >= neurology_filtered['vent_start']) &\n",
    "    (neurology_filtered['charttime'] <= neurology_filtered['vent_end'])\n",
    "]\n",
    "neurology_filtered = neurology_filtered.drop(columns=['vent_start', 'vent_end'])\n",
    "\n",
    "# Map stay_id to bloodgas using charttime within ventilation window\n",
    "def map_stay_ids(bloodgas_df, vent_windows):\n",
    "    mapped_chunks = []\n",
    "\n",
    "    for _, row in vent_windows.iterrows():\n",
    "        sid = row['subject_id']\n",
    "        stay = row['stay_id']\n",
    "        start = row['vent_start']\n",
    "        end = row['vent_end']\n",
    "\n",
    "        match = bloodgas_df[\n",
    "            (bloodgas_df['subject_id'] == sid) &\n",
    "            (bloodgas_df['charttime'] >= start) &\n",
    "            (bloodgas_df['charttime'] <= end)\n",
    "        ].copy()\n",
    "\n",
    "        if not match.empty:\n",
    "            match['stay_id'] = stay\n",
    "            mapped_chunks.append(match)\n",
    "\n",
    "    if mapped_chunks:\n",
    "        return pd.concat(mapped_chunks, ignore_index=True)\n",
    "    else:\n",
    "        return pd.DataFrame(columns=bloodgas_df.columns.tolist() + ['stay_id'])\n",
    "\n",
    "# Apply mapping function\n",
    "bloodgas_mapped = map_stay_ids(bloodgas, ventilation_windows)\n",
    "\n",
    "# Map stay_id to lab using charttime within ventilation window\n",
    "def map_stay_ids(lab_df, vent_windows):\n",
    "    mapped_chunks = []\n",
    "\n",
    "    for _, row in vent_windows.iterrows():\n",
    "        sid = row['subject_id']\n",
    "        stay = row['stay_id']\n",
    "        start = row['vent_start']\n",
    "        end = row['vent_end']\n",
    "\n",
    "        match = lab_df[\n",
    "            (lab_df['subject_id'] == sid) &\n",
    "            (lab_df['charttime'] >= start) &\n",
    "            (lab_df['charttime'] <= end)\n",
    "        ].copy()\n",
    "\n",
    "        if not match.empty:\n",
    "            match['stay_id'] = stay\n",
    "            mapped_chunks.append(match)\n",
    "\n",
    "    if mapped_chunks:\n",
    "        return pd.concat(mapped_chunks, ignore_index=True)\n",
    "    else:\n",
    "        return pd.DataFrame(columns=lab_df.columns.tolist() + ['stay_id'])\n",
    "\n",
    "# Apply mapping function\n",
    "lab_mapped = map_stay_ids(lab, ventilation_windows)\n",
    "\n",
    "# Combine all (all now have stay_id)\n",
    "combined = pd.concat([ventilation, vitals_filtered, bloodgas_mapped, lab_mapped, fb_filtered, neurology_filtered], ignore_index=True)\n",
    "combined = combined.sort_values(by=['subject_id', 'stay_id', 'charttime']).reset_index(drop=True)"
   ]
  },
  {
   "cell_type": "code",
   "execution_count": 90,
   "id": "7931fa27-995d-40c3-9b57-6d77a4cd74c7",
   "metadata": {},
   "outputs": [
    {
     "data": {
      "text/html": [
       "<div>\n",
       "<style scoped>\n",
       "    .dataframe tbody tr th:only-of-type {\n",
       "        vertical-align: middle;\n",
       "    }\n",
       "\n",
       "    .dataframe tbody tr th {\n",
       "        vertical-align: top;\n",
       "    }\n",
       "\n",
       "    .dataframe thead th {\n",
       "        text-align: right;\n",
       "    }\n",
       "</style>\n",
       "<table border=\"1\" class=\"dataframe\">\n",
       "  <thead>\n",
       "    <tr style=\"text-align: right;\">\n",
       "      <th></th>\n",
       "      <th>subject_id</th>\n",
       "      <th>stay_id</th>\n",
       "      <th>charttime</th>\n",
       "      <th>itemid</th>\n",
       "      <th>value</th>\n",
       "      <th>valuenum</th>\n",
       "      <th>label</th>\n",
       "      <th>ext_success</th>\n",
       "    </tr>\n",
       "  </thead>\n",
       "  <tbody>\n",
       "    <tr>\n",
       "      <th>0</th>\n",
       "      <td>10002428</td>\n",
       "      <td>38875437</td>\n",
       "      <td>2156-04-21 18:00:00</td>\n",
       "      <td>220210</td>\n",
       "      <td>22</td>\n",
       "      <td>22.0</td>\n",
       "      <td>Respiratory Rate</td>\n",
       "      <td>1</td>\n",
       "    </tr>\n",
       "    <tr>\n",
       "      <th>1</th>\n",
       "      <td>10002428</td>\n",
       "      <td>38875437</td>\n",
       "      <td>2156-04-21 18:00:00</td>\n",
       "      <td>220045</td>\n",
       "      <td>111.0</td>\n",
       "      <td>111.0</td>\n",
       "      <td>Heart Rate</td>\n",
       "      <td>1</td>\n",
       "    </tr>\n",
       "    <tr>\n",
       "      <th>2</th>\n",
       "      <td>10002428</td>\n",
       "      <td>38875437</td>\n",
       "      <td>2156-04-21 18:00:00</td>\n",
       "      <td>220050</td>\n",
       "      <td>104.0</td>\n",
       "      <td>104.0</td>\n",
       "      <td>Arterial Blood Pressure systolic</td>\n",
       "      <td>1</td>\n",
       "    </tr>\n",
       "    <tr>\n",
       "      <th>3</th>\n",
       "      <td>10002428</td>\n",
       "      <td>38875437</td>\n",
       "      <td>2156-04-21 18:00:00</td>\n",
       "      <td>220051</td>\n",
       "      <td>55.0</td>\n",
       "      <td>55.0</td>\n",
       "      <td>Arterial Blood Pressure diastolic</td>\n",
       "      <td>1</td>\n",
       "    </tr>\n",
       "    <tr>\n",
       "      <th>4</th>\n",
       "      <td>10002428</td>\n",
       "      <td>38875437</td>\n",
       "      <td>2156-04-21 18:00:00</td>\n",
       "      <td>220052</td>\n",
       "      <td>72.0</td>\n",
       "      <td>72.0</td>\n",
       "      <td>Arterial Blood Pressure mean</td>\n",
       "      <td>1</td>\n",
       "    </tr>\n",
       "  </tbody>\n",
       "</table>\n",
       "</div>"
      ],
      "text/plain": [
       "   subject_id   stay_id           charttime  itemid  value  valuenum  \\\n",
       "0    10002428  38875437 2156-04-21 18:00:00  220210     22      22.0   \n",
       "1    10002428  38875437 2156-04-21 18:00:00  220045  111.0     111.0   \n",
       "2    10002428  38875437 2156-04-21 18:00:00  220050  104.0     104.0   \n",
       "3    10002428  38875437 2156-04-21 18:00:00  220051   55.0      55.0   \n",
       "4    10002428  38875437 2156-04-21 18:00:00  220052   72.0      72.0   \n",
       "\n",
       "                               label  ext_success  \n",
       "0                   Respiratory Rate            1  \n",
       "1                         Heart Rate            1  \n",
       "2   Arterial Blood Pressure systolic            1  \n",
       "3  Arterial Blood Pressure diastolic            1  \n",
       "4       Arterial Blood Pressure mean            1  "
      ]
     },
     "execution_count": 90,
     "metadata": {},
     "output_type": "execute_result"
    }
   ],
   "source": [
    "combined.head()"
   ]
  },
  {
   "cell_type": "code",
   "execution_count": 91,
   "id": "42c154e1-c33d-4835-8dab-24fa1cd34b4a",
   "metadata": {},
   "outputs": [
    {
     "data": {
      "image/png": "[encoded data removed]",
      "text/plain": [
       "<Figure size 640x480 with 1 Axes>"
      ]
     },
     "metadata": {},
     "output_type": "display_data"
    }
   ],
   "source": [
    "import seaborn as sns\n",
    "import matplotlib.pyplot as plt\n",
    "\n",
    "plt.hist(bloodgas['charttime'], bins=100, alpha=0.5, label='Blood Gas Times')\n",
    "plt.hist(ventilation['charttime'], bins=100, alpha=0.5, label='Ventilation Times')\n",
    "plt.legend()\n",
    "plt.show()"
   ]
  },
  {
   "cell_type": "code",
   "execution_count": 92,
   "id": "f39d9b7c-918b-4a49-ac64-c9938e7e9bc3",
   "metadata": {},
   "outputs": [
    {
     "data": {
      "image/png": "[encoded data removed]",
      "text/plain": [
       "<Figure size 640x480 with 1 Axes>"
      ]
     },
     "metadata": {},
     "output_type": "display_data"
    }
   ],
   "source": [
    "plt.hist(lab['charttime'], bins=100, alpha=0.5, label='Laboratory Measurement Times')\n",
    "plt.hist(ventilation['charttime'], bins=100, alpha=0.5, label='Ventilation Times')\n",
    "plt.legend()\n",
    "plt.show()"
   ]
  },
  {
   "cell_type": "code",
   "execution_count": 93,
   "id": "edc7193d-6eb4-425d-88e5-5213cf59e576",
   "metadata": {},
   "outputs": [
    {
     "data": {
      "text/plain": [
       "(1723688, 8)"
      ]
     },
     "execution_count": 93,
     "metadata": {},
     "output_type": "execute_result"
    }
   ],
   "source": [
    "combined.shape"
   ]
  },
  {
   "cell_type": "code",
   "execution_count": 94,
   "id": "ccf69b86-7a01-4dad-be35-50e625f958ab",
   "metadata": {},
   "outputs": [
    {
     "name": "stdout",
     "output_type": "stream",
     "text": [
      "Mean Duration: 22.58 hours\n",
      "Min Duration: 0.00 hours\n",
      "Max Duration: 24.00 hours\n"
     ]
    }
   ],
   "source": [
    "duration_df = (\n",
    "    combined\n",
    "    .groupby(['subject_id', 'stay_id'])['charttime']\n",
    "    .agg(start_time='min', end_time='max')\n",
    "    .reset_index()\n",
    ")\n",
    "\n",
    "# Calculate duration in hours for each subject/stay\n",
    "duration_df['duration_hours'] = (duration_df['end_time'] - duration_df['start_time']).dt.total_seconds() / 3600\n",
    "\n",
    "# Compute summary statistics\n",
    "mean_duration = duration_df['duration_hours'].mean()\n",
    "min_duration = duration_df['duration_hours'].min()\n",
    "max_duration = duration_df['duration_hours'].max()\n",
    "\n",
    "# Display results\n",
    "print(f\"Mean Duration: {mean_duration:.2f} hours\")\n",
    "print(f\"Min Duration: {min_duration:.2f} hours\")\n",
    "print(f\"Max Duration: {max_duration:.2f} hours\")"
   ]
  },
  {
   "cell_type": "code",
   "execution_count": 95,
   "id": "7661f614-f434-4acf-b80d-badcc2534ed5",
   "metadata": {},
   "outputs": [
    {
     "data": {
      "image/png": "[encoded data removed]",
      "text/plain": [
       "<Figure size 1000x600 with 1 Axes>"
      ]
     },
     "metadata": {},
     "output_type": "display_data"
    }
   ],
   "source": [
    "import matplotlib.pyplot as plt\n",
    "import seaborn as sns\n",
    "\n",
    "duration_df = (\n",
    "    combined\n",
    "    .groupby(['subject_id', 'stay_id'])['charttime']\n",
    "    .agg(['min', 'max'])\n",
    "    .reset_index()\n",
    ")\n",
    "\n",
    "# Calculate duration in hours\n",
    "duration_df['duration_hours'] = (duration_df['max'] - duration_df['min']).dt.total_seconds() / 3600\n",
    "\n",
    "# Plot histogram (use more bins to show distribution)\n",
    "plt.figure(figsize=(10, 6))\n",
    "plt.hist(duration_df['duration_hours'], bins=30, color='skyblue', edgecolor='black')\n",
    "plt.xlabel('Time Range of Recorded ItemIDs (hours)')\n",
    "plt.ylabel('Number of Patients')\n",
    "plt.title('Distribution of Recording Duration per Subject')\n",
    "plt.grid(True)\n",
    "plt.tight_layout()\n",
    "plt.show()"
   ]
  },
  {
   "cell_type": "code",
   "execution_count": 96,
   "id": "94bf7e4e-b92c-458e-a987-8fe28e224834",
   "metadata": {},
   "outputs": [
    {
     "name": "stdout",
     "output_type": "stream",
     "text": [
      "Total number of patients in train set: 5466\n"
     ]
    }
   ],
   "source": [
    "print(f\"Total number of patients in train set: {len(combined['subject_id'].unique())}\")"
   ]
  },
  {
   "cell_type": "code",
   "execution_count": 97,
   "id": "4a0c80a9-8b42-417b-9c5d-2eb019d32944",
   "metadata": {},
   "outputs": [
    {
     "data": {
      "text/plain": [
       "(1677065, 8)"
      ]
     },
     "execution_count": 97,
     "metadata": {},
     "output_type": "execute_result"
    }
   ],
   "source": [
    "# Remove patients with < 20h data\n",
    "\n",
    "duration_df = (\n",
    "    combined\n",
    "    .groupby(['subject_id', 'stay_id'])['charttime']\n",
    "    .agg(start_time='min', end_time='max')\n",
    "    .reset_index()\n",
    ")\n",
    "\n",
    "# Calculate duration in hours\n",
    "duration_df['duration_hours'] = (\n",
    "    (duration_df['end_time'] - duration_df['start_time']).dt.total_seconds() / 3600\n",
    ")\n",
    "\n",
    "# Filter to keep only combinations with at least 20 hours\n",
    "valid_stays = duration_df[duration_df['duration_hours'] >= 20][['subject_id', 'stay_id']]\n",
    "\n",
    "# Filter ventilation6 using only valid subject_id & stay_id\n",
    "combined_filtered = combined.merge(valid_stays, on=['subject_id', 'stay_id'], how='inner')\n",
    "\n",
    "# Reset index\n",
    "combined = combined_filtered.reset_index(drop=True)\n",
    "combined.shape"
   ]
  },
  {
   "cell_type": "code",
   "execution_count": 98,
   "id": "ee3b5095-3367-4409-a590-68558ad501a0",
   "metadata": {},
   "outputs": [
    {
     "data": {
      "image/png": "[encoded data removed]",
      "text/plain": [
       "<Figure size 1000x600 with 1 Axes>"
      ]
     },
     "metadata": {},
     "output_type": "display_data"
    }
   ],
   "source": [
    "# Group by subject_id and stay_id and compute duration\n",
    "duration_df = (\n",
    "    combined\n",
    "    .groupby(['subject_id', 'stay_id'])['charttime']\n",
    "    .agg(['min', 'max'])\n",
    "    .reset_index()\n",
    ")\n",
    "\n",
    "# Calculate duration in hours\n",
    "duration_df['duration_hours'] = (duration_df['max'] - duration_df['min']).dt.total_seconds() / 3600\n",
    "\n",
    "# Plot histogram\n",
    "plt.figure(figsize=(10, 6))\n",
    "plt.hist(duration_df['duration_hours'], bins=50, color='skyblue', edgecolor='black')\n",
    "plt.xlabel('Ventilation Duration (hours)')\n",
    "plt.ylabel('Number of Patients')\n",
    "plt.title('Distribution of Ventilation Time per Subject/Stay')\n",
    "plt.grid(True)\n",
    "plt.show()"
   ]
  },
  {
   "cell_type": "code",
   "execution_count": 99,
   "id": "0ac6f763-d70a-43f3-aec4-118dcd76a0d7",
   "metadata": {},
   "outputs": [
    {
     "data": {
      "text/html": [
       "<div>\n",
       "<style scoped>\n",
       "    .dataframe tbody tr th:only-of-type {\n",
       "        vertical-align: middle;\n",
       "    }\n",
       "\n",
       "    .dataframe tbody tr th {\n",
       "        vertical-align: top;\n",
       "    }\n",
       "\n",
       "    .dataframe thead th {\n",
       "        text-align: right;\n",
       "    }\n",
       "</style>\n",
       "<table border=\"1\" class=\"dataframe\">\n",
       "  <thead>\n",
       "    <tr style=\"text-align: right;\">\n",
       "      <th></th>\n",
       "      <th>itemid</th>\n",
       "      <th>label</th>\n",
       "      <th>avg_samples_per_subject_stay</th>\n",
       "    </tr>\n",
       "  </thead>\n",
       "  <tbody>\n",
       "    <tr>\n",
       "      <th>0</th>\n",
       "      <td>50802</td>\n",
       "      <td>Base Excess</td>\n",
       "      <td>3.300922</td>\n",
       "    </tr>\n",
       "    <tr>\n",
       "      <th>1</th>\n",
       "      <td>50803</td>\n",
       "      <td>Calculated Bicarbonate, Whole Blood</td>\n",
       "      <td>1.333333</td>\n",
       "    </tr>\n",
       "    <tr>\n",
       "      <th>2</th>\n",
       "      <td>50806</td>\n",
       "      <td>Chloride, Whole Blood</td>\n",
       "      <td>1.654321</td>\n",
       "    </tr>\n",
       "    <tr>\n",
       "      <th>3</th>\n",
       "      <td>50809</td>\n",
       "      <td>Glucose</td>\n",
       "      <td>2.766744</td>\n",
       "    </tr>\n",
       "    <tr>\n",
       "      <th>4</th>\n",
       "      <td>50810</td>\n",
       "      <td>Hematocrit, Calculated</td>\n",
       "      <td>1.694524</td>\n",
       "    </tr>\n",
       "    <tr>\n",
       "      <th>...</th>\n",
       "      <td>...</td>\n",
       "      <td>...</td>\n",
       "      <td>...</td>\n",
       "    </tr>\n",
       "    <tr>\n",
       "      <th>59</th>\n",
       "      <td>224701</td>\n",
       "      <td>PSV Level</td>\n",
       "      <td>5.711501</td>\n",
       "    </tr>\n",
       "    <tr>\n",
       "      <th>60</th>\n",
       "      <td>224716</td>\n",
       "      <td>SBT Stopped</td>\n",
       "      <td>1.472050</td>\n",
       "    </tr>\n",
       "    <tr>\n",
       "      <th>61</th>\n",
       "      <td>224738</td>\n",
       "      <td>Inspiratory Time</td>\n",
       "      <td>4.181786</td>\n",
       "    </tr>\n",
       "    <tr>\n",
       "      <th>62</th>\n",
       "      <td>228096</td>\n",
       "      <td>Richmond-RAS Scale</td>\n",
       "      <td>5.892097</td>\n",
       "    </tr>\n",
       "    <tr>\n",
       "      <th>63</th>\n",
       "      <td>228640</td>\n",
       "      <td>EtCO2</td>\n",
       "      <td>6.681481</td>\n",
       "    </tr>\n",
       "  </tbody>\n",
       "</table>\n",
       "<p>64 rows × 3 columns</p>\n",
       "</div>"
      ],
      "text/plain": [
       "    itemid                                label  avg_samples_per_subject_stay\n",
       "0    50802                          Base Excess                      3.300922\n",
       "1    50803  Calculated Bicarbonate, Whole Blood                      1.333333\n",
       "2    50806                Chloride, Whole Blood                      1.654321\n",
       "3    50809                              Glucose                      2.766744\n",
       "4    50810               Hematocrit, Calculated                      1.694524\n",
       "..     ...                                  ...                           ...\n",
       "59  224701                            PSV Level                      5.711501\n",
       "60  224716                          SBT Stopped                      1.472050\n",
       "61  224738                     Inspiratory Time                      4.181786\n",
       "62  228096                   Richmond-RAS Scale                      5.892097\n",
       "63  228640                                EtCO2                      6.681481\n",
       "\n",
       "[64 rows x 3 columns]"
      ]
     },
     "execution_count": 99,
     "metadata": {},
     "output_type": "execute_result"
    }
   ],
   "source": [
    "# Group by subject_id, stay_id, and itemid, count number of samples\n",
    "group_counts = (\n",
    "    combined\n",
    "    .groupby(['subject_id', 'stay_id', 'itemid'])\n",
    "    .size()\n",
    "    .reset_index(name='sample_count')\n",
    ")\n",
    "\n",
    "# Compute average sample count per itemid\n",
    "avg_samples = (\n",
    "    group_counts\n",
    "    .groupby('itemid')['sample_count']\n",
    "    .mean()\n",
    "    .reset_index(name='avg_samples_per_subject_stay')\n",
    ")\n",
    "\n",
    "# If 'label' exists and is associated uniquely with itemid, merge it in\n",
    "if 'label' in combined.columns:\n",
    "    itemid_label_map = combined[['itemid', 'label']].drop_duplicates()\n",
    "    avg_samples = avg_samples.merge(itemid_label_map, on='itemid', how='left')\n",
    "\n",
    "# Reorder columns if needed\n",
    "avg_samples = avg_samples[['itemid', 'label', 'avg_samples_per_subject_stay']] if 'label' in avg_samples.columns else avg_samples\n",
    "\n",
    "avg_samples"
   ]
  },
  {
   "cell_type": "code",
   "execution_count": 100,
   "id": "79f32601-2c87-47c4-a526-db9ce361f7df",
   "metadata": {},
   "outputs": [
    {
     "name": "stdout",
     "output_type": "stream",
     "text": [
      "    itemid                                  label  \\\n",
      "0    50802                            Base Excess   \n",
      "1    50803    Calculated Bicarbonate, Whole Blood   \n",
      "2    50806                  Chloride, Whole Blood   \n",
      "3    50809                                Glucose   \n",
      "4    50810                 Hematocrit, Calculated   \n",
      "5    50811                             Hemoglobin   \n",
      "6    50813                                Lactate   \n",
      "7    50818                                   pCO2   \n",
      "8    50820                                     pH   \n",
      "9    50821                                    pO2   \n",
      "10   50822                 Potassium, Whole Blood   \n",
      "11   50824                    Sodium, Whole Blood   \n",
      "12   50861         Alanine Aminotransferase (ALT)   \n",
      "13   50862                                Albumin   \n",
      "14   50863                   Alkaline Phosphatase   \n",
      "15   50885                       Bilirubin, Total   \n",
      "16   50889                     C-Reactive Protein   \n",
      "17   50893                         Calcium, Total   \n",
      "18   50912                             Creatinine   \n",
      "19   50960                              Magnesium   \n",
      "20   50970                              Phosphate   \n",
      "21   50971                              Potassium   \n",
      "22   50983                                 Sodium   \n",
      "23   51006                          Urea Nitrogen   \n",
      "24   51200                            Eosinophils   \n",
      "25   51221                             Hematocrit   \n",
      "26   51222                             Hemoglobin   \n",
      "27   51237                                INR(PT)   \n",
      "28   51256                            Neutrophils   \n",
      "29   51265                         Platelet Count   \n",
      "30   51274                                     PT   \n",
      "31   51275                                    PTT   \n",
      "32   51301                      White Blood Cells   \n",
      "33  123456                          Fluid balance   \n",
      "34  220045                             Heart Rate   \n",
      "35  220050       Arterial Blood Pressure systolic   \n",
      "36  220051      Arterial Blood Pressure diastolic   \n",
      "37  220052           Arterial Blood Pressure mean   \n",
      "38  220179   Non Invasive Blood Pressure systolic   \n",
      "39  220180  Non Invasive Blood Pressure diastolic   \n",
      "40  220181       Non Invasive Blood Pressure mean   \n",
      "41  220210                       Respiratory Rate   \n",
      "42  220277            O2 saturation pulseoxymetry   \n",
      "43  220739                      GCS - Eye Opening   \n",
      "44  223761                 Temperature Fahrenheit   \n",
      "45  223835                   Inspired O2 Fraction   \n",
      "46  223849                        Ventilator Mode   \n",
      "47  223900                  GCS - Verbal Response   \n",
      "48  223901                   GCS - Motor Response   \n",
      "49  224369                          Sputum Amount   \n",
      "50  224685                Tidal Volume (observed)   \n",
      "51  224686             Tidal Volume (spontaneous)   \n",
      "52  224687                          Minute Volume   \n",
      "53  224688                 Respiratory Rate (Set)   \n",
      "54  224689         Respiratory Rate (spontaneous)   \n",
      "55  224695                    Peak Insp. Pressure   \n",
      "56  224696                       Plateau Pressure   \n",
      "57  224697                   Mean Airway Pressure   \n",
      "58  224700                               PEEP set   \n",
      "59  224701                              PSV Level   \n",
      "60  224716                            SBT Stopped   \n",
      "61  224738                       Inspiratory Time   \n",
      "62  228096                     Richmond-RAS Scale   \n",
      "63  228640                                  EtCO2   \n",
      "\n",
      "    avg_samples_per_subject_stay  \n",
      "0                       3.300922  \n",
      "1                       1.333333  \n",
      "2                       1.654321  \n",
      "3                       2.766744  \n",
      "4                       1.694524  \n",
      "5                       1.694524  \n",
      "6                       2.356037  \n",
      "7                       3.305585  \n",
      "8                       3.419179  \n",
      "9                       3.305848  \n",
      "10                      2.654591  \n",
      "11                      1.793750  \n",
      "12                      1.315889  \n",
      "13                      1.313550  \n",
      "14                      1.358650  \n",
      "15                      1.284921  \n",
      "16                      1.111111  \n",
      "17                      1.777522  \n",
      "18                      1.854734  \n",
      "19                      1.890609  \n",
      "20                      1.731227  \n",
      "21                      2.041876  \n",
      "22                      2.025729  \n",
      "23                      1.794689  \n",
      "24                      1.178082  \n",
      "25                      1.883613  \n",
      "26                      1.638169  \n",
      "27                      1.528986  \n",
      "28                      1.222222  \n",
      "29                      1.633455  \n",
      "30                      1.521422  \n",
      "31                      1.592837  \n",
      "32                      1.593471  \n",
      "33                      1.116790  \n",
      "34                     28.882364  \n",
      "35                     27.619134  \n",
      "36                     27.609323  \n",
      "37                     27.594303  \n",
      "38                     18.478587  \n",
      "39                     18.472153  \n",
      "40                     18.507355  \n",
      "41                     28.762297  \n",
      "42                     28.316414  \n",
      "43                      6.995781  \n",
      "44                      7.031676  \n",
      "45                      7.628230  \n",
      "46                      7.475859  \n",
      "47                      6.979283  \n",
      "48                      6.974669  \n",
      "49                      4.605654  \n",
      "50                      6.615693  \n",
      "51                      5.359647  \n",
      "52                      6.725160  \n",
      "53                      4.354232  \n",
      "54                     13.377313  \n",
      "55                      6.470435  \n",
      "56                      3.231724  \n",
      "57                      6.812251  \n",
      "58                      7.507365  \n",
      "59                      5.711501  \n",
      "60                      1.472050  \n",
      "61                      4.181786  \n",
      "62                      5.892097  \n",
      "63                      6.681481  \n"
     ]
    }
   ],
   "source": [
    "with pd.option_context('display.max_rows', None, 'display.max_columns', None):\n",
    "    print(avg_samples)"
   ]
  },
  {
   "cell_type": "code",
   "execution_count": 101,
   "id": "677bb8e1-e445-42cf-87ec-9c8b7df0ff17",
   "metadata": {},
   "outputs": [],
   "source": [
    "combined1 = combined.copy()"
   ]
  },
  {
   "cell_type": "code",
   "execution_count": 102,
   "id": "4e821678-409c-4d48-a2c5-9d9cbd250b12",
   "metadata": {},
   "outputs": [],
   "source": [
    "# Remove features that appear rarely\n",
    "\n",
    "combined1 = combined1[\n",
    "    ~combined1['label'].isin(['SBT Stopped', 'Plateau Pressure', 'Inspiratory Time', 'Respiratory Rate (Set)', 'Calculated Bicarbonate, Whole Blood', 'Chloride, Whole Blood', 'Glucose', 'Hematocrit, Calculated', 'Hemoglobin', 'Potassium, Whole Blood', 'Sodium, Whole Blood'])\n",
    "]"
   ]
  },
  {
   "cell_type": "code",
   "execution_count": 103,
   "id": "60ed549c-9ee7-49d2-882c-0a4059ccdd78",
   "metadata": {},
   "outputs": [
    {
     "data": {
      "text/html": [
       "<div>\n",
       "<style scoped>\n",
       "    .dataframe tbody tr th:only-of-type {\n",
       "        vertical-align: middle;\n",
       "    }\n",
       "\n",
       "    .dataframe tbody tr th {\n",
       "        vertical-align: top;\n",
       "    }\n",
       "\n",
       "    .dataframe thead th {\n",
       "        text-align: right;\n",
       "    }\n",
       "</style>\n",
       "<table border=\"1\" class=\"dataframe\">\n",
       "  <thead>\n",
       "    <tr style=\"text-align: right;\">\n",
       "      <th></th>\n",
       "      <th>subject_id</th>\n",
       "      <th>stay_id</th>\n",
       "      <th>charttime</th>\n",
       "      <th>itemid</th>\n",
       "      <th>value</th>\n",
       "      <th>valuenum</th>\n",
       "      <th>label</th>\n",
       "      <th>ext_success</th>\n",
       "    </tr>\n",
       "  </thead>\n",
       "  <tbody>\n",
       "    <tr>\n",
       "      <th>0</th>\n",
       "      <td>10002428</td>\n",
       "      <td>38875437</td>\n",
       "      <td>2156-04-21 18:00:00</td>\n",
       "      <td>220210</td>\n",
       "      <td>22</td>\n",
       "      <td>22.0</td>\n",
       "      <td>Respiratory Rate</td>\n",
       "      <td>1</td>\n",
       "    </tr>\n",
       "    <tr>\n",
       "      <th>1</th>\n",
       "      <td>10002428</td>\n",
       "      <td>38875437</td>\n",
       "      <td>2156-04-21 18:00:00</td>\n",
       "      <td>220045</td>\n",
       "      <td>111.0</td>\n",
       "      <td>111.0</td>\n",
       "      <td>Heart Rate</td>\n",
       "      <td>1</td>\n",
       "    </tr>\n",
       "    <tr>\n",
       "      <th>2</th>\n",
       "      <td>10002428</td>\n",
       "      <td>38875437</td>\n",
       "      <td>2156-04-21 18:00:00</td>\n",
       "      <td>220050</td>\n",
       "      <td>104.0</td>\n",
       "      <td>104.0</td>\n",
       "      <td>Arterial Blood Pressure systolic</td>\n",
       "      <td>1</td>\n",
       "    </tr>\n",
       "    <tr>\n",
       "      <th>3</th>\n",
       "      <td>10002428</td>\n",
       "      <td>38875437</td>\n",
       "      <td>2156-04-21 18:00:00</td>\n",
       "      <td>220051</td>\n",
       "      <td>55.0</td>\n",
       "      <td>55.0</td>\n",
       "      <td>Arterial Blood Pressure diastolic</td>\n",
       "      <td>1</td>\n",
       "    </tr>\n",
       "    <tr>\n",
       "      <th>4</th>\n",
       "      <td>10002428</td>\n",
       "      <td>38875437</td>\n",
       "      <td>2156-04-21 18:00:00</td>\n",
       "      <td>220052</td>\n",
       "      <td>72.0</td>\n",
       "      <td>72.0</td>\n",
       "      <td>Arterial Blood Pressure mean</td>\n",
       "      <td>1</td>\n",
       "    </tr>\n",
       "  </tbody>\n",
       "</table>\n",
       "</div>"
      ],
      "text/plain": [
       "   subject_id   stay_id           charttime  itemid  value  valuenum  \\\n",
       "0    10002428  38875437 2156-04-21 18:00:00  220210     22      22.0   \n",
       "1    10002428  38875437 2156-04-21 18:00:00  220045  111.0     111.0   \n",
       "2    10002428  38875437 2156-04-21 18:00:00  220050  104.0     104.0   \n",
       "3    10002428  38875437 2156-04-21 18:00:00  220051   55.0      55.0   \n",
       "4    10002428  38875437 2156-04-21 18:00:00  220052   72.0      72.0   \n",
       "\n",
       "                               label  ext_success  \n",
       "0                   Respiratory Rate            1  \n",
       "1                         Heart Rate            1  \n",
       "2   Arterial Blood Pressure systolic            1  \n",
       "3  Arterial Blood Pressure diastolic            1  \n",
       "4       Arterial Blood Pressure mean            1  "
      ]
     },
     "execution_count": 103,
     "metadata": {},
     "output_type": "execute_result"
    }
   ],
   "source": [
    "combined1.head()"
   ]
  },
  {
   "cell_type": "code",
   "execution_count": 104,
   "id": "5ff582f9-f37f-4be7-9bac-b78939798f3b",
   "metadata": {},
   "outputs": [
    {
     "data": {
      "text/plain": [
       "(1628524, 8)"
      ]
     },
     "execution_count": 104,
     "metadata": {},
     "output_type": "execute_result"
    }
   ],
   "source": [
    "combined1.shape"
   ]
  },
  {
   "cell_type": "code",
   "execution_count": 105,
   "id": "4236a24d-d4c5-4647-9e48-c236b7c4b4e7",
   "metadata": {},
   "outputs": [
    {
     "name": "stdout",
     "output_type": "stream",
     "text": [
      "subject_id          0\n",
      "stay_id             0\n",
      "charttime           0\n",
      "itemid              0\n",
      "value          308419\n",
      "valuenum            0\n",
      "label               0\n",
      "ext_success         0\n",
      "dtype: int64\n"
     ]
    }
   ],
   "source": [
    "nan_counts = combined1.isna().sum()\n",
    "print(nan_counts)"
   ]
  },
  {
   "cell_type": "code",
   "execution_count": 106,
   "id": "2d893fd8-84cf-4387-8ebd-5cc50b52c378",
   "metadata": {},
   "outputs": [],
   "source": [
    "combined1 = combined1 [['subject_id', 'stay_id', 'charttime', 'itemid', 'valuenum', 'label', 'ext_success']]"
   ]
  },
  {
   "cell_type": "code",
   "execution_count": 107,
   "id": "4a7c2821-efa1-4bd2-9570-67bab4e468e8",
   "metadata": {},
   "outputs": [
    {
     "data": {
      "text/html": [
       "<div>\n",
       "<style scoped>\n",
       "    .dataframe tbody tr th:only-of-type {\n",
       "        vertical-align: middle;\n",
       "    }\n",
       "\n",
       "    .dataframe tbody tr th {\n",
       "        vertical-align: top;\n",
       "    }\n",
       "\n",
       "    .dataframe thead th {\n",
       "        text-align: right;\n",
       "    }\n",
       "</style>\n",
       "<table border=\"1\" class=\"dataframe\">\n",
       "  <thead>\n",
       "    <tr style=\"text-align: right;\">\n",
       "      <th></th>\n",
       "      <th>subject_id</th>\n",
       "      <th>stay_id</th>\n",
       "      <th>charttime</th>\n",
       "      <th>itemid</th>\n",
       "      <th>valuenum</th>\n",
       "      <th>label</th>\n",
       "      <th>ext_success</th>\n",
       "    </tr>\n",
       "  </thead>\n",
       "  <tbody>\n",
       "    <tr>\n",
       "      <th>0</th>\n",
       "      <td>10002428</td>\n",
       "      <td>38875437</td>\n",
       "      <td>2156-04-21 18:00:00</td>\n",
       "      <td>220210</td>\n",
       "      <td>22.0</td>\n",
       "      <td>Respiratory Rate</td>\n",
       "      <td>1</td>\n",
       "    </tr>\n",
       "    <tr>\n",
       "      <th>1</th>\n",
       "      <td>10002428</td>\n",
       "      <td>38875437</td>\n",
       "      <td>2156-04-21 18:00:00</td>\n",
       "      <td>220045</td>\n",
       "      <td>111.0</td>\n",
       "      <td>Heart Rate</td>\n",
       "      <td>1</td>\n",
       "    </tr>\n",
       "    <tr>\n",
       "      <th>2</th>\n",
       "      <td>10002428</td>\n",
       "      <td>38875437</td>\n",
       "      <td>2156-04-21 18:00:00</td>\n",
       "      <td>220050</td>\n",
       "      <td>104.0</td>\n",
       "      <td>Arterial Blood Pressure systolic</td>\n",
       "      <td>1</td>\n",
       "    </tr>\n",
       "    <tr>\n",
       "      <th>3</th>\n",
       "      <td>10002428</td>\n",
       "      <td>38875437</td>\n",
       "      <td>2156-04-21 18:00:00</td>\n",
       "      <td>220051</td>\n",
       "      <td>55.0</td>\n",
       "      <td>Arterial Blood Pressure diastolic</td>\n",
       "      <td>1</td>\n",
       "    </tr>\n",
       "    <tr>\n",
       "      <th>4</th>\n",
       "      <td>10002428</td>\n",
       "      <td>38875437</td>\n",
       "      <td>2156-04-21 18:00:00</td>\n",
       "      <td>220052</td>\n",
       "      <td>72.0</td>\n",
       "      <td>Arterial Blood Pressure mean</td>\n",
       "      <td>1</td>\n",
       "    </tr>\n",
       "  </tbody>\n",
       "</table>\n",
       "</div>"
      ],
      "text/plain": [
       "   subject_id   stay_id           charttime  itemid  valuenum  \\\n",
       "0    10002428  38875437 2156-04-21 18:00:00  220210      22.0   \n",
       "1    10002428  38875437 2156-04-21 18:00:00  220045     111.0   \n",
       "2    10002428  38875437 2156-04-21 18:00:00  220050     104.0   \n",
       "3    10002428  38875437 2156-04-21 18:00:00  220051      55.0   \n",
       "4    10002428  38875437 2156-04-21 18:00:00  220052      72.0   \n",
       "\n",
       "                               label  ext_success  \n",
       "0                   Respiratory Rate            1  \n",
       "1                         Heart Rate            1  \n",
       "2   Arterial Blood Pressure systolic            1  \n",
       "3  Arterial Blood Pressure diastolic            1  \n",
       "4       Arterial Blood Pressure mean            1  "
      ]
     },
     "execution_count": 107,
     "metadata": {},
     "output_type": "execute_result"
    }
   ],
   "source": [
    "combined1.head()"
   ]
  },
  {
   "cell_type": "code",
   "execution_count": 108,
   "id": "0d2b5b36-b72c-418e-b989-e71d2440201f",
   "metadata": {},
   "outputs": [
    {
     "name": "stdout",
     "output_type": "stream",
     "text": [
      "subject_id     0\n",
      "stay_id        0\n",
      "charttime      0\n",
      "itemid         0\n",
      "valuenum       0\n",
      "label          0\n",
      "ext_success    0\n",
      "dtype: int64\n"
     ]
    }
   ],
   "source": [
    "nan_counts = combined1.isna().sum()\n",
    "print(nan_counts)"
   ]
  },
  {
   "cell_type": "code",
   "execution_count": 109,
   "id": "e9f0e1b4-37a3-406a-bc78-ee4dcbd11120",
   "metadata": {},
   "outputs": [],
   "source": [
    "from sklearn.model_selection import train_test_split"
   ]
  },
  {
   "cell_type": "code",
   "execution_count": 110,
   "id": "0c731d4a-1009-4f9b-b47b-6e1db302c9a2",
   "metadata": {},
   "outputs": [],
   "source": [
    "def calculate_patient_synthetic_data_proportion(patient_data, target_frequency=13):\n",
    "    patient_synthetic_data_proportion = {}\n",
    "    for patient_id, group in patient_data.groupby('subject_id'):\n",
    "        observed_count = group['label'].count()\n",
    "        total_expected = len(group) * target_frequency\n",
    "        synthetic_count = total_expected - observed_count\n",
    "        synthetic_proportion = synthetic_count / total_expected\n",
    "        patient_synthetic_data_proportion[patient_id] = synthetic_proportion\n",
    "    return patient_synthetic_data_proportion  "
   ]
  },
  {
   "cell_type": "code",
   "execution_count": 111,
   "id": "bbdbee28-274f-4474-82a4-69c0eee41262",
   "metadata": {},
   "outputs": [],
   "source": [
    "def create_synthetic_data_proportion_df(patient_data):\n",
    "    synthetic_data_proportion = calculate_patient_synthetic_data_proportion(patient_data)\n",
    "    synthetic_df = pd.DataFrame(list(synthetic_data_proportion.items()), columns=['subject_id', 'synthetic_proportion'])\n",
    "    return synthetic_df"
   ]
  },
  {
   "cell_type": "code",
   "execution_count": 112,
   "id": "5f17d712-1aae-439c-8827-cd385a679fae",
   "metadata": {},
   "outputs": [],
   "source": [
    "def stratified_split(patient_data, test_size=0.2, random_state=42):\n",
    "    synthetic_df = create_synthetic_data_proportion_df(patient_data)\n",
    "    train_ids, test_ids = train_test_split(\n",
    "        synthetic_df['subject_id'],\n",
    "        test_size=test_size,\n",
    "        random_state=random_state,\n",
    "        stratify=synthetic_df['synthetic_proportion']\n",
    "    )\n",
    "    train_data = patient_data[patient_data['subject_id'].isin(train_ids)]\n",
    "    test_data = patient_data[patient_data['subject_id'].isin(test_ids)]\n",
    "    return train_data, test_data"
   ]
  },
  {
   "cell_type": "code",
   "execution_count": 113,
   "id": "8f3ac8a1-7a26-46a8-854e-2c68733b967e",
   "metadata": {},
   "outputs": [
    {
     "name": "stdout",
     "output_type": "stream",
     "text": [
      "Total number of patients in train set: 4161\n",
      "Total number of patients in test set: 1041\n"
     ]
    }
   ],
   "source": [
    "# Split into train and test data\n",
    "train_data, test_data = stratified_split(combined1, test_size=0.2, random_state=42)\n",
    "\n",
    "print(f\"Total number of patients in train set: {len(train_data['subject_id'].unique())}\")\n",
    "print(f\"Total number of patients in test set: {len(test_data['subject_id'].unique())}\")"
   ]
  },
  {
   "cell_type": "code",
   "execution_count": 114,
   "id": "13794404-9728-483b-bc81-d276b94e5413",
   "metadata": {},
   "outputs": [],
   "source": [
    "def compare_class_distributions(train_df, test_df, target_col):\n",
    "    train_class_distribution = train_df[target_col].value_counts(normalize=True)\n",
    "    test_class_distribution = test_df[target_col].value_counts(normalize=True)\n",
    "\n",
    "    print(\"Train Class Distribution:\")\n",
    "    print(train_class_distribution)\n",
    "    print(\"\\nTest Class Distribution:\")\n",
    "    print(test_class_distribution)"
   ]
  },
  {
   "cell_type": "code",
   "execution_count": 115,
   "id": "08c81618-5786-44b0-883c-0bb456014abf",
   "metadata": {},
   "outputs": [
    {
     "name": "stdout",
     "output_type": "stream",
     "text": [
      "Train Class Distribution:\n",
      "ext_success\n",
      "1    0.777082\n",
      "0    0.222918\n",
      "Name: proportion, dtype: float64\n",
      "\n",
      "Test Class Distribution:\n",
      "ext_success\n",
      "1    0.762691\n",
      "0    0.237309\n",
      "Name: proportion, dtype: float64\n"
     ]
    }
   ],
   "source": [
    "# Outcome proportions between test and train datasets\n",
    "\n",
    "compare_class_distributions(train_data, test_data, 'ext_success')"
   ]
  },
  {
   "cell_type": "code",
   "execution_count": 116,
   "id": "876ac509-d22e-4d72-a2fd-f6a5856645df",
   "metadata": {},
   "outputs": [],
   "source": [
    "# Define the neurology labels to extract\n",
    "neurology_labels = [\"GCS - Eye Opening\", \"GCS - Verbal Response\", \"GCS - Motor Response\", \"Richmond-RAS Scale\"]\n",
    "\n",
    "# Create neurology DataFrames\n",
    "neurology_train = train_data[train_data['label'].isin(neurology_labels)].copy()\n",
    "neurology_test = test_data[test_data['label'].isin(neurology_labels)].copy()\n",
    "\n",
    "# Remove neurology rows from original train/test\n",
    "train_data = train_data[~train_data['label'].isin(neurology_labels)].copy()\n",
    "test_data = test_data[~test_data['label'].isin(neurology_labels)].copy()"
   ]
  },
  {
   "cell_type": "code",
   "execution_count": 117,
   "id": "0903d328-2349-47f9-b21e-b98d8c6e45b6",
   "metadata": {},
   "outputs": [],
   "source": [
    "from sklearn.preprocessing import MaxAbsScaler, MinMaxScaler\n",
    "\n",
    "# Copy original data\n",
    "neurology_train1 = neurology_train.copy()\n",
    "neurology_test1 = neurology_test.copy()\n",
    "\n",
    "### --- RAS Scaling --- ###\n",
    "# Isolate Richmond-RAS Scale rows (train)\n",
    "rass_label = \"Richmond-RAS Scale\"\n",
    "rass_train_mask = neurology_train1['label'] == rass_label\n",
    "rass_train_data = neurology_train1.loc[rass_train_mask, ['valuenum']]\n",
    "\n",
    "# Fit scaler on train only\n",
    "rass_scaler = MaxAbsScaler()\n",
    "rass_scaled_train = rass_scaler.fit_transform(rass_train_data)\n",
    "\n",
    "# Assign to train\n",
    "neurology_train1.loc[rass_train_mask, 'valuenum_normalized'] = rass_scaled_train\n",
    "\n",
    "# Isolate Richmond-RAS Scale rows (test)\n",
    "rass_test_mask = neurology_test1['label'] == rass_label\n",
    "rass_test_data = neurology_test1.loc[rass_test_mask, ['valuenum']]\n",
    "\n",
    "# Transform test using train-fitted scaler\n",
    "rass_scaled_test = rass_scaler.transform(rass_test_data)\n",
    "\n",
    "# Assign to test\n",
    "neurology_test1.loc[rass_test_mask, 'valuenum_normalized'] = rass_scaled_test\n",
    "\n",
    "### --- GCS Scaling --- ###\n",
    "# GCS labels\n",
    "gcs_labels = [\"GCS - Eye Opening\", \"GCS - Verbal Response\", \"GCS - Motor Response\"]\n",
    "\n",
    "# Isolate GCS rows (train)\n",
    "gcs_train_mask = neurology_train1['label'].isin(gcs_labels)\n",
    "gcs_train_data = neurology_train1.loc[gcs_train_mask, ['valuenum']]\n",
    "\n",
    "# Fit scaler on train only\n",
    "gcs_scaler = MinMaxScaler()\n",
    "gcs_scaled_train = gcs_scaler.fit_transform(gcs_train_data)\n",
    "\n",
    "# Assign to train\n",
    "neurology_train1.loc[gcs_train_mask, 'valuenum_normalized'] = gcs_scaled_train\n",
    "\n",
    "# Isolate GCS rows (test)\n",
    "gcs_test_mask = neurology_test1['label'].isin(gcs_labels)\n",
    "gcs_test_data = neurology_test1.loc[gcs_test_mask, ['valuenum']]\n",
    "\n",
    "# Transform test using train-fitted scaler\n",
    "gcs_scaled_test = gcs_scaler.transform(gcs_test_data)\n",
    "\n",
    "# Assign to test\n",
    "neurology_test1.loc[gcs_test_mask, 'valuenum_normalized'] = gcs_scaled_test"
   ]
  },
  {
   "cell_type": "code",
   "execution_count": 118,
   "id": "c17745b3-f0d1-4848-94ed-0d5f5b956a03",
   "metadata": {},
   "outputs": [],
   "source": [
    "import os\n",
    "\n",
    "neurology_train1.to_csv(\"/Users/mmurali1/Documents/Imperial/MIMICIV_analysis/neurology_cleaned_train.csv\", index=False)\n",
    "neurology_test1.to_csv(\"/Users/mmurali1/Documents/Imperial/MIMICIV_analysis/neurology_cleaned_test.csv\", index=False)"
   ]
  },
  {
   "cell_type": "code",
   "execution_count": 119,
   "id": "0e95a681-2f8e-4bd9-bacf-8bfb657f69d8",
   "metadata": {},
   "outputs": [],
   "source": [
    "# Define fluid balance labels to extract\n",
    "fb_labels = [\"Fluid balance\"]\n",
    "\n",
    "# Create fb DataFrames\n",
    "fb_train = train_data[train_data['label'].isin(fb_labels)].copy()\n",
    "fb_test = test_data[test_data['label'].isin(fb_labels)].copy()\n",
    "\n",
    "# Remove fb rows from original train/test\n",
    "train_data = train_data[~train_data['label'].isin(fb_labels)].copy()\n",
    "test_data = test_data[~test_data['label'].isin(fb_labels)].copy()"
   ]
  },
  {
   "cell_type": "code",
   "execution_count": 120,
   "id": "0059043c-a871-4841-ab05-9f771740c239",
   "metadata": {},
   "outputs": [],
   "source": [
    "scaler = MaxAbsScaler()\n",
    "scaler.fit(fb_train[['valuenum']])  # fit only on training data\n",
    "\n",
    "fb_train['valuenum_normalized'] = scaler.transform(fb_train[['valuenum']])\n",
    "fb_test['valuenum_normalized'] = scaler.transform(fb_test[['valuenum']])"
   ]
  },
  {
   "cell_type": "code",
   "execution_count": 121,
   "id": "f35247a4-3746-4121-a88c-a7a5d9632883",
   "metadata": {},
   "outputs": [],
   "source": [
    "import os\n",
    "\n",
    "fb_train.to_csv(\"/Users/mmurali1/Documents/Imperial/MIMICIV_analysis/fb_cleaned_train.csv\", index=False)\n",
    "fb_test.to_csv(\"/Users/mmurali1/Documents/Imperial/MIMICIV_analysis/fb_cleaned_test.csv\", index=False)"
   ]
  },
  {
   "cell_type": "code",
   "execution_count": 122,
   "id": "2721b597-06c4-458c-b53b-453992e93fcd",
   "metadata": {},
   "outputs": [],
   "source": [
    "# Normalise each value using MinMaxScalar\n",
    "\n",
    "scalers = {}\n",
    "train_normalized = []\n",
    "\n",
    "for itemid, group in train_data.groupby('itemid'):\n",
    "    scaler = MinMaxScaler()\n",
    "    group = group.copy()\n",
    "    group['valuenum_normalized'] = scaler.fit_transform(group[['valuenum']])\n",
    "    scalers[itemid] = scaler  # Save the fitted scaler\n",
    "    train_normalized.append(group)\n",
    "\n",
    "# Concatenate all normalized train groups\n",
    "train_data = pd.concat(train_normalized, ignore_index=True)\n",
    "\n",
    "# Use the same scalers to transform test_data to avoid data leakage\n",
    "test_normalized = []\n",
    "\n",
    "for itemid, group in test_data.groupby('itemid'):\n",
    "    group = group.copy()\n",
    "    scaler = scalers.get(itemid, None)\n",
    "    \n",
    "    if scaler is not None:\n",
    "        # Only normalize if a scaler was fitted for this itemid\n",
    "        group['valuenum_normalized'] = scaler.transform(group[['valuenum']])\n",
    "    else:\n",
    "        # If no scaler found (e.g., new itemid only in test), you can either:\n",
    "        # - skip normalization\n",
    "        # - or fill with NaNs or a placeholder\n",
    "        group['valuenum_normalized'] = None\n",
    "    \n",
    "    test_normalized.append(group)\n",
    "\n",
    "# Concatenate all normalized test groups\n",
    "test_data = pd.concat(test_normalized, ignore_index=True)"
   ]
  },
  {
   "cell_type": "code",
   "execution_count": 123,
   "id": "6dc61f23-dc1e-4070-8d9d-5d65c9198e0a",
   "metadata": {},
   "outputs": [],
   "source": [
    "train_data = train_data[['subject_id', 'stay_id', 'charttime', 'itemid', 'label', 'valuenum_normalized', 'ext_success']]\n",
    "train_data = train_data.sort_values(by=['subject_id', 'charttime']).reset_index(drop=True)"
   ]
  },
  {
   "cell_type": "code",
   "execution_count": 124,
   "id": "1ab44a43-d6c5-4053-ad03-002cc4cb601b",
   "metadata": {},
   "outputs": [],
   "source": [
    "test_data = test_data[['subject_id', 'stay_id', 'charttime', 'itemid', 'label', 'valuenum_normalized', 'ext_success']]\n",
    "test_data = test_data.sort_values(by=['subject_id', 'charttime']).reset_index(drop=True)"
   ]
  },
  {
   "cell_type": "code",
   "execution_count": 125,
   "id": "1faffa53-fbfa-461e-b1e5-a6ca8a51f4c2",
   "metadata": {},
   "outputs": [
    {
     "data": {
      "text/plain": [
       "(1186959, 7)"
      ]
     },
     "execution_count": 125,
     "metadata": {},
     "output_type": "execute_result"
    }
   ],
   "source": [
    "train_data.shape"
   ]
  },
  {
   "cell_type": "code",
   "execution_count": 126,
   "id": "116063f5-d9ff-4696-9551-afb6afaf3d80",
   "metadata": {},
   "outputs": [
    {
     "data": {
      "text/plain": [
       "(301714, 7)"
      ]
     },
     "execution_count": 126,
     "metadata": {},
     "output_type": "execute_result"
    }
   ],
   "source": [
    "test_data.shape"
   ]
  },
  {
   "cell_type": "code",
   "execution_count": 127,
   "id": "0f74a5c0-7b23-404d-a358-48b2f9839dab",
   "metadata": {},
   "outputs": [],
   "source": [
    "import os\n",
    "\n",
    "train_data.to_csv(\"/Users/mmurali1/Documents/Imperial/MIMICIV_analysis/combined_cleaned_train.csv\", index=False)\n",
    "test_data.to_csv(\"/Users/mmurali1/Documents/Imperial/MIMICIV_analysis/combined_cleaned_test.csv\", index=False)"
   ]
  },
  {
   "cell_type": "code",
   "execution_count": null,
   "id": "93027b2b-bc52-44cf-b4a0-33507122fb31",
   "metadata": {},
   "outputs": [],
   "source": []
  }
 ],
 "metadata": {
  "kernelspec": {
   "display_name": "Python 3 (ipykernel)",
   "language": "python",
   "name": "python3"
  },
  "language_info": {
   "codemirror_mode": {
    "name": "ipython",
    "version": 3
   },
   "file_extension": ".py",
   "mimetype": "text/x-python",
   "name": "python",
   "nbconvert_exporter": "python",
   "pygments_lexer": "ipython3",
   "version": "3.12.7"
  }
 },
 "nbformat": 4,
 "nbformat_minor": 5
}
